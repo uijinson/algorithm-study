{
 "cells": [
  {
   "cell_type": "markdown",
   "metadata": {},
   "source": [
    "# **프린터**"
   ]
  },
  {
   "cell_type": "markdown",
   "metadata": {},
   "source": [
    "![프린터](lv2\\프린터.png)"
   ]
  },
  {
   "cell_type": "code",
   "execution_count": 52,
   "metadata": {},
   "outputs": [],
   "source": [
    "def solution(priority,location):\n",
    "    answer=[]\n",
    "    p=[(idx, x) for idx, x in enumerate(priority)]\n",
    "    backup=p[location]\n",
    "    \n",
    "    \n",
    "    \n",
    "    while priority:\n",
    "        if p[0][1]==max(priority):\n",
    "            answer.append(p.pop(0))\n",
    "            priority.remove(max(priority))\n",
    "        else:\n",
    "            p.append(p.pop(0))\n",
    "        \n",
    "    \n",
    "    return answer.index(backup)+1"
   ]
  },
  {
   "cell_type": "markdown",
   "metadata": {},
   "source": [
    "**총평 : 스택 구조 활용,, 처음에 인덱스 추가 없이 반복문 돌렸을 때, 두번째 test case에서 막혔다.**"
   ]
  },
  {
   "cell_type": "markdown",
   "metadata": {},
   "source": [
    "다른사람풀이(any 활용)"
   ]
  },
  {
   "cell_type": "code",
   "execution_count": 53,
   "metadata": {},
   "outputs": [],
   "source": [
    "def solution(priorities, location):\n",
    "    queue =  [(i,p) for i,p in enumerate(priorities)]\n",
    "    answer = 0\n",
    "    while True:\n",
    "        cur = queue.pop(0)\n",
    "        if any(cur[1] < q[1] for q in queue):\n",
    "            queue.append(cur)\n",
    "        else:\n",
    "            answer += 1\n",
    "            if cur[0] == location:\n",
    "                return answer\n",
    "                "
   ]
  },
  {
   "cell_type": "markdown",
   "metadata": {},
   "source": [
    "------------------------------------------------------------------------------"
   ]
  },
  {
   "cell_type": "markdown",
   "metadata": {},
   "source": [
    "# **124 나라의 숫자**"
   ]
  },
  {
   "cell_type": "markdown",
   "metadata": {},
   "source": [
    "![124나라의 숫자](lv2\\124나라.png)"
   ]
  },
  {
   "cell_type": "code",
   "execution_count": 54,
   "metadata": {},
   "outputs": [],
   "source": [
    "def solution(n):\n",
    "    a='412'\n",
    "    answer=''\n",
    "    while n:\n",
    "        n,rem=divmod(n,3)\n",
    "        answer=a[rem]+answer\n",
    "        if not rem:\n",
    "            n-=1\n",
    "    return answer"
   ]
  },
  {
   "cell_type": "code",
   "execution_count": 55,
   "metadata": {},
   "outputs": [
    {
     "data": {
      "text/plain": [
       "'41'"
      ]
     },
     "execution_count": 55,
     "metadata": {},
     "output_type": "execute_result"
    }
   ],
   "source": [
    "solution(10)"
   ]
  },
  {
   "cell_type": "markdown",
   "metadata": {},
   "source": [
    "**총평 : 진법 문제를 많이 풀어본 경험이 있어서 손쉽게 해결**"
   ]
  },
  {
   "cell_type": "markdown",
   "metadata": {},
   "source": [
    "# **멀쩡한 사각형**"
   ]
  },
  {
   "cell_type": "markdown",
   "metadata": {},
   "source": [
    "![](lv2\\멀쩡한사각형.png)"
   ]
  },
  {
   "cell_type": "code",
   "execution_count": 56,
   "metadata": {},
   "outputs": [],
   "source": [
    "def gcd(a,b):\n",
    "    return b if a%b==0 else gcd(b,a%b)\n",
    "def solution(w,h):\n",
    "    return w*h-(w+h-gcd(w,h))"
   ]
  },
  {
   "cell_type": "code",
   "execution_count": 57,
   "metadata": {},
   "outputs": [
    {
     "data": {
      "text/plain": [
       "80"
      ]
     },
     "execution_count": 57,
     "metadata": {},
     "output_type": "execute_result"
    }
   ],
   "source": [
    "solution(8,12)"
   ]
  },
  {
   "cell_type": "markdown",
   "metadata": {},
   "source": [
    "**총평: 최대 공약수 문제. 위와 같이 x,y좌표를 그리면 x는 2의 배수, y는 3의 배수가 된다. 대각선의 교점을 세면 4개로 w,h의 최대 공약수가 된다.\n",
    "최대 공약수가 1인 경우, 사라지는 사각형은 w+h-1로 위의 경우 4개. 이러면 사라지는 사각형의 총 개수는 g * (w/g+h/g-1)로 16개.**"
   ]
  },
  {
   "cell_type": "markdown",
   "metadata": {},
   "source": [
    "--------------------------------------------------------------------------------------------"
   ]
  },
  {
   "cell_type": "markdown",
   "metadata": {},
   "source": [
    "# **타겟넘버**"
   ]
  },
  {
   "cell_type": "markdown",
   "metadata": {},
   "source": [
    "![](lv2\\타겟넘버.png)"
   ]
  },
  {
   "cell_type": "code",
   "execution_count": 14,
   "metadata": {},
   "outputs": [],
   "source": [
    "def solution(numbers,target):\n",
    "    sup=[0]\n",
    "    for i in numbers:\n",
    "        sub=[]\n",
    "        for j in sup:\n",
    "            sub.append(j+i)\n",
    "            sub.append(j-i)\n",
    "        sup=sub\n",
    "    return sup.count(target)"
   ]
  },
  {
   "cell_type": "code",
   "execution_count": 15,
   "metadata": {},
   "outputs": [
    {
     "data": {
      "text/plain": [
       "3"
      ]
     },
     "execution_count": 15,
     "metadata": {},
     "output_type": "execute_result"
    }
   ],
   "source": [
    "solution([1,2,3,4,5],3)"
   ]
  },
  {
   "cell_type": "markdown",
   "metadata": {},
   "source": [
    "**총평 : 트리구조를 처음에 생각을 못해서 시간이 너무 오래 걸렸음...**"
   ]
  },
  {
   "cell_type": "markdown",
   "metadata": {},
   "source": [
    "다른사람 풀이(nonlocal 활용)"
   ]
  },
  {
   "cell_type": "code",
   "execution_count": 16,
   "metadata": {},
   "outputs": [],
   "source": [
    "def solution(numbers,target):\n",
    "    cnt=0\n",
    "    def dfs(idx=0):\n",
    "        if idx<len(numbers):\n",
    "            numbers[idx]*=1\n",
    "            dfs(idx+1)\n",
    "            \n",
    "            numbers[idx]*=-1\n",
    "            dfs(idx+1)\n",
    "        elif sum(numbers)==target:\n",
    "            nonlocal cnt\n",
    "            cnt+=1\n",
    "    dfs()\n",
    "    return cnt"
   ]
  },
  {
   "cell_type": "code",
   "execution_count": 17,
   "metadata": {},
   "outputs": [
    {
     "data": {
      "text/plain": [
       "5"
      ]
     },
     "execution_count": 17,
     "metadata": {},
     "output_type": "execute_result"
    }
   ],
   "source": [
    "solution([1, 1, 1, 1, 1],3)"
   ]
  },
  {
   "cell_type": "markdown",
   "metadata": {},
   "source": [
    "---------------------------------------------------------------------------"
   ]
  },
  {
   "cell_type": "markdown",
   "metadata": {},
   "source": [
    "# **주식가격**"
   ]
  },
  {
   "cell_type": "markdown",
   "metadata": {},
   "source": [
    "![](.\\lv2\\주식가격.png)"
   ]
  },
  {
   "cell_type": "code",
   "execution_count": 25,
   "metadata": {},
   "outputs": [],
   "source": [
    "prices=[1, 2, 3, 2, 3]"
   ]
  },
  {
   "cell_type": "code",
   "execution_count": 26,
   "metadata": {},
   "outputs": [],
   "source": [
    "from collections import deque\n",
    "def solution(prices):\n",
    "    answer=[]\n",
    "    queue=deque(prices)\n",
    "    while queue:\n",
    "        p=queue.popleft()\n",
    "        time=0\n",
    "        for i in queue:\n",
    "            time+=1\n",
    "            if p>i:\n",
    "                break\n",
    "        answer.append(time)\n",
    "\n",
    "    return answer\n",
    "    \n",
    "    "
   ]
  },
  {
   "cell_type": "code",
   "execution_count": 28,
   "metadata": {},
   "outputs": [
    {
     "data": {
      "text/plain": [
       "[4, 3, 1, 1, 0]"
      ]
     },
     "execution_count": 28,
     "metadata": {},
     "output_type": "execute_result"
    }
   ],
   "source": [
    "solution(prices)"
   ]
  },
  {
   "cell_type": "markdown",
   "metadata": {},
   "source": [
    "**총평: 큐 활용**"
   ]
  },
  {
   "cell_type": "markdown",
   "metadata": {},
   "source": [
    "--------------------------------------------------------------------"
   ]
  },
  {
   "cell_type": "markdown",
   "metadata": {},
   "source": [
    "# **기능개발**"
   ]
  },
  {
   "cell_type": "markdown",
   "metadata": {},
   "source": [
    "![](.\\lv2\\기능개발.png)"
   ]
  },
  {
   "cell_type": "code",
   "execution_count": 39,
   "metadata": {},
   "outputs": [],
   "source": [
    "def solution(progresses,speeds):\n",
    "    answer=[]\n",
    "    tmp=[]\n",
    "    for p,s in zip(progresses,speeds):\n",
    "        day=0\n",
    "        while True:\n",
    "            p+=s\n",
    "            day+=1\n",
    "            if p>=100:\n",
    "                tmp.append(day)\n",
    "                break\n",
    "                \n",
    "                \n",
    "    for d in range(len(tmp)):\n",
    "        if d==0:\n",
    "            maxa=tmp[d]\n",
    "            answer.append(1)\n",
    "            continue\n",
    "        elif maxa>=tmp[d]:\n",
    "            answer[-1]+=1\n",
    "        else:\n",
    "            maxa=tmp[d]\n",
    "            answer.append(1)\n",
    "    return answer"
   ]
  },
  {
   "cell_type": "code",
   "execution_count": 40,
   "metadata": {},
   "outputs": [
    {
     "data": {
      "text/plain": [
       "[2, 1]"
      ]
     },
     "execution_count": 40,
     "metadata": {},
     "output_type": "execute_result"
    }
   ],
   "source": [
    "solution(progresses,speeds)"
   ]
  },
  {
   "cell_type": "markdown",
   "metadata": {},
   "source": [
    "**총평 : 구현하듯이 풀어버렸지만 문제의 의도는 다른 사람의 풀이처럼 스택큐를 활용하는 것이다....**"
   ]
  },
  {
   "cell_type": "code",
   "execution_count": 38,
   "metadata": {},
   "outputs": [
    {
     "data": {
      "text/plain": [
       "[2, 1]"
      ]
     },
     "execution_count": 38,
     "metadata": {},
     "output_type": "execute_result"
    }
   ],
   "source": [
    "def solution(progresses, speeds):\n",
    "    Q=[]\n",
    "    for p, s in zip(progresses, speeds):\n",
    "        if len(Q)==0 or Q[-1][0]<-((p-100)//s):\n",
    "            Q.append([-((p-100)//s),1])\n",
    "        else:\n",
    "            Q[-1][1]+=1\n",
    "    return [q[1] for q in Q]\n",
    "solution(progresses,speeds)\n"
   ]
  },
  {
   "cell_type": "markdown",
   "metadata": {},
   "source": [
    "--------------------------------------------------------------------------"
   ]
  },
  {
   "cell_type": "markdown",
   "metadata": {},
   "source": [
    "# **다리를 지나는 트럭**"
   ]
  },
  {
   "cell_type": "markdown",
   "metadata": {},
   "source": [
    "![](lv2\\다리를지나는트럭.png)"
   ]
  },
  {
   "cell_type": "code",
   "execution_count": null,
   "metadata": {},
   "outputs": [],
   "source": [
    "bridge_length=2\n",
    "weight=10\n",
    "truck_weights=[7,4,5,6]"
   ]
  },
  {
   "cell_type": "code",
   "execution_count": null,
   "metadata": {},
   "outputs": [],
   "source": [
    "def solution(bridge_length,weight,truck_weights):\n",
    "    answer=0\n",
    "    bridge=[0]*bridge_length\n",
    "    \n",
    "    while bridge:\n",
    "        answer+=1\n",
    "        bridge.pop(0)\n",
    "        if truck_weights:\n",
    "            if sum(bridge)+truck_weights[0]<=weight:\n",
    "                bridge.append(truck_weights.pop(0))\n",
    "            else:\n",
    "                bridge.append(0)\n",
    "    return answer"
   ]
  },
  {
   "cell_type": "code",
   "execution_count": 5,
   "metadata": {},
   "outputs": [],
   "source": [
    "solution(bridge_length,weight,truck_weights)"
   ]
  },
  {
   "cell_type": "markdown",
   "metadata": {},
   "source": [
    "**총평 : 브릿지라는 큐에서 현 브릿지와 대기트럭의 첫 번째 를 합하여 다리 하중을 견딜 수 있으면 브릿지에 추가 없으면 브릿지에 0을 추가**"
   ]
  },
  {
   "cell_type": "markdown",
   "metadata": {},
   "source": [
    "--------------------------------------------------------------------------------------"
   ]
  },
  {
   "cell_type": "markdown",
   "metadata": {},
   "source": [
    "# **스킬트리**"
   ]
  },
  {
   "cell_type": "markdown",
   "metadata": {},
   "source": [
    "![](lv2\\스킬트리.png)"
   ]
  },
  {
   "cell_type": "code",
   "execution_count": 15,
   "metadata": {},
   "outputs": [],
   "source": [
    "skill=\"CBD\"\n",
    "\n",
    "skill_tree=[\"BACDE\", \"CBADF\", \"AECB\", \"BDA\"]"
   ]
  },
  {
   "cell_type": "code",
   "execution_count": 36,
   "metadata": {},
   "outputs": [],
   "source": [
    "def solution(skill,skill_tree):\n",
    "    answer=0\n",
    "    for i in range(len(skill_tree)):\n",
    "        tmp=''\n",
    "        isok=True\n",
    "        for j in skill_tree[i]:\n",
    "            if skill.find(j) != -1:\n",
    "                tmp+=j\n",
    "        for t in range(len(tmp)):\n",
    "            if skill[t]!=tmp[t]:\n",
    "                isok=False\n",
    "                break\n",
    "        if isok:\n",
    "            answer+=1\n",
    "    return answer\n",
    "            \n",
    "            \n",
    "        "
   ]
  },
  {
   "cell_type": "code",
   "execution_count": 38,
   "metadata": {},
   "outputs": [
    {
     "data": {
      "text/plain": [
       "2"
      ]
     },
     "execution_count": 38,
     "metadata": {},
     "output_type": "execute_result"
    }
   ],
   "source": [
    "solution(skill,skill_tree)"
   ]
  },
  {
   "cell_type": "markdown",
   "metadata": {},
   "source": [
    "**총평 : 스킬트리에서 skill 요소만 찾아 서로 비교하여 통과하면 answer에 1 추가**"
   ]
  },
  {
   "cell_type": "markdown",
   "metadata": {},
   "source": [
    "다른사람풀이 (파이썬은 for~else문을 지원)"
   ]
  },
  {
   "cell_type": "code",
   "execution_count": 39,
   "metadata": {},
   "outputs": [],
   "source": [
    "def solution(skill, skill_trees):\n",
    "    answer = 0\n",
    "\n",
    "    for skills in skill_trees:\n",
    "        skill_list = list(skill)\n",
    "\n",
    "        for s in skills:\n",
    "            if s in skill:\n",
    "                if s != skill_list.pop(0):\n",
    "                    break\n",
    "        else:\n",
    "            answer += 1\n",
    "\n",
    "    return answer"
   ]
  },
  {
   "cell_type": "markdown",
   "metadata": {},
   "source": [
    "----------------------------------------------------------------------"
   ]
  },
  {
   "cell_type": "markdown",
   "metadata": {},
   "source": [
    "# **문자열압축**"
   ]
  },
  {
   "cell_type": "markdown",
   "metadata": {},
   "source": [
    "![](lv2\\문자열압축.png)"
   ]
  },
  {
   "cell_type": "code",
   "execution_count": 21,
   "metadata": {},
   "outputs": [],
   "source": [
    "s=\"ababcdcdababcdcd\""
   ]
  },
  {
   "cell_type": "code",
   "execution_count": 22,
   "metadata": {},
   "outputs": [],
   "source": [
    "def solution(s):\n",
    "    res=\"\"\n",
    "    answer=[]\n",
    "    cnt=1\n",
    "    \n",
    "    if len(s)==1:\n",
    "        return 1\n",
    "    \n",
    "    for i in range(1,len(s)//2+1):\n",
    "        prev=s[:i]\n",
    "        \n",
    "        for j in range(i,len(s),i):\n",
    "            if prev==s[j:j+i]:\n",
    "                cnt+=1\n",
    "            else:\n",
    "                if cnt==1:\n",
    "                    cnt=\"\"\n",
    "                \n",
    "                res+=str(cnt)+prev\n",
    "                cnt=1\n",
    "                prev=s[j:j+i]\n",
    "        \n",
    "        if cnt==1:\n",
    "            cnt=\"\"\n",
    "        \n",
    "        res+=str(cnt)+prev\n",
    "        cnt=1\n",
    "        answer.append(len(res))\n",
    "        res=\"\"\n",
    "    return min(answer)"
   ]
  },
  {
   "cell_type": "code",
   "execution_count": 23,
   "metadata": {},
   "outputs": [
    {
     "data": {
      "text/plain": [
       "9"
      ]
     },
     "execution_count": 23,
     "metadata": {},
     "output_type": "execute_result"
    }
   ],
   "source": [
    "solution(s)"
   ]
  },
  {
   "cell_type": "markdown",
   "metadata": {},
   "source": [
    "**총평 :**\n",
    "**처음 문제를 접하고 생각한건 가장 많이 반복되는 문자열을 찾아서 푸는 그리디 형태였는데 실패....**    \n",
    "**최근 풀어본 완전탐색 문제 중 가장 어려웠다... 다른 사람의 코드를 통해 힌트를 얻어 풀었다.**\n",
    "1. 우선 문자열을 i개 만큼 자르고 prev에 저장을 한 뒤, i개를 건너뛰며 비교 한다. 같으면 cnt를 올리고 아니면 cnt를 문자열로 만들어 prev와 저장 후 cnt 초기화와 prev를 갱신\n",
    "2. 두 번째 for 문이 끝나면 res에 더해지지 못한 prev를 마저 더한 뒤, res의 길이를 answer에 저장 후, res 초기화\n",
    "3. answer의 최솟값을 반환"
   ]
  },
  {
   "cell_type": "markdown",
   "metadata": {},
   "source": [
    "다른사람풀이 (깔끔과 창의력)"
   ]
  },
  {
   "cell_type": "code",
   "execution_count": 26,
   "metadata": {},
   "outputs": [],
   "source": [
    "s=\"ababacdcdababcdcd\""
   ]
  },
  {
   "cell_type": "code",
   "execution_count": 27,
   "metadata": {},
   "outputs": [],
   "source": [
    "def compress(text, tok_len):\n",
    "    words = [text[i:i+tok_len] for i in range(0, len(text), tok_len)]\n",
    "    res = []\n",
    "    cur_word = words[0]\n",
    "    cur_cnt = 1\n",
    "    for a, b in zip(words, words[1:] + ['']):\n",
    "        if a == b:\n",
    "            cur_cnt += 1\n",
    "        else:\n",
    "            res.append([cur_word, cur_cnt])\n",
    "            cur_word = b\n",
    "            cur_cnt = 1\n",
    "    return sum(len(word) + (len(str(cnt)) if cnt > 1 else 0) for word, cnt in res)\n",
    "\n",
    "def solution(text):\n",
    "    return min(compress(text, tok_len) for tok_len in list(range(1, int(len(text)/2) + 1)) + [len(text)])\n"
   ]
  },
  {
   "cell_type": "code",
   "execution_count": 28,
   "metadata": {},
   "outputs": [
    {
     "data": {
      "text/plain": [
       "16"
      ]
     },
     "execution_count": 28,
     "metadata": {},
     "output_type": "execute_result"
    }
   ],
   "source": [
    "solution(s)"
   ]
  },
  {
   "cell_type": "markdown",
   "metadata": {},
   "source": [
    "# **삼각달팽이**"
   ]
  },
  {
   "cell_type": "markdown",
   "metadata": {},
   "source": [
    "![](lv2\\삼각달팽이.png)"
   ]
  },
  {
   "cell_type": "code",
   "execution_count": 54,
   "metadata": {},
   "outputs": [],
   "source": [
    "def solution(n):\n",
    "    tri=[[0]*n for _ in range(n)]\n",
    "    x,y=-1,0\n",
    "    num=1\n",
    "    answer=[]\n",
    "    for i in range(n):\n",
    "        for j in range(i,n):\n",
    "            \n",
    "            if i%3==0:\n",
    "                x+=1\n",
    "            elif i%3==1:\n",
    "                y+=1\n",
    "            elif i%3==2:\n",
    "                x-=1\n",
    "                y-=1\n",
    "            \n",
    "            tri[x][y]=num\n",
    "            num+=1\n",
    "    \n",
    "    for i in range(len(tri)):\n",
    "        for j in range(len(tri)):\n",
    "            if tri[i][j] !=0:\n",
    "                answer.append(tri[i][j])\n",
    "    \n",
    "    return answer\n",
    "            "
   ]
  },
  {
   "cell_type": "code",
   "execution_count": 55,
   "metadata": {},
   "outputs": [
    {
     "data": {
      "text/plain": [
       "[1, 2, 9, 3, 10, 8, 4, 5, 6, 7]"
      ]
     },
     "execution_count": 55,
     "metadata": {},
     "output_type": "execute_result"
    }
   ],
   "source": [
    "solution(4)"
   ]
  },
  {
   "cell_type": "markdown",
   "metadata": {},
   "source": [
    "**총평 : 그대로 구현해서 가면 되는데 너무 복잡하게 생각하고 3이라는 숫자를 간과해서 오래걸렸다.**"
   ]
  },
  {
   "cell_type": "markdown",
   "metadata": {},
   "source": [
    "-------------------------------------------------------------------------------------------"
   ]
  },
  {
   "cell_type": "markdown",
   "metadata": {},
   "source": [
    "# **가장 큰 수**"
   ]
  },
  {
   "cell_type": "markdown",
   "metadata": {},
   "source": [
    "![](lv2\\가장큰수.png)"
   ]
  },
  {
   "cell_type": "code",
   "execution_count": 88,
   "metadata": {},
   "outputs": [],
   "source": [
    "numbers=[3, 30, 34, 5, 9]\n",
    "def solution(numbers):\n",
    "    numbers=list(map(str,numbers))\n",
    "    numbers=sorted(numbers,key=lambda x:x*3,reverse=True)\n",
    "    answer=''\n",
    "    for x in numbers:\n",
    "        answer+=x\n",
    "\n",
    "    return answer"
   ]
  },
  {
   "cell_type": "code",
   "execution_count": 89,
   "metadata": {},
   "outputs": [
    {
     "data": {
      "text/plain": [
       "'9534330'"
      ]
     },
     "execution_count": 89,
     "metadata": {},
     "output_type": "execute_result"
    }
   ],
   "source": [
    "solution(numbers)"
   ]
  },
  {
   "cell_type": "markdown",
   "metadata": {},
   "source": [
    "**총평 : 문제 조건에서 numbers의 원소가 1000이하 이기 때문에 정렬을 할 때 문자열에 3을 곱해 3번 반복하게 한 뒤 비교. 밑의 예시처럼 문자열은 아스키 코드로 변환한 뒤 값을 비교하기 때문**"
   ]
  },
  {
   "cell_type": "code",
   "execution_count": 226,
   "metadata": {},
   "outputs": [
    {
     "data": {
      "text/plain": [
       "True"
      ]
     },
     "execution_count": 226,
     "metadata": {},
     "output_type": "execute_result"
    }
   ],
   "source": [
    "\"333\">\"303030\""
   ]
  },
  {
   "cell_type": "markdown",
   "metadata": {},
   "source": [
    "------------------------------------------------------------------------------------"
   ]
  },
  {
   "cell_type": "markdown",
   "metadata": {},
   "source": [
    "# **괄호변환**"
   ]
  },
  {
   "cell_type": "markdown",
   "metadata": {},
   "source": [
    "![](lv2\\괄호변환.png)"
   ]
  },
  {
   "cell_type": "code",
   "execution_count": 5,
   "metadata": {},
   "outputs": [
    {
     "data": {
      "text/plain": [
       "('()', '))((()')"
      ]
     },
     "execution_count": 5,
     "metadata": {},
     "output_type": "execute_result"
    }
   ],
   "source": [
    "p=\"()))((()\"\n",
    "\n",
    "def detach(p):\n",
    "    lp=0\n",
    "    rp=0\n",
    "    \n",
    "    for i in range(len(p)):\n",
    "        if p[i]==\"(\":\n",
    "            lp+=1\n",
    "        else:.\n",
    "            rp+=1\n",
    "            \n",
    "        if lp==rp:\n",
    "            return p[:i+1],p[i+1:]\n",
    "\n",
    "def isbalanced(p):\n",
    "    stack=[]\n",
    "    for i in p:\n",
    "        if i ==\"(\":\n",
    "            stack.append(p)\n",
    "        else:\n",
    "            if not stack:\n",
    "                return False\n",
    "            stack.pop()\n",
    "    return True\n",
    "\n",
    "def solution(p):\n",
    "    if not p:\n",
    "        return \"\"\n",
    "    \n",
    "    u,v=detach(p)\n",
    "    \n",
    "    if isbalanced(u):\n",
    "        return u+solution(v)\n",
    "    \n",
    "    answer=\"(\"\n",
    "    \n",
    "    answer+=solution(v)\n",
    "    \n",
    "    answer+=\")\"\n",
    "    \n",
    "    for i in range(1,len(u)-1):\n",
    "        if u[i]==\"(\":\n",
    "            answer+=\")\"\n",
    "        else:\n",
    "            answer+=\"(\"\n",
    "    \n",
    "    return answer"
   ]
  },
  {
   "cell_type": "code",
   "execution_count": 8,
   "metadata": {},
   "outputs": [
    {
     "data": {
      "text/plain": [
       "'()(())()'"
      ]
     },
     "execution_count": 8,
     "metadata": {},
     "output_type": "execute_result"
    }
   ],
   "source": [
    "solution(p)"
   ]
  },
  {
   "cell_type": "markdown",
   "metadata": {},
   "source": [
    "**총평 : 문제에 있는 친절한 가이드대로 구현**"
   ]
  },
  {
   "cell_type": "markdown",
   "metadata": {},
   "source": [
    "다른사람풀이(재귀적 깔끔)"
   ]
  },
  {
   "cell_type": "code",
   "execution_count": 9,
   "metadata": {},
   "outputs": [],
   "source": [
    "def solution(p):\n",
    "    if p=='': return p\n",
    "    r=True; c=0\n",
    "    for i in range(len(p)):\n",
    "        if p[i]=='(': c-=1\n",
    "        else: c+=1\n",
    "        if c>0: r=False\n",
    "        if c==0:\n",
    "            if r:\n",
    "                return p[:i+1]+solution(p[i+1:])\n",
    "            else:\n",
    "                return '('+solution(p[i+1:])+')'+''.join(list(map(lambda x:'(' if x==')' else ')',p[1:i]) ))\n"
   ]
  },
  {
   "cell_type": "markdown",
   "metadata": {},
   "source": [
    "--------------------------------------------------------------------------------"
   ]
  },
  {
   "cell_type": "markdown",
   "metadata": {},
   "source": [
    "# **소수찾기**"
   ]
  },
  {
   "cell_type": "markdown",
   "metadata": {},
   "source": [
    "![](lv2\\소수찾기.png)"
   ]
  },
  {
   "cell_type": "code",
   "execution_count": 37,
   "metadata": {},
   "outputs": [],
   "source": [
    "def prime_count(numbers):\n",
    "    prime_list=[]\n",
    "    for i in numbers:\n",
    "        count=0\n",
    "        for j in range(2,i):\n",
    "            if i%j==0:\n",
    "                count+=1\n",
    "                break\n",
    "        if i>1 and count==0:\n",
    "            prime_list.append(i)\n",
    "    return len(prime_list)\n",
    "            \n",
    "\n",
    "from itertools import permutations\n",
    "def solution(numbers):\n",
    "    ans=[]\n",
    "    for i in range(1,len(numbers)+1):\n",
    "        p=permutations(numbers,i)\n",
    "        for j in p:\n",
    "            ans.append(int(''.join(j)))\n",
    "    ans=prime_count(set(ans))\n",
    "    return ans"
   ]
  },
  {
   "cell_type": "code",
   "execution_count": 39,
   "metadata": {},
   "outputs": [
    {
     "data": {
      "text/plain": [
       "[7, 17, 71]"
      ]
     },
     "execution_count": 39,
     "metadata": {},
     "output_type": "execute_result"
    }
   ],
   "source": [
    "solution(\"17\")"
   ]
  },
  {
   "cell_type": "markdown",
   "metadata": {},
   "source": [
    "**총평 : 완전탐색 중 비교적 쉬운 문제. 처음에 시간초과가 났었는데 prime_count에서 break문을 써주니 해결됐다.**"
   ]
  },
  {
   "cell_type": "markdown",
   "metadata": {},
   "source": [
    "# **더맵게**"
   ]
  },
  {
   "cell_type": "markdown",
   "metadata": {},
   "source": [
    "![](lv2\\더맵게.png)"
   ]
  },
  {
   "cell_type": "code",
   "execution_count": 46,
   "metadata": {},
   "outputs": [],
   "source": [
    "import heapq\n",
    "def solution(scoville,k):\n",
    "    heapq.heapify(scoville)\n",
    "    i=0\n",
    "    \n",
    "    while scoville[0]<k:\n",
    "        if len(scoville)>1:\n",
    "            heapq.heappush(scoville,heapq.heappop(scoville)+heapq.heappop(scoville)*2)\n",
    "            i+=1\n",
    "        else:\n",
    "            return -1\n",
    "    return i"
   ]
  },
  {
   "cell_type": "code",
   "execution_count": 47,
   "metadata": {},
   "outputs": [
    {
     "data": {
      "text/plain": [
       "2"
      ]
     },
     "execution_count": 47,
     "metadata": {},
     "output_type": "execute_result"
    }
   ],
   "source": [
    "solution([1, 2, 3, 9, 10, 12],7)"
   ]
  },
  {
   "cell_type": "markdown",
   "metadata": {},
   "source": [
    "**총평 : 파이썬에서 힙구조를 처음 구현해봤는데 흥미로웠다 ㅎㅎ java에서는 prioryqueue사용.**"
   ]
  },
  {
   "cell_type": "code",
   "execution_count": null,
   "metadata": {},
   "outputs": [],
   "source": []
  }
 ],
 "metadata": {
  "kernelspec": {
   "display_name": "Python 3",
   "language": "python",
   "name": "python3"
  },
  "language_info": {
   "codemirror_mode": {
    "name": "ipython",
    "version": 3
   },
   "file_extension": ".py",
   "mimetype": "text/x-python",
   "name": "python",
   "nbconvert_exporter": "python",
   "pygments_lexer": "ipython3",
   "version": "3.8.5"
  }
 },
 "nbformat": 4,
 "nbformat_minor": 4
}
