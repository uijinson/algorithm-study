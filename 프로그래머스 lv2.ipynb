{
 "cells": [
  {
   "cell_type": "markdown",
   "metadata": {},
   "source": [
    "# **프린터**"
   ]
  },
  {
   "cell_type": "markdown",
   "metadata": {},
   "source": [
    "![프린터](lv2\\프린터.png)"
   ]
  },
  {
   "cell_type": "code",
   "execution_count": null,
   "metadata": {},
   "outputs": [],
   "source": [
    "def solution(priority,location):\n",
    "    answer=[]\n",
    "    p=[(idx, x) for idx, x in enumerate(priority)]\n",
    "    backup=p[location]\n",
    "    \n",
    "    \n",
    "    while priority:\n",
    "        if p[0][1]==max(priority):\n",
    "            answer.append(p.pop(0))\n",
    "            priority.remove(max(priority))\n",
    "        else:\n",
    "            p.append(p.pop(0))\n",
    "        \n",
    "    \n",
    "    return answer.index(backup)+1"
   ]
  },
  {
   "cell_type": "markdown",
   "metadata": {},
   "source": [
    "**총평 : 스택 구조 활용,, 처음에 인덱스 추가 없이 반복문 돌렸을 때, 두번째 test case에서 막혔다.**"
   ]
  },
  {
   "cell_type": "markdown",
   "metadata": {},
   "source": [
    "다른사람풀이(any 활용)"
   ]
  },
  {
   "cell_type": "code",
   "execution_count": null,
   "metadata": {},
   "outputs": [],
   "source": [
    "def solution(priorities, location):\n",
    "    queue =  [(i,p) for i,p in enumerate(priorities)]\n",
    "    answer = 0\n",
    "    while True:\n",
    "        cur = queue.pop(0)\n",
    "        if any(cur[1] < q[1] for q in queue):\n",
    "            queue.append(cur)\n",
    "        else:\n",
    "            answer += 1\n",
    "            if cur[0] == location:\n",
    "                return answer\n",
    "                "
   ]
  },
  {
   "cell_type": "markdown",
   "metadata": {},
   "source": [
    "------------------------------------------------------------------------------"
   ]
  },
  {
   "cell_type": "markdown",
   "metadata": {},
   "source": [
    "# **124 나라의 숫자**"
   ]
  },
  {
   "cell_type": "markdown",
   "metadata": {},
   "source": [
    "![124나라의 숫자](lv2\\124나라.png)"
   ]
  },
  {
   "cell_type": "code",
   "execution_count": 54,
   "metadata": {},
   "outputs": [],
   "source": [
    "def solution(n):\n",
    "    a='412'\n",
    "    answer=''\n",
    "    while n:\n",
    "        n,rem=divmod(n,3)\n",
    "        answer=a[rem]+answer\n",
    "        if not rem:\n",
    "            n-=1\n",
    "    return answer"
   ]
  },
  {
   "cell_type": "code",
   "execution_count": 55,
   "metadata": {},
   "outputs": [
    {
     "data": {
      "text/plain": [
       "'41'"
      ]
     },
     "execution_count": 55,
     "metadata": {},
     "output_type": "execute_result"
    }
   ],
   "source": [
    "solution(10)"
   ]
  },
  {
   "cell_type": "markdown",
   "metadata": {},
   "source": [
    "**총평 : 진법 문제를 많이 풀어본 경험이 있어서 손쉽게 해결**"
   ]
  },
  {
   "cell_type": "markdown",
   "metadata": {},
   "source": [
    "# **멀쩡한 사각형**"
   ]
  },
  {
   "cell_type": "markdown",
   "metadata": {},
   "source": [
    "![](lv2\\멀쩡한사각형.png)"
   ]
  },
  {
   "cell_type": "code",
   "execution_count": null,
   "metadata": {},
   "outputs": [],
   "source": [
    "def gcd(a,b):\n",
    "    return b if a%b==0 else gcd(b,a%b)\n",
    "def solution(w,h):\n",
    "    return w*h-(w+h-gcd(w,h))"
   ]
  },
  {
   "cell_type": "code",
   "execution_count": null,
   "metadata": {},
   "outputs": [],
   "source": [
    "solution(8,12)"
   ]
  },
  {
   "cell_type": "markdown",
   "metadata": {},
   "source": [
    "**총평: 최대 공약수 문제. 위와 같이 x,y좌표를 그리면 x는 2의 배수, y는 3의 배수가 된다. 대각선의 교점을 세면 4개로 w,h의 최대 공약수가 된다.\n",
    "최대 공약수가 1인 경우, 사라지는 사각형은 w+h-1로 위의 경우 4개. 이러면 사라지는 사각형의 총 개수는 g * (w/g+h/g-1)로 16개.**"
   ]
  },
  {
   "cell_type": "markdown",
   "metadata": {},
   "source": [
    "--------------------------------------------------------------------------------------------"
   ]
  },
  {
   "cell_type": "markdown",
   "metadata": {},
   "source": [
    "# **타겟넘버**"
   ]
  },
  {
   "cell_type": "markdown",
   "metadata": {},
   "source": [
    "![](lv2\\타겟넘버.png)"
   ]
  },
  {
   "cell_type": "code",
   "execution_count": 56,
   "metadata": {},
   "outputs": [
    {
     "data": {
      "text/plain": [
       "3"
      ]
     },
     "execution_count": 56,
     "metadata": {},
     "output_type": "execute_result"
    }
   ],
   "source": [
    "def solution(numbers,target):\n",
    "    sup=[0]\n",
    "    for i in numbers:\n",
    "        sub=[]\n",
    "        for j in sup:\n",
    "            sub.append(j+i)\n",
    "            sub.append(j-i)\n",
    "        sup=sub\n",
    "    return sup.count(target)\n",
    "\n",
    "solution([1,2,3,4,5],3)"
   ]
  },
  {
   "cell_type": "markdown",
   "metadata": {},
   "source": [
    "**총평 : 트리구조를 처음에 생각을 못해서 시간이 너무 오래 걸렸음...**"
   ]
  },
  {
   "cell_type": "markdown",
   "metadata": {},
   "source": [
    "다른사람 풀이(nonlocal 활용)"
   ]
  },
  {
   "cell_type": "code",
   "execution_count": null,
   "metadata": {},
   "outputs": [],
   "source": [
    "def solution(numbers,target):\n",
    "    cnt=0\n",
    "    def dfs(idx=0):\n",
    "        if idx<len(numbers):\n",
    "            numbers[idx]*=1\n",
    "            dfs(idx+1)\n",
    "            \n",
    "            numbers[idx]*=-1\n",
    "            dfs(idx+1)\n",
    "        elif sum(numbers)==target:\n",
    "            nonlocal cnt\n",
    "            cnt+=1\n",
    "    dfs()\n",
    "    return cnt"
   ]
  },
  {
   "cell_type": "code",
   "execution_count": null,
   "metadata": {},
   "outputs": [],
   "source": [
    "solution([1, 1, 1, 1, 1],3)"
   ]
  },
  {
   "cell_type": "markdown",
   "metadata": {},
   "source": [
    "---------------------------------------------------------------------------"
   ]
  },
  {
   "cell_type": "markdown",
   "metadata": {},
   "source": [
    "# **주식가격**"
   ]
  },
  {
   "cell_type": "markdown",
   "metadata": {},
   "source": [
    "![](.\\lv2\\주식가격.png)"
   ]
  },
  {
   "cell_type": "code",
   "execution_count": null,
   "metadata": {},
   "outputs": [],
   "source": [
    "prices=[1, 2, 3, 2, 3]"
   ]
  },
  {
   "cell_type": "code",
   "execution_count": null,
   "metadata": {},
   "outputs": [],
   "source": [
    "from collections import deque\n",
    "def solution(prices):\n",
    "    answer=[]\n",
    "    queue=deque(prices)\n",
    "    while queue:\n",
    "        p=queue.popleft()\n",
    "        time=0\n",
    "        for i in queue:\n",
    "            time+=1\n",
    "            if p>i:\n",
    "                break\n",
    "        answer.append(time)\n",
    "\n",
    "    return answer\n",
    "    \n",
    "    "
   ]
  },
  {
   "cell_type": "code",
   "execution_count": null,
   "metadata": {},
   "outputs": [],
   "source": [
    "solution(prices)"
   ]
  },
  {
   "cell_type": "markdown",
   "metadata": {},
   "source": [
    "**총평: 큐 활용**"
   ]
  },
  {
   "cell_type": "markdown",
   "metadata": {},
   "source": [
    "--------------------------------------------------------------------"
   ]
  },
  {
   "cell_type": "markdown",
   "metadata": {},
   "source": [
    "# **기능개발**"
   ]
  },
  {
   "cell_type": "markdown",
   "metadata": {},
   "source": [
    "![](.\\lv2\\기능개발.png)"
   ]
  },
  {
   "cell_type": "code",
   "execution_count": null,
   "metadata": {},
   "outputs": [],
   "source": [
    "def solution(progresses,speeds):\n",
    "    answer=[]\n",
    "    tmp=[]\n",
    "    for p,s in zip(progresses,speeds):\n",
    "        day=0\n",
    "        while True:\n",
    "            p+=s\n",
    "            day+=1\n",
    "            if p>=100:\n",
    "                tmp.append(day)\n",
    "                break\n",
    "                \n",
    "                \n",
    "    for d in range(len(tmp)):\n",
    "        if d==0:\n",
    "            maxa=tmp[d]\n",
    "            answer.append(1)\n",
    "            continue\n",
    "        elif maxa>=tmp[d]:\n",
    "            answer[-1]+=1\n",
    "        else:\n",
    "            maxa=tmp[d]\n",
    "            answer.append(1)\n",
    "    return answer"
   ]
  },
  {
   "cell_type": "code",
   "execution_count": null,
   "metadata": {},
   "outputs": [],
   "source": [
    "solution(progresses,speeds)"
   ]
  },
  {
   "cell_type": "markdown",
   "metadata": {},
   "source": [
    "**총평 : 구현하듯이 풀어버렸지만 문제의 의도는 다른 사람의 풀이처럼 스택큐를 활용하는 것이다....**"
   ]
  },
  {
   "cell_type": "code",
   "execution_count": null,
   "metadata": {},
   "outputs": [],
   "source": [
    "def solution(progresses,sppeds):\n",
    "    Q=[]\n",
    "    for p,s in zip(progresses,sppeds):\n",
    "        if not Q or q[-1][0]<((100-p)//s):\n",
    "            Q.append([(100-p)//s,1])\n",
    "        else:\n",
    "            Q[-1][1]+=1\n",
    "    return [q[1] for q in Q]"
   ]
  },
  {
   "cell_type": "code",
   "execution_count": null,
   "metadata": {},
   "outputs": [],
   "source": [
    "def solution(progresses, speeds):\n",
    "    Q=[]\n",
    "    for p, s in zip(progresses, speeds):\n",
    "        if len(Q)==0 or Q[-1][0]<-((p-100)//s):\n",
    "            Q.append([-((p-100)//s),1])\n",
    "        else:\n",
    "            Q[-1][1]+=1\n",
    "    return [q[1] for q in Q]\n",
    "solution(progresses,speeds)\n"
   ]
  },
  {
   "cell_type": "markdown",
   "metadata": {},
   "source": [
    "--------------------------------------------------------------------------"
   ]
  },
  {
   "cell_type": "markdown",
   "metadata": {},
   "source": [
    "# **다리를 지나는 트럭**"
   ]
  },
  {
   "cell_type": "markdown",
   "metadata": {},
   "source": [
    "![](lv2\\다리를지나는트럭.png)"
   ]
  },
  {
   "cell_type": "code",
   "execution_count": null,
   "metadata": {},
   "outputs": [],
   "source": [
    "def solution(bridge_length,weight,truck_weights):\n",
    "    answer=0\n",
    "    bridge=[0]*bridge_length\n",
    "    \n",
    "    while bridge:\n",
    "        answer+=1\n",
    "        bridge.pop(0)\n",
    "        if truck_weights:\n",
    "            if sum(bridge)+truck_weights[0]<=weight:\n",
    "                bridge.append(truck_weights.pop(0))\n",
    "            else:\n",
    "                bridge.append(0)\n",
    "    return answer"
   ]
  },
  {
   "cell_type": "code",
   "execution_count": null,
   "metadata": {},
   "outputs": [],
   "source": [
    "solution(bridge_length,weight,truck_weights)"
   ]
  },
  {
   "cell_type": "markdown",
   "metadata": {},
   "source": [
    "**총평 : 브릿지라는 큐에서 현 브릿지와 대기트럭의 첫 번째 를 합하여 다리 하중을 견딜 수 있으면 브릿지에 추가 없으면 브릿지에 0을 추가**"
   ]
  },
  {
   "cell_type": "markdown",
   "metadata": {},
   "source": [
    "--------------------------------------------------------------------------------------"
   ]
  },
  {
   "cell_type": "markdown",
   "metadata": {},
   "source": [
    "# **스킬트리**"
   ]
  },
  {
   "cell_type": "markdown",
   "metadata": {},
   "source": [
    "![](lv2\\스킬트리.png)"
   ]
  },
  {
   "cell_type": "code",
   "execution_count": null,
   "metadata": {},
   "outputs": [],
   "source": [
    "skill=\"CBD\"\n",
    "\n",
    "skill_tree=[\"BACDE\", \"CBADF\", \"AECB\", \"BDA\"]"
   ]
  },
  {
   "cell_type": "code",
   "execution_count": null,
   "metadata": {},
   "outputs": [],
   "source": [
    "def solution(skill,skill_tree):\n",
    "    answer=0\n",
    "    for i in range(len(skill_tree)):\n",
    "        tmp=''\n",
    "        isok=True\n",
    "        for j in skill_tree[i]:\n",
    "            if skill.find(j) != -1:\n",
    "                tmp+=j\n",
    "        for t in range(len(tmp)):\n",
    "            if skill[t]!=tmp[t]:\n",
    "                isok=False\n",
    "                break\n",
    "        if isok:\n",
    "            answer+=1\n",
    "    return answer\n",
    "            \n",
    "            \n",
    "        "
   ]
  },
  {
   "cell_type": "code",
   "execution_count": null,
   "metadata": {},
   "outputs": [],
   "source": [
    "solution(skill,skill_tree)"
   ]
  },
  {
   "cell_type": "markdown",
   "metadata": {},
   "source": [
    "**총평 : 스킬트리에서 skill 요소만 찾아 서로 비교하여 통과하면 answer에 1 추가**"
   ]
  },
  {
   "cell_type": "markdown",
   "metadata": {},
   "source": [
    "다른사람풀이 (파이썬은 for~else문을 지원)"
   ]
  },
  {
   "cell_type": "code",
   "execution_count": null,
   "metadata": {},
   "outputs": [],
   "source": [
    "def solution(skill, skill_trees):\n",
    "    answer = 0\n",
    "\n",
    "    for skills in skill_trees:\n",
    "        skill_list = list(skill)\n",
    "\n",
    "        for s in skills:\n",
    "            if s in skill:\n",
    "                if s != skill_list.pop(0):\n",
    "                    break\n",
    "        else:\n",
    "            answer += 1\n",
    "\n",
    "    return answer"
   ]
  },
  {
   "cell_type": "markdown",
   "metadata": {},
   "source": [
    "----------------------------------------------------------------------"
   ]
  },
  {
   "cell_type": "markdown",
   "metadata": {},
   "source": [
    "# **문자열압축**"
   ]
  },
  {
   "cell_type": "markdown",
   "metadata": {},
   "source": [
    "![](lv2\\문자열압축.png)"
   ]
  },
  {
   "cell_type": "code",
   "execution_count": null,
   "metadata": {},
   "outputs": [],
   "source": [
    "s=\"ababcdcdababcdcd\""
   ]
  },
  {
   "cell_type": "code",
   "execution_count": null,
   "metadata": {},
   "outputs": [],
   "source": [
    "def solution(s):\n",
    "    res=\"\"\n",
    "    answer=[]\n",
    "    cnt=1\n",
    "    \n",
    "    if len(s)==1:\n",
    "        return 1\n",
    "    \n",
    "    for i in range(1,len(s)//2+1):\n",
    "        prev=s[:i]\n",
    "        \n",
    "        for j in range(i,len(s),i):\n",
    "            if prev==s[j:j+i]:\n",
    "                cnt+=1\n",
    "            else:\n",
    "                if cnt==1:\n",
    "                    cnt=\"\"\n",
    "                \n",
    "                res+=str(cnt)+prev\n",
    "                cnt=1\n",
    "                prev=s[j:j+i]\n",
    "        \n",
    "        if cnt==1:\n",
    "            cnt=\"\"\n",
    "        \n",
    "        res+=str(cnt)+prev\n",
    "        cnt=1\n",
    "        answer.append(len(res))\n",
    "        res=\"\"\n",
    "    return min(answer)"
   ]
  },
  {
   "cell_type": "code",
   "execution_count": null,
   "metadata": {},
   "outputs": [],
   "source": [
    "solution(s)"
   ]
  },
  {
   "cell_type": "markdown",
   "metadata": {},
   "source": [
    "**총평 :**\n",
    "**처음 문제를 접하고 생각한건 가장 많이 반복되는 문자열을 찾아서 푸는 그리디 형태였는데 실패....**    \n",
    "**최근 풀어본 완전탐색 문제 중 가장 어려웠다... 다른 사람의 코드를 통해 힌트를 얻어 풀었다.**\n",
    "1. 우선 문자열을 i개 만큼 자르고 prev에 저장을 한 뒤, i개를 건너뛰며 비교 한다. 같으면 cnt를 올리고 아니면 cnt를 문자열로 만들어 prev와 저장 후 cnt 초기화와 prev를 갱신\n",
    "2. 두 번째 for 문이 끝나면 res에 더해지지 못한 prev를 마저 더한 뒤, res의 길이를 answer에 저장 후, res 초기화\n",
    "3. answer의 최솟값을 반환"
   ]
  },
  {
   "cell_type": "markdown",
   "metadata": {},
   "source": [
    "다른사람풀이 (깔끔과 창의력)"
   ]
  },
  {
   "cell_type": "code",
   "execution_count": null,
   "metadata": {},
   "outputs": [],
   "source": [
    "s=\"ababacdcdababcdcd\""
   ]
  },
  {
   "cell_type": "code",
   "execution_count": null,
   "metadata": {},
   "outputs": [],
   "source": [
    "def compress(text, tok_len):\n",
    "    words = [text[i:i+tok_len] for i in range(0, len(text), tok_len)]\n",
    "    res = []\n",
    "    cur_word = words[0]\n",
    "    cur_cnt = 1\n",
    "    for a, b in zip(words, words[1:] + ['']):\n",
    "        if a == b:\n",
    "            cur_cnt += 1\n",
    "        else:\n",
    "            res.append([cur_word, cur_cnt])\n",
    "            cur_word = b\n",
    "            cur_cnt = 1\n",
    "    return sum(len(word) + (len(str(cnt)) if cnt > 1 else 0) for word, cnt in res)\n",
    "\n",
    "def solution(text):\n",
    "    return min(compress(text, tok_len) for tok_len in list(range(1, int(len(text)/2) + 1)) + [len(text)])\n"
   ]
  },
  {
   "cell_type": "code",
   "execution_count": null,
   "metadata": {},
   "outputs": [],
   "source": [
    "solution(s)"
   ]
  },
  {
   "cell_type": "markdown",
   "metadata": {},
   "source": [
    "# **삼각달팽이**"
   ]
  },
  {
   "cell_type": "markdown",
   "metadata": {},
   "source": [
    "![](lv2\\삼각달팽이.png)"
   ]
  },
  {
   "cell_type": "code",
   "execution_count": null,
   "metadata": {},
   "outputs": [],
   "source": [
    "def solution(n):\n",
    "    tri=[[0]*n for _ in range(n)]\n",
    "    x,y=-1,0\n",
    "    num=1\n",
    "    answer=[]\n",
    "    for i in range(n):\n",
    "        for j in range(i,n):\n",
    "            \n",
    "            if i%3==0:\n",
    "                x+=1\n",
    "            elif i%3==1:\n",
    "                y+=1\n",
    "            elif i%3==2:\n",
    "                x-=1\n",
    "                y-=1\n",
    "            \n",
    "            tri[x][y]=num\n",
    "            num+=1\n",
    "    \n",
    "    for i in range(len(tri)):\n",
    "        for j in range(len(tri)):\n",
    "            if tri[i][j] !=0:\n",
    "                answer.append(tri[i][j])\n",
    "    \n",
    "    return answer\n",
    "            "
   ]
  },
  {
   "cell_type": "code",
   "execution_count": null,
   "metadata": {},
   "outputs": [],
   "source": [
    "solution(4)"
   ]
  },
  {
   "cell_type": "markdown",
   "metadata": {},
   "source": [
    "**총평 : 그대로 구현해서 가면 되는데 너무 복잡하게 생각하고 3이라는 숫자를 간과해서 오래걸렸다.**"
   ]
  },
  {
   "cell_type": "markdown",
   "metadata": {},
   "source": [
    "-------------------------------------------------------------------------------------------"
   ]
  },
  {
   "cell_type": "markdown",
   "metadata": {},
   "source": [
    "# **가장 큰 수**"
   ]
  },
  {
   "cell_type": "markdown",
   "metadata": {},
   "source": [
    "![](lv2\\가장큰수.png)"
   ]
  },
  {
   "cell_type": "code",
   "execution_count": null,
   "metadata": {},
   "outputs": [],
   "source": [
    "numbers=[3, 30, 34, 5, 9]\n",
    "def solution(numbers):\n",
    "    numbers=list(map(str,numbers))\n",
    "    numbers=sorted(numbers,key=lambda x:x*3,reverse=True)\n",
    "    answer=''\n",
    "    for x in numbers:\n",
    "        answer+=x\n",
    "\n",
    "    return answer"
   ]
  },
  {
   "cell_type": "code",
   "execution_count": null,
   "metadata": {},
   "outputs": [],
   "source": [
    "solution(numbers)"
   ]
  },
  {
   "cell_type": "markdown",
   "metadata": {},
   "source": [
    "**총평 : 문제 조건에서 numbers의 원소가 1000이하 이기 때문에 정렬을 할 때 문자열에 3을 곱해 3번 반복하게 한 뒤 비교. 밑의 예시처럼 문자열은 아스키 코드로 변환한 뒤 값을 비교하기 때문**"
   ]
  },
  {
   "cell_type": "code",
   "execution_count": 1,
   "metadata": {},
   "outputs": [
    {
     "data": {
      "text/plain": [
       "True"
      ]
     },
     "execution_count": 1,
     "metadata": {},
     "output_type": "execute_result"
    }
   ],
   "source": [
    "\"333\">\"303030\""
   ]
  },
  {
   "cell_type": "markdown",
   "metadata": {},
   "source": [
    "------------------------------------------------------------------------------------"
   ]
  },
  {
   "cell_type": "markdown",
   "metadata": {},
   "source": [
    "# **괄호변환**"
   ]
  },
  {
   "cell_type": "markdown",
   "metadata": {},
   "source": [
    "![](lv2\\괄호변환.png)"
   ]
  },
  {
   "cell_type": "code",
   "execution_count": null,
   "metadata": {},
   "outputs": [],
   "source": [
    "p=\"()))((()\"\n",
    "\n",
    "def detach(p):\n",
    "    lp=0\n",
    "    rp=0\n",
    "    \n",
    "    for i in range(len(p)):\n",
    "        if p[i]==\"(\":\n",
    "            lp+=1\n",
    "        else:.\n",
    "            rp+=1\n",
    "            \n",
    "        if lp==rp:\n",
    "            return p[:i+1],p[i+1:]\n",
    "\n",
    "def isbalanced(p):\n",
    "    stack=[]\n",
    "    for i in p:\n",
    "        if i ==\"(\":\n",
    "            stack.append(p)\n",
    "        else:\n",
    "            if not stack:\n",
    "                return False\n",
    "            stack.pop()\n",
    "    return True\n",
    "\n",
    "def solution(p):\n",
    "    if not p:\n",
    "        return \"\"\n",
    "    \n",
    "    u,v=detach(p)\n",
    "    \n",
    "    if isbalanced(u):\n",
    "        return u+solution(v)\n",
    "    \n",
    "    answer=\"(\"\n",
    "    \n",
    "    answer+=solution(v)\n",
    "    \n",
    "    answer+=\")\"\n",
    "    \n",
    "    for i in range(1,len(u)-1):\n",
    "        if u[i]==\"(\":\n",
    "            answer+=\")\"\n",
    "        else:\n",
    "            answer+=\"(\"\n",
    "    \n",
    "    return answer"
   ]
  },
  {
   "cell_type": "code",
   "execution_count": null,
   "metadata": {},
   "outputs": [],
   "source": [
    "solution(p)"
   ]
  },
  {
   "cell_type": "markdown",
   "metadata": {},
   "source": [
    "**총평 : 문제에 있는 친절한 가이드대로 구현**"
   ]
  },
  {
   "cell_type": "markdown",
   "metadata": {},
   "source": [
    "다른사람풀이(재귀적 깔끔)"
   ]
  },
  {
   "cell_type": "code",
   "execution_count": null,
   "metadata": {},
   "outputs": [],
   "source": [
    "def solution(p):\n",
    "    if p=='': return p\n",
    "    r=True; c=0\n",
    "    for i in range(len(p)):\n",
    "        if p[i]=='(': c-=1\n",
    "        else: c+=1\n",
    "        if c>0: r=False\n",
    "        if c==0:\n",
    "            if r:\n",
    "                return p[:i+1]+solution(p[i+1:])\n",
    "            else:\n",
    "                return '('+solution(p[i+1:])+')'+''.join(list(map(lambda x:'(' if x==')' else ')',p[1:i]) ))\n"
   ]
  },
  {
   "cell_type": "markdown",
   "metadata": {},
   "source": [
    "--------------------------------------------------------------------------------"
   ]
  },
  {
   "cell_type": "markdown",
   "metadata": {},
   "source": [
    "# **소수찾기**"
   ]
  },
  {
   "cell_type": "markdown",
   "metadata": {},
   "source": [
    "![](lv2\\소수찾기.png)"
   ]
  },
  {
   "cell_type": "code",
   "execution_count": null,
   "metadata": {},
   "outputs": [],
   "source": [
    "def prime_count(numbers):\n",
    "    prime_list=[]\n",
    "    for i in numbers:\n",
    "        count=0\n",
    "        for j in range(2,i):\n",
    "            if i%j==0:\n",
    "                count+=1\n",
    "                break\n",
    "        if i>1 and count==0:\n",
    "            prime_list.append(i)\n",
    "    return len(prime_list)\n",
    "            \n",
    "\n",
    "from itertools import permutations\n",
    "def solution(numbers):\n",
    "    ans=[]\n",
    "    for i in range(1,len(numbers)+1):\n",
    "        p=permutations(numbers,i)\n",
    "        for j in p:\n",
    "            ans.append(int(''.join(j)))\n",
    "    ans=prime_count(set(ans))\n",
    "    return ans"
   ]
  },
  {
   "cell_type": "code",
   "execution_count": null,
   "metadata": {},
   "outputs": [],
   "source": [
    "solution(\"17\")"
   ]
  },
  {
   "cell_type": "markdown",
   "metadata": {},
   "source": [
    "**총평 : 완전탐색 중 비교적 쉬운 문제. 처음에 시간초과가 났었는데 prime_count에서 break문을 써주니 해결됐다.**"
   ]
  },
  {
   "cell_type": "markdown",
   "metadata": {},
   "source": [
    "# **더맵게**"
   ]
  },
  {
   "cell_type": "markdown",
   "metadata": {},
   "source": [
    "![](lv2\\더맵게.png)"
   ]
  },
  {
   "cell_type": "code",
   "execution_count": null,
   "metadata": {},
   "outputs": [],
   "source": [
    "import heapq\n",
    "def solution(scoville,k):\n",
    "    heapq.heapify(scoville)\n",
    "    i=0\n",
    "    \n",
    "    while scoville[0]<k:\n",
    "        if len(scoville)>1:\n",
    "            heapq.heappush(scoville,heapq.heappop(scoville)+heapq.heappop(scoville)*2)\n",
    "            i+=1\n",
    "        else:\n",
    "            return -1\n",
    "    return i"
   ]
  },
  {
   "cell_type": "code",
   "execution_count": null,
   "metadata": {},
   "outputs": [],
   "source": [
    "solution([1, 2, 3, 9, 10, 12],7)"
   ]
  },
  {
   "cell_type": "markdown",
   "metadata": {},
   "source": [
    "**총평 : 파이썬에서 힙구조를 처음 구현해봤는데 흥미로웠다 ㅎㅎ java에서는 prioryqueue사용.**"
   ]
  },
  {
   "cell_type": "markdown",
   "metadata": {},
   "source": [
    "-----------------------------------------------------------------------------------------"
   ]
  },
  {
   "cell_type": "markdown",
   "metadata": {},
   "source": [
    "# **큰 수 만들기**"
   ]
  },
  {
   "cell_type": "markdown",
   "metadata": {},
   "source": [
    "![](lv2\\큰수만들기.png)"
   ]
  },
  {
   "cell_type": "code",
   "execution_count": null,
   "metadata": {},
   "outputs": [],
   "source": [
    "def solution(number, k):\n",
    "    stack = [number[0]]\n",
    "    for num in number[1:]:\n",
    "        while len(stack) > 0 and stack[-1] < num and k > 0:\n",
    "            k -= 1\n",
    "            stack.pop()\n",
    "        stack.append(num)\n",
    "    if k != 0:\n",
    "        stack = stack[:-k]\n",
    "    return ''.join(stack)"
   ]
  },
  {
   "cell_type": "code",
   "execution_count": null,
   "metadata": {},
   "outputs": [],
   "source": [
    "number=\"1293\"\n",
    "k=2"
   ]
  },
  {
   "cell_type": "code",
   "execution_count": null,
   "metadata": {},
   "outputs": [],
   "source": [
    "solution(number,2)"
   ]
  },
  {
   "cell_type": "markdown",
   "metadata": {},
   "source": [
    "**총평 : 처음에 조합 문제를 풀면 되는 줄 알고 쉽게 접근 했었다. 문제 이해를 다시 한 뒤, 스택 구조를 이용.**"
   ]
  },
  {
   "cell_type": "markdown",
   "metadata": {},
   "source": [
    "----------------------------------------------------------------------------------"
   ]
  },
  {
   "cell_type": "markdown",
   "metadata": {},
   "source": [
    "# **조이스틱 ★**"
   ]
  },
  {
   "cell_type": "markdown",
   "metadata": {},
   "source": [
    "![](lv2\\조이스틱.png)"
   ]
  },
  {
   "cell_type": "code",
   "execution_count": null,
   "metadata": {},
   "outputs": [],
   "source": [
    "name=\"JAN\""
   ]
  },
  {
   "cell_type": "code",
   "execution_count": null,
   "metadata": {},
   "outputs": [],
   "source": [
    "def solution(name):\n",
    "    \n",
    "    up_down=[min(ord(i)-ord(\"A\"),ord(\"Z\")-ord(i)+1) for i in name]\n",
    "    idx=0\n",
    "    answer=0\n",
    "    \n",
    "    while True:\n",
    "        answer+=up_down[idx]\n",
    "        up_down[idx]=0\n",
    "        \n",
    "        if sum(up_down)==0:\n",
    "            return answer\n",
    "        \n",
    "        \n",
    "        left,right=1,1\n",
    "\n",
    "        while up_down[idx-left]==0:\n",
    "            left+=1\n",
    "\n",
    "        while up_down[idx+right]==0:\n",
    "            right+=1\n",
    "\n",
    "        answer += left if left<right else right\n",
    "        idx += -left if left <right else right\n",
    "    \n",
    "    return answer\n",
    "    "
   ]
  },
  {
   "cell_type": "code",
   "execution_count": null,
   "metadata": {
    "scrolled": true
   },
   "outputs": [],
   "source": [
    "solution(name)"
   ]
  },
  {
   "cell_type": "markdown",
   "metadata": {},
   "source": [
    "**총평 : 먼저 상하의 거리를 구하여 짧은 것을 up_down으로 구성. answer에 updown을 집어 넣고 idx에 따라 하나씩 좌우 거리를 확인. 더 짧은 것을 answer에 넣고 idx를 조정.**"
   ]
  },
  {
   "cell_type": "markdown",
   "metadata": {},
   "source": [
    "--------------------------------------------------------------------------"
   ]
  },
  {
   "cell_type": "markdown",
   "metadata": {},
   "source": [
    "# **메뉴리뉴얼** (2021 카카오 블라인드)"
   ]
  },
  {
   "cell_type": "markdown",
   "metadata": {},
   "source": [
    "![](lv2\\메뉴리뉴얼.png)"
   ]
  },
  {
   "cell_type": "code",
   "execution_count": 231,
   "metadata": {},
   "outputs": [],
   "source": [
    "from collections import Counter\n",
    "from itertools import combinations\n",
    "from functools import reduce\n",
    "\n",
    "def modefinder(numbers): \n",
    "    if not numbers:\n",
    "        return []\n",
    "    c = Counter(numbers) \n",
    "    order = c.most_common() \n",
    "    maximum = order[0][1] \n",
    "    modes = [] \n",
    "    if maximum==1:\n",
    "        return []\n",
    "    for num in order:\n",
    "        if num[1] == maximum:\n",
    "            modes.append(''.join(num[0]))\n",
    "    return modes\n",
    "\n",
    "def solution(orders,course):\n",
    "    tmp=[]\n",
    "    ans=[]\n",
    "    answer=[]\n",
    "    for order in orders:\n",
    "        order=sorted(order)\n",
    "        for i in range(2, len(order)+1):\n",
    "            c=list(combinations(order,i))\n",
    "            tmp+=c\n",
    "\n",
    "    for i in course:\n",
    "        ans.append(list(filter(lambda x: len(x)==i,tmp)))\n",
    "\n",
    "    for i in ans:\n",
    "        answer.append(modefinder(i))\n",
    "\n",
    "    return sorted([x for xx in answer for x in xx])"
   ]
  },
  {
   "cell_type": "code",
   "execution_count": 232,
   "metadata": {},
   "outputs": [
    {
     "data": {
      "text/plain": [
       "['WX', 'XY']"
      ]
     },
     "execution_count": 232,
     "metadata": {},
     "output_type": "execute_result"
    }
   ],
   "source": [
    "solution(orders,course)"
   ]
  },
  {
   "cell_type": "markdown",
   "metadata": {},
   "source": [
    "**총평 : 조합을 모두 구한 후 그 갯수를 세어서 길이별로 최대값을 뽑아내면 되는 로직인데 생각보다 오래걸렸다....**"
   ]
  },
  {
   "cell_type": "markdown",
   "metadata": {},
   "source": [
    "다른사람풀이 : 같은 풀이인데 훨씬 직관적"
   ]
  },
  {
   "cell_type": "code",
   "execution_count": 214,
   "metadata": {},
   "outputs": [],
   "source": [
    "def solution(orders, course):\n",
    "    result = []\n",
    "\n",
    "    for course_size in course:\n",
    "        order_combinations = []\n",
    "        for order in orders:\n",
    "            order_combinations += itertools.combinations(sorted(order), course_size)\n",
    "\n",
    "        most_ordered = collections.Counter(order_combinations).most_common()\n",
    "        result += [ k for k, v in most_ordered if v > 1 and v == most_ordered[0][1] ]\n",
    "\n",
    "    return [ ''.join(v) for v in sorted(result) ]"
   ]
  },
  {
   "cell_type": "markdown",
   "metadata": {},
   "source": [
    "----------------------------------------"
   ]
  },
  {
   "cell_type": "markdown",
   "metadata": {},
   "source": [
    "# **H-index**"
   ]
  },
  {
   "cell_type": "markdown",
   "metadata": {},
   "source": [
    "![](lv2\\hindex.png)"
   ]
  },
  {
   "cell_type": "code",
   "execution_count": 260,
   "metadata": {},
   "outputs": [],
   "source": [
    "def solution(citations):\n",
    "    citations.sort()\n",
    "    l = len(citations)\n",
    "    for i in range(l):\n",
    "        if citations[i] >= l-i:\n",
    "            return l-i\n",
    "    return 0"
   ]
  },
  {
   "cell_type": "markdown",
   "metadata": {},
   "source": [
    "**총평 : 문제를 푸는 것보다 이해하는데 더 오래 걸렸다....**"
   ]
  },
  {
   "cell_type": "markdown",
   "metadata": {},
   "source": [
    "----------------------------------------------------------"
   ]
  },
  {
   "cell_type": "markdown",
   "metadata": {},
   "source": [
    "# **피보나치 수**"
   ]
  },
  {
   "cell_type": "markdown",
   "metadata": {},
   "source": [
    "![](lv2\\피보나치수.png)"
   ]
  },
  {
   "cell_type": "markdown",
   "metadata": {},
   "source": [
    "상향식 (DP)"
   ]
  },
  {
   "cell_type": "code",
   "execution_count": 265,
   "metadata": {},
   "outputs": [],
   "source": [
    "def solution(num):\n",
    "    a,b=0,1\n",
    "    for i in range(num):\n",
    "        a,b=b,a+b\n",
    "    return a%1234567"
   ]
  },
  {
   "cell_type": "markdown",
   "metadata": {},
   "source": [
    "하향식"
   ]
  },
  {
   "cell_type": "code",
   "execution_count": 266,
   "metadata": {},
   "outputs": [],
   "source": [
    "def solution(num):\n",
    "    if num<2:\n",
    "        return 1\n",
    "    else:\n",
    "        return solution(num-1)+solution(num-2)"
   ]
  },
  {
   "cell_type": "markdown",
   "metadata": {},
   "source": [
    "메모이제이션"
   ]
  },
  {
   "cell_type": "code",
   "execution_count": 267,
   "metadata": {},
   "outputs": [],
   "source": [
    "def solution(num,memo):\n",
    "    if num<2:\n",
    "        return 1\n",
    "    if memo[n]==0:\n",
    "        memo[n]=solution(num-1,memo)+solution(num-1,memo)\n",
    "    return memo[n]"
   ]
  },
  {
   "cell_type": "markdown",
   "metadata": {},
   "source": [
    "------------------------------------"
   ]
  },
  {
   "cell_type": "markdown",
   "metadata": {},
   "source": [
    "# **구명보트**"
   ]
  },
  {
   "cell_type": "markdown",
   "metadata": {},
   "source": [
    "아래와 같이 풀었을 경우 pop 때문에 효율성 테스트에서 막힘 pop을 안 쓰고 인덱스 조정해야 함."
   ]
  },
  {
   "cell_type": "markdown",
   "metadata": {},
   "source": [
    "![](lv2\\구명보트.png)"
   ]
  },
  {
   "cell_type": "code",
   "execution_count": 9,
   "metadata": {},
   "outputs": [
    {
     "data": {
      "text/plain": [
       "3"
      ]
     },
     "execution_count": 9,
     "metadata": {},
     "output_type": "execute_result"
    }
   ],
   "source": [
    "def solution(people,limit):\n",
    "    people=sorted(people)\n",
    "    cnt=0\n",
    "    \n",
    "    while people:\n",
    "        A=people.pop()\n",
    "        cnt+=1\n",
    "        \n",
    "        if not people:\n",
    "            break\n",
    "        \n",
    "        elif A+people[0]<=limit:\n",
    "            people.pop(0)\n",
    "        \n",
    "    \n",
    "    return cnt\n",
    "\n",
    "people=[160, 150, 140, 60, 50, 40]\n",
    "limit=200\n",
    "\n",
    "solution(people,limit)"
   ]
  },
  {
   "cell_type": "code",
   "execution_count": 10,
   "metadata": {},
   "outputs": [],
   "source": [
    "def solution(people,limit):\n",
    "    people=sorted(people)\n",
    "    cnt=0\n",
    "    start=0\n",
    "    end=len(people)-1\n",
    "    \n",
    "    while start<=end:\n",
    "        cnt+=1\n",
    "        if start>=end: \n",
    "            break\n",
    "        elif people[end]+people[start]<=limit:\n",
    "            start+=1\n",
    "        end-=1\n",
    "    return cnt"
   ]
  },
  {
   "cell_type": "markdown",
   "metadata": {},
   "source": [
    "**총평 : start와 end를 인덱스로 지정 후 end는 무조건 줄어들고 start는 조건에 맞을 때 땡겨서 커지기**"
   ]
  },
  {
   "cell_type": "markdown",
   "metadata": {},
   "source": [
    "-------------------------------------------"
   ]
  },
  {
   "cell_type": "markdown",
   "metadata": {},
   "source": [
    "# **카펫**"
   ]
  },
  {
   "cell_type": "markdown",
   "metadata": {},
   "source": [
    "![](lv2\\카펫.png)"
   ]
  },
  {
   "cell_type": "code",
   "execution_count": 13,
   "metadata": {},
   "outputs": [],
   "source": [
    "def gab(n):\n",
    "    result=[]\n",
    "    case=[x for x in range(1,n+1) if n%x==0]\n",
    "    if len(case)==1:\n",
    "        result.append((1,1))\n",
    "    else:\n",
    "        for a in range(len(case)//2):\n",
    "            result.append((case[a],case[-1-a]))\n",
    "            if len(case)%2==1:\n",
    "                result.append((case[len(case)//2],case[len(case)//2]))\n",
    "    return result\n",
    "\n",
    "def solution(brown,yellow):\n",
    "    yellow=gab(yellow)\n",
    "    w=0\n",
    "    h=0\n",
    "    for i in yellow:\n",
    "        w=i[1]+2\n",
    "        h=i[0]+2\n",
    "        if w*2+h*2-4==brown:\n",
    "            break\n",
    "    return [w,h]"
   ]
  },
  {
   "cell_type": "markdown",
   "metadata": {},
   "source": [
    "**총평 : 직접 몇 개 그려보니 답이 나온다. yellow에 따라 모양이 바뀌기 때문에 yellow의 경우의 수를 구하는 gab 함수를 짰다. 약수에 따라 모든 경우의 수를 구한 뒤 brown과 맞춰보면 답을 쉽게 구할 수 있음.**"
   ]
  },
  {
   "cell_type": "markdown",
   "metadata": {},
   "source": [
    "----------------------------------------------------------"
   ]
  },
  {
   "cell_type": "markdown",
   "metadata": {},
   "source": [
    "# **폰켓몬**"
   ]
  },
  {
   "cell_type": "markdown",
   "metadata": {},
   "source": [
    "![](lv2\\폰켓몬.png)"
   ]
  },
  {
   "cell_type": "code",
   "execution_count": 25,
   "metadata": {},
   "outputs": [],
   "source": [
    "def solution(nums):\n",
    "\n",
    "    result=[]\n",
    "    for i in nums:\n",
    "        if i in result:\n",
    "            continue\n",
    "        else:\n",
    "            result.append(i)\n",
    "    return len(result[:len(nums)//2])\n"
   ]
  },
  {
   "cell_type": "markdown",
   "metadata": {},
   "source": [
    "다른 사람 풀이(.... 심플)"
   ]
  },
  {
   "cell_type": "code",
   "execution_count": null,
   "metadata": {},
   "outputs": [],
   "source": [
    "def solution(ls):\n",
    "    return min(len(ls)/2, len(set(ls)))"
   ]
  },
  {
   "cell_type": "markdown",
   "metadata": {},
   "source": [
    "-------------------------------------"
   ]
  },
  {
   "cell_type": "markdown",
   "metadata": {},
   "source": [
    "# **전화번호 목록**"
   ]
  },
  {
   "cell_type": "markdown",
   "metadata": {},
   "source": [
    "![](lv2\\전화번호목록.png)"
   ]
  },
  {
   "cell_type": "code",
   "execution_count": 7,
   "metadata": {},
   "outputs": [
    {
     "data": {
      "text/plain": [
       "False"
      ]
     },
     "execution_count": 7,
     "metadata": {},
     "output_type": "execute_result"
    }
   ],
   "source": [
    "phone_book=[\"119\", \"97674223\", \"1195524421\"]\n",
    "\n",
    "def solution(phone_book):\n",
    "    phone_book=sorted(phone_book,key=lambda x:len(x))\n",
    "    for i in range(len(phone_book)):\n",
    "        for j in range(i+1,len(phone_book)):\n",
    "            if phone_book[i]==phone_book[j][:len(phone_book[i])]:\n",
    "                return False\n",
    "    else:\n",
    "        return True  \n",
    "solution(phone_book)"
   ]
  },
  {
   "cell_type": "markdown",
   "metadata": {},
   "source": [
    "**총평: 문제의 의도는 해쉬였지만 구현으로도 풀렸다. 밑의 풀이는 다른 사람의 해쉬 풀이.**"
   ]
  },
  {
   "cell_type": "markdown",
   "metadata": {},
   "source": [
    "다른사람풀이(해쉬)"
   ]
  },
  {
   "cell_type": "code",
   "execution_count": 8,
   "metadata": {},
   "outputs": [],
   "source": [
    "def solution(phone_book):\n",
    "    answer = True\n",
    "    hash_map = {}\n",
    "    for phone_number in phone_book:\n",
    "        hash_map[phone_number] = 1\n",
    "    for phone_number in phone_book:\n",
    "        temp = \"\"\n",
    "        for number in phone_number:\n",
    "            temp += number\n",
    "            if temp in hash_map and temp != phone_number:\n",
    "                answer = False\n",
    "    return answer      "
   ]
  },
  {
   "cell_type": "markdown",
   "metadata": {},
   "source": [
    "--------------------------------------------------"
   ]
  },
  {
   "cell_type": "markdown",
   "metadata": {},
   "source": [
    "# **위장**"
   ]
  },
  {
   "cell_type": "markdown",
   "metadata": {},
   "source": [
    "![](lv2\\위장.png)"
   ]
  },
  {
   "cell_type": "code",
   "execution_count": 20,
   "metadata": {},
   "outputs": [],
   "source": [
    "clothes=[[\"crow_mask\", \"face\"], [\"blue_sunglasses\", \"face\"], [\"smoky_makeup\", \"face\"]]\n",
    "\n",
    "def solution(clothes):\n",
    "    hash_map={}\n",
    "    for i in clothes:\n",
    "        if i[1] in hash_map:\n",
    "            hash_map[i[1]]+=1\n",
    "        else:\n",
    "            hash_map[i[1]]=1\n",
    "    \n",
    "    cnt=1\n",
    "    for i in hash_map.values():\n",
    "        cnt*=(i+1)\n",
    "    \n",
    "    return cnt-1"
   ]
  },
  {
   "cell_type": "code",
   "execution_count": 21,
   "metadata": {},
   "outputs": [
    {
     "data": {
      "text/plain": [
       "3"
      ]
     },
     "execution_count": 21,
     "metadata": {},
     "output_type": "execute_result"
    }
   ],
   "source": [
    "solution(clothes)"
   ]
  },
  {
   "cell_type": "markdown",
   "metadata": {},
   "source": [
    "**총평 : 고등학교 경우의 수 문제 같아서 빠르게 풀었다. 두 종류의 조합 경우의 식이 n*m인데 이 스파이는 하나만 입고 나가도 되서 n+1,m+1을 곱했고 아예 안입은 경우의 수 1을 빼줌.**"
   ]
  },
  {
   "cell_type": "markdown",
   "metadata": {},
   "source": [
    "다른사람풀이(counter)"
   ]
  },
  {
   "cell_type": "code",
   "execution_count": 22,
   "metadata": {},
   "outputs": [],
   "source": [
    "def solution(clothes):\n",
    "    from collections import Counter\n",
    "    from functools import reduce\n",
    "    cnt = Counter([kind for name, kind in clothes])\n",
    "    answer = reduce(lambda x, y: x*(y+1), cnt.values(), 1) - 1\n",
    "    return answer"
   ]
  },
  {
   "cell_type": "markdown",
   "metadata": {},
   "source": [
    "# **올바른 괄호**"
   ]
  },
  {
   "cell_type": "markdown",
   "metadata": {},
   "source": [
    "![](lv2\\올바른괄호.png)"
   ]
  },
  {
   "cell_type": "code",
   "execution_count": 62,
   "metadata": {},
   "outputs": [],
   "source": [
    "def solution(s):\n",
    "    stack=[]\n",
    "    for i in s:\n",
    "        if i ==\"(\":\n",
    "            stack.append(i)\n",
    "        else:\n",
    "            if not stack:\n",
    "                return False\n",
    "            stack.pop()\n",
    "    return len(stack)==0"
   ]
  },
  {
   "cell_type": "markdown",
   "metadata": {},
   "source": [
    "**총평:전에 풀어본 괄호변환 문제와 유사하여 쉽게 풀었다.**"
   ]
  },
  {
   "cell_type": "markdown",
   "metadata": {},
   "source": [
    "------------------------------------------------------"
   ]
  },
  {
   "cell_type": "markdown",
   "metadata": {},
   "source": [
    "# **다음 큰 숫자**"
   ]
  },
  {
   "cell_type": "markdown",
   "metadata": {},
   "source": [
    "![](lv2\\다음큰숫자.png)"
   ]
  },
  {
   "cell_type": "code",
   "execution_count": 70,
   "metadata": {},
   "outputs": [],
   "source": [
    "def solution(n):\n",
    "    cnt=bin(n).count(\"1\")\n",
    "    while True:\n",
    "        n+=1\n",
    "        if cnt==bin(n).count(\"1\"):\n",
    "            break\n",
    "        \n",
    "    return n"
   ]
  },
  {
   "cell_type": "markdown",
   "metadata": {},
   "source": [
    "**총평 : 쉬웠음**"
   ]
  },
  {
   "cell_type": "markdown",
   "metadata": {},
   "source": [
    "---------------------------------------------------------------"
   ]
  },
  {
   "cell_type": "markdown",
   "metadata": {},
   "source": [
    "# **땅따먹기**"
   ]
  },
  {
   "cell_type": "markdown",
   "metadata": {},
   "source": [
    "![](lv2\\땅따먹기.png)"
   ]
  },
  {
   "cell_type": "code",
   "execution_count": 79,
   "metadata": {},
   "outputs": [],
   "source": [
    "land=[[1,2,3,5],[5,6,7,8],[4,3,2,1]]\n",
    "def solution(land):\n",
    "    for i in range(len(land)-1):\n",
    "        land[i+1][0]=max(land[i][1],land[i][2],land[i][3])+land[i+1][0]\n",
    "        land[i+1][1]=max(land[i][0],land[i][2],land[i][3])+land[i+1][1]\n",
    "        land[i+1][2]=max(land[i][0],land[i][3],land[i][1])+land[i+1][2]\n",
    "        land[i+1][3]=max(land[i][0],land[i][1],land[i][2])+land[i+1][3]\n",
    "    return max(land[-1])"
   ]
  },
  {
   "cell_type": "code",
   "execution_count": 78,
   "metadata": {},
   "outputs": [
    {
     "data": {
      "text/plain": [
       "[[1, 2, 3, 5], [10, 11, 12, 11], [16, 15, 13, 13]]"
      ]
     },
     "execution_count": 78,
     "metadata": {},
     "output_type": "execute_result"
    }
   ],
   "source": [
    "solution(land)"
   ]
  },
  {
   "cell_type": "markdown",
   "metadata": {},
   "source": [
    "**총평: 동적 풀이. bottom-up 풀이. 다음 땅 따먹기 자리를 점화식을 통해서 풀었다.**"
   ]
  },
  {
   "cell_type": "markdown",
   "metadata": {},
   "source": [
    "다른 사람 풀이(논리는 똑같으나 더 파이토닉)"
   ]
  },
  {
   "cell_type": "code",
   "execution_count": 81,
   "metadata": {},
   "outputs": [],
   "source": [
    "def solution(land):\n",
    "\n",
    "    for i in range(1, len(land)):\n",
    "        for j in range(len(land[0])):\n",
    "            land[i][j] = max(land[i -1][: j] + land[i - 1][j + 1:]) + land[i][j]\n",
    "\n",
    "    return max(land[-1])"
   ]
  },
  {
   "cell_type": "markdown",
   "metadata": {},
   "source": [
    "------------------------------------------------------"
   ]
  },
  {
   "cell_type": "markdown",
   "metadata": {},
   "source": [
    "# **행렬의 곱셈**"
   ]
  },
  {
   "cell_type": "markdown",
   "metadata": {},
   "source": [
    "![](lv2\\행렬의곱셈.png)"
   ]
  },
  {
   "cell_type": "code",
   "execution_count": 1,
   "metadata": {},
   "outputs": [],
   "source": [
    "def solution(arr1, arr2):\n",
    "    answer=[[0 for x in range(len(arr2[0]))] for y in range(len(arr1))]\n",
    "    \n",
    "    for i in range(len(arr1)):\n",
    "        for j in range(len(arr2[0])):\n",
    "            for k in range(len(arr1[0])):\n",
    "                answer[i][j]+=arr1[i][k]*arr2[k][j]\n",
    "    return answer"
   ]
  },
  {
   "cell_type": "markdown",
   "metadata": {},
   "source": [
    "**총평 : numpy를 이용해볼까 했지만 정석대로 풀어 나갔다.**"
   ]
  },
  {
   "cell_type": "code",
   "execution_count": 2,
   "metadata": {},
   "outputs": [],
   "source": [
    "import numpy as np\n",
    "def productMatrix(A, B):\n",
    "\n",
    "    return (np.matrix(A)*np.matrix(B)).tolist()"
   ]
  },
  {
   "cell_type": "markdown",
   "metadata": {},
   "source": [
    "--------------------------------------------------------------------------"
   ]
  },
  {
   "cell_type": "markdown",
   "metadata": {},
   "source": [
    "# **숫자의 표현**"
   ]
  },
  {
   "cell_type": "markdown",
   "metadata": {},
   "source": [
    "![](lv2\\숫자의표현.png)"
   ]
  },
  {
   "cell_type": "code",
   "execution_count": 3,
   "metadata": {},
   "outputs": [],
   "source": [
    "def solution(n):\n",
    "    answer=0\n",
    "    stack=list(range(1,n+1))\n",
    "    cnt=0\n",
    "    while stack:\n",
    "        for i in stack:\n",
    "            answer+=i\n",
    "            if answer==n:\n",
    "                cnt+=1\n",
    "                answer=0\n",
    "                stack.pop(0)\n",
    "                break\n",
    "            elif answer>n:\n",
    "                answer=0\n",
    "                stack.pop(0)\n",
    "                break\n",
    "    return cnt"
   ]
  },
  {
   "cell_type": "markdown",
   "metadata": {},
   "source": [
    "**총평 : 스택 구조로 1부터 하나씩 빼가면서 확인**"
   ]
  },
  {
   "cell_type": "markdown",
   "metadata": {},
   "source": [
    "# **최대값과 최솟값**"
   ]
  },
  {
   "cell_type": "markdown",
   "metadata": {},
   "source": [
    "![](lv2\\최대값최소값.png)"
   ]
  },
  {
   "cell_type": "code",
   "execution_count": 5,
   "metadata": {},
   "outputs": [],
   "source": [
    "def solution(s):\n",
    "    a=[int(x) for x in s.split(' ')]\n",
    "    return str(min(a))+' '+str(max(a))"
   ]
  },
  {
   "cell_type": "markdown",
   "metadata": {},
   "source": [
    "------------------------------------------------------------------"
   ]
  },
  {
   "cell_type": "markdown",
   "metadata": {},
   "source": [
    "# **최소값 만들기**"
   ]
  },
  {
   "cell_type": "markdown",
   "metadata": {},
   "source": [
    "![](lv2\\최소값만들기.png)"
   ]
  },
  {
   "cell_type": "code",
   "execution_count": 6,
   "metadata": {},
   "outputs": [],
   "source": [
    "def solution(A,B):\n",
    "    A.sort()\n",
    "    B.sort(reverse=True)\n",
    "    answer=0\n",
    "    for i in range(len(A)):\n",
    "        answer+=A[i]*B[i]\n",
    "        \n",
    "    return answer"
   ]
  },
  {
   "cell_type": "markdown",
   "metadata": {},
   "source": [
    "----------------------------------------------------------------------------"
   ]
  },
  {
   "cell_type": "markdown",
   "metadata": {},
   "source": [
    "# **튜플**"
   ]
  },
  {
   "cell_type": "markdown",
   "metadata": {},
   "source": [
    "![](lv2\\튜플.png)"
   ]
  },
  {
   "cell_type": "code",
   "execution_count": 27,
   "metadata": {},
   "outputs": [],
   "source": [
    "s=\"{{1,2,3},{2,1},{1,2,4,3},{2}}\""
   ]
  },
  {
   "cell_type": "code",
   "execution_count": 30,
   "metadata": {},
   "outputs": [],
   "source": [
    "import re\n",
    "def solution(s):\n",
    "    answer = []\n",
    "    a = s.split(',{')\n",
    "    a.sort(key = len)\n",
    "\n",
    "    for i in a:\n",
    "        numbers=re.findall('\\d+',i)\n",
    "        print(numbers)\n",
    "        for k in numbers:\n",
    "            if int(k) not in answer:\n",
    "                    answer.append(int(k))\n",
    "    return answer"
   ]
  },
  {
   "cell_type": "code",
   "execution_count": 31,
   "metadata": {},
   "outputs": [
    {
     "name": "stdout",
     "output_type": "stream",
     "text": [
      "['2']\n",
      "['2', '1']\n",
      "['1', '2', '3']\n",
      "['1', '2', '4', '3']\n"
     ]
    },
    {
     "data": {
      "text/plain": [
       "[2, 1, 3, 4]"
      ]
     },
     "execution_count": 31,
     "metadata": {},
     "output_type": "execute_result"
    }
   ],
   "source": [
    "solution(s)"
   ]
  },
  {
   "cell_type": "markdown",
   "metadata": {},
   "source": [
    "**총평: 처음에 문제 이해하는데 너무 오래 걸림... sorting을 길이별로 해줬으면 됐는데ㅠ 그냥 리스트 나누고 숫자만 뽑아서 추출하면 되는건데..**"
   ]
  },
  {
   "cell_type": "markdown",
   "metadata": {},
   "source": [
    "---------------------------------------------------------------------"
   ]
  },
  {
   "cell_type": "markdown",
   "metadata": {},
   "source": [
    "# **가장 큰 정사각형 만들기**"
   ]
  },
  {
   "cell_type": "markdown",
   "metadata": {},
   "source": [
    "![](lv2\\가장큰정사각형.png)"
   ]
  },
  {
   "cell_type": "code",
   "execution_count": 6,
   "metadata": {},
   "outputs": [],
   "source": [
    "board=[[0,1,1,1],[1,1,1,1],[1,1,1,1],[0,0,1,0]]\n",
    "\n",
    "def solution(board):\n",
    "    for i in range(1,len(board)):\n",
    "        for j in range(1, len(board[0])):\n",
    "            if board[i][j]>=1:\n",
    "                board[i][j]=min(board[i-1][j],board[i-1][j-1],board[i][j-1])+1\n",
    "    return max([num for row in board for num in row])**2"
   ]
  },
  {
   "cell_type": "code",
   "execution_count": 7,
   "metadata": {},
   "outputs": [
    {
     "data": {
      "text/plain": [
       "9"
      ]
     },
     "execution_count": 7,
     "metadata": {},
     "output_type": "execute_result"
    }
   ],
   "source": [
    "solution(board)"
   ]
  },
  {
   "cell_type": "markdown",
   "metadata": {},
   "source": [
    "**총평: 처음엔 완전탐색인줄 알고 bfs, dfs를 활용하려 했으나 계속해서 효율성에서 걸렸다.... 결국 다른 사람한테서 힌트를 얻어 dp로 문제를 해결. 정사각형이 되기 위해선 대각선과 위, 아래가 0이 아니면 된다. 그 값을 누적해 나가면 됨.** "
   ]
  },
  {
   "cell_type": "markdown",
   "metadata": {},
   "source": [
    "------------------------------------------------------------------------------------------------------"
   ]
  },
  {
   "cell_type": "markdown",
   "metadata": {},
   "source": [
    "# **이진변환 반복하기**"
   ]
  },
  {
   "cell_type": "markdown",
   "metadata": {},
   "source": [
    "![](lv2\\이진변환반복.png)"
   ]
  },
  {
   "cell_type": "code",
   "execution_count": 16,
   "metadata": {},
   "outputs": [],
   "source": [
    "s=\"110010101001\""
   ]
  },
  {
   "cell_type": "code",
   "execution_count": 17,
   "metadata": {},
   "outputs": [],
   "source": [
    "import re\n",
    "def solution(s):\n",
    "    result=[0,0]\n",
    "    while s!=\"1\":\n",
    "        result[0]+=1\n",
    "        result[1]+=s.count(\"0\")\n",
    "        s=''.join(re.findall(\"1+\",s))\n",
    "        s=bin(len(s))[2:]\n",
    "        \n",
    "    return result"
   ]
  },
  {
   "cell_type": "markdown",
   "metadata": {},
   "source": [
    "**총평 : 쉬웠음**"
   ]
  },
  {
   "cell_type": "markdown",
   "metadata": {},
   "source": [
    "------------------------------------------------------------------------"
   ]
  },
  {
   "cell_type": "markdown",
   "metadata": {},
   "source": [
    "# **수식 최대화 ★**"
   ]
  },
  {
   "cell_type": "markdown",
   "metadata": {},
   "source": [
    "![](lv2\\수식최대화.png)"
   ]
  },
  {
   "cell_type": "code",
   "execution_count": 28,
   "metadata": {},
   "outputs": [],
   "source": [
    "expression=\"100-200*300-500+20\""
   ]
  },
  {
   "cell_type": "code",
   "execution_count": 30,
   "metadata": {},
   "outputs": [],
   "source": [
    "\n",
    "\n",
    "def calc(priority,n,expression):\n",
    "    if n==2:\n",
    "        return str(eval(expression))\n",
    "    \n",
    "    if priority[n]==\"*\":\n",
    "        res='*'.join([calc(priority,n+1,x)for x in expression.split(\"*\")])\n",
    "    \n",
    "    if priority[n]==\"+\":\n",
    "        res='+'.join([calc(priority,n+1,x)for x in expression.split(\"+\")])\n",
    "    \n",
    "    if priority[n]==\"-\":\n",
    "        res='-'.join([calc(priority,n+1,x)for x in expression.split(\"-\")])\n",
    "    \n",
    "    return str(res)\n",
    "\n",
    "\n",
    "def solution(expression):\n",
    "    priority=[('*', '+', '-'),\n",
    "             ('*', '-', '+'),\n",
    "             ('+', '*', '-'),\n",
    "             ('+', '-', '*'),\n",
    "             ('-', '*', '+'),\n",
    "             ('-', '+', '*')]\n",
    "\n",
    "    answer=0\n",
    "    for p in priority:\n",
    "        res=int(calc(p,0,expression))\n",
    "        answer=max(answer,abs(res))\n",
    "        \n",
    "    return answer\n",
    "    "
   ]
  },
  {
   "cell_type": "markdown",
   "metadata": {},
   "source": [
    "**총평: 분할정복의 정석같은 문제 인 것 같다. 우선 수식에서 *>+>- 식으로 우선순위를 정했다면 -로 분할을 한 뒤, + 로 분할을 한 뒤, *의 수식 값과 그 값을 가지고 + 계산, -계산을 순차적으로 잇는다. eval 함수가 상당히 인상적이며, 재귀를 통해 풀었다.**"
   ]
  },
  {
   "cell_type": "markdown",
   "metadata": {},
   "source": [
    "---------------------------------------"
   ]
  },
  {
   "cell_type": "markdown",
   "metadata": {},
   "source": [
    "# **JadenCase문자열 만들기**"
   ]
  },
  {
   "cell_type": "markdown",
   "metadata": {},
   "source": [
    "![](lv2\\jadencase문자열.png)"
   ]
  },
  {
   "cell_type": "code",
   "execution_count": 16,
   "metadata": {},
   "outputs": [],
   "source": [
    "s=\"3people  unFollowed me\""
   ]
  },
  {
   "cell_type": "code",
   "execution_count": 1,
   "metadata": {},
   "outputs": [],
   "source": [
    "#런타임 에러 코드\n",
    "def solution(s):\n",
    "    s=s.lower()\n",
    "    return ' '.join([x[0].upper()+x[1:] for x in s.split(' ')])"
   ]
  },
  {
   "cell_type": "code",
   "execution_count": 2,
   "metadata": {},
   "outputs": [],
   "source": [
    "def solution(s):\n",
    "    return \" \".join(map(lambda x: \"\".join([a.upper() if i == 0 else a.lower() for i,a in enumerate(x)]), s.split(\" \")))"
   ]
  },
  {
   "cell_type": "code",
   "execution_count": 3,
   "metadata": {},
   "outputs": [
    {
     "ename": "NameError",
     "evalue": "name 's' is not defined",
     "output_type": "error",
     "traceback": [
      "\u001b[1;31m---------------------------------------------------------------------------\u001b[0m",
      "\u001b[1;31mNameError\u001b[0m                                 Traceback (most recent call last)",
      "\u001b[1;32m<ipython-input-3-1a220af1142c>\u001b[0m in \u001b[0;36m<module>\u001b[1;34m\u001b[0m\n\u001b[1;32m----> 1\u001b[1;33m \u001b[0msolution\u001b[0m\u001b[1;33m(\u001b[0m\u001b[0ms\u001b[0m\u001b[1;33m)\u001b[0m\u001b[1;33m\u001b[0m\u001b[1;33m\u001b[0m\u001b[0m\n\u001b[0m",
      "\u001b[1;31mNameError\u001b[0m: name 's' is not defined"
     ]
    }
   ],
   "source": [
    "solution(s)"
   ]
  },
  {
   "cell_type": "markdown",
   "metadata": {},
   "source": [
    "**총평 : 단순하게 풀려고 했으나 공백이 2개 이상일 때, 런타임 에러가 발생. lv1에 이상한 문자 만들기와 거의 같은 문제라 lmabda 함수와 map 함수 이용하여 풀이.**"
   ]
  },
  {
   "cell_type": "markdown",
   "metadata": {},
   "source": [
    "다른사람 풀이 (내장함수 중에 이런게 있다니.... 지금은 안되는 코드...3people이 아닌 3People로 나옴)"
   ]
  },
  {
   "cell_type": "code",
   "execution_count": 4,
   "metadata": {},
   "outputs": [],
   "source": [
    "def solution(s):\n",
    "    return s.title()"
   ]
  },
  {
   "cell_type": "code",
   "execution_count": 5,
   "metadata": {},
   "outputs": [
    {
     "ename": "NameError",
     "evalue": "name 's' is not defined",
     "output_type": "error",
     "traceback": [
      "\u001b[1;31m---------------------------------------------------------------------------\u001b[0m",
      "\u001b[1;31mNameError\u001b[0m                                 Traceback (most recent call last)",
      "\u001b[1;32m<ipython-input-5-1a220af1142c>\u001b[0m in \u001b[0;36m<module>\u001b[1;34m\u001b[0m\n\u001b[1;32m----> 1\u001b[1;33m \u001b[0msolution\u001b[0m\u001b[1;33m(\u001b[0m\u001b[0ms\u001b[0m\u001b[1;33m)\u001b[0m\u001b[1;33m\u001b[0m\u001b[1;33m\u001b[0m\u001b[0m\n\u001b[0m",
      "\u001b[1;31mNameError\u001b[0m: name 's' is not defined"
     ]
    }
   ],
   "source": [
    "solution(s)"
   ]
  },
  {
   "cell_type": "markdown",
   "metadata": {},
   "source": [
    "---------------------------------------------"
   ]
  },
  {
   "cell_type": "markdown",
   "metadata": {},
   "source": [
    "# **N개의 최소공배수**"
   ]
  },
  {
   "cell_type": "markdown",
   "metadata": {},
   "source": [
    "![](lv2\\N개최소공배수.png)"
   ]
  },
  {
   "cell_type": "code",
   "execution_count": 27,
   "metadata": {},
   "outputs": [],
   "source": [
    "def gcd(a,b):\n",
    "    return b if a%b==0 else gcd(b,a%b)\n",
    "def solution(arr):\n",
    "    while len(arr)>1:\n",
    "        n,m = arr.pop(),arr.pop()\n",
    "        arr.append(n*m//gcd(n,m))\n",
    "    return arr.pop()"
   ]
  },
  {
   "cell_type": "code",
   "execution_count": 6,
   "metadata": {},
   "outputs": [
    {
     "ename": "AttributeError",
     "evalue": "'list' object has no attribute 'title'",
     "output_type": "error",
     "traceback": [
      "\u001b[1;31m---------------------------------------------------------------------------\u001b[0m",
      "\u001b[1;31mAttributeError\u001b[0m                            Traceback (most recent call last)",
      "\u001b[1;32m<ipython-input-6-da085b873269>\u001b[0m in \u001b[0;36m<module>\u001b[1;34m\u001b[0m\n\u001b[1;32m----> 1\u001b[1;33m \u001b[0msolution\u001b[0m\u001b[1;33m(\u001b[0m\u001b[1;33m[\u001b[0m\u001b[1;36m2\u001b[0m\u001b[1;33m,\u001b[0m\u001b[1;36m6\u001b[0m\u001b[1;33m,\u001b[0m\u001b[1;36m8\u001b[0m\u001b[1;33m,\u001b[0m\u001b[1;36m14\u001b[0m\u001b[1;33m]\u001b[0m\u001b[1;33m)\u001b[0m\u001b[1;33m\u001b[0m\u001b[1;33m\u001b[0m\u001b[0m\n\u001b[0m",
      "\u001b[1;32m<ipython-input-4-b0c6d6d076fd>\u001b[0m in \u001b[0;36msolution\u001b[1;34m(s)\u001b[0m\n\u001b[0;32m      1\u001b[0m \u001b[1;32mdef\u001b[0m \u001b[0msolution\u001b[0m\u001b[1;33m(\u001b[0m\u001b[0ms\u001b[0m\u001b[1;33m)\u001b[0m\u001b[1;33m:\u001b[0m\u001b[1;33m\u001b[0m\u001b[1;33m\u001b[0m\u001b[0m\n\u001b[1;32m----> 2\u001b[1;33m     \u001b[1;32mreturn\u001b[0m \u001b[0ms\u001b[0m\u001b[1;33m.\u001b[0m\u001b[0mtitle\u001b[0m\u001b[1;33m(\u001b[0m\u001b[1;33m)\u001b[0m\u001b[1;33m\u001b[0m\u001b[1;33m\u001b[0m\u001b[0m\n\u001b[0m",
      "\u001b[1;31mAttributeError\u001b[0m: 'list' object has no attribute 'title'"
     ]
    }
   ],
   "source": [
    "solution([2,6,8,14])"
   ]
  },
  {
   "cell_type": "markdown",
   "metadata": {},
   "source": [
    "**총평 : 이전의 gcd 문제를 활용. arr를 스택구조**"
   ]
  },
  {
   "cell_type": "markdown",
   "metadata": {},
   "source": [
    "-----------------"
   ]
  },
  {
   "cell_type": "markdown",
   "metadata": {},
   "source": [
    "# **짝지어 제거하기**"
   ]
  },
  {
   "cell_type": "markdown",
   "metadata": {},
   "source": [
    "![](lv2\\짝지어제거하기.png)"
   ]
  },
  {
   "cell_type": "code",
   "execution_count": 30,
   "metadata": {},
   "outputs": [],
   "source": [
    "def solution(s):\n",
    "    answer=1\n",
    "    tmp=[]\n",
    "    for x in s:\n",
    "        if not tmp:\n",
    "            tmp.append(x)\n",
    "        elif tmp[-1]==x:\n",
    "            tmp.pop()\n",
    "        else:\n",
    "            tmp.append(x)\n",
    "                \n",
    "    return 1 if not tmp else 0"
   ]
  },
  {
   "cell_type": "markdown",
   "metadata": {},
   "source": [
    "**총평 : 스택구조 활용**"
   ]
  },
  {
   "cell_type": "markdown",
   "metadata": {},
   "source": [
    "--------------------------------------------------------------------"
   ]
  },
  {
   "cell_type": "markdown",
   "metadata": {},
   "source": [
    "# **쿼드 압축 후 개수세기 ★**"
   ]
  },
  {
   "cell_type": "markdown",
   "metadata": {},
   "source": [
    "![](lv2\\쿼드압축.png)"
   ]
  },
  {
   "cell_type": "code",
   "execution_count": 35,
   "metadata": {},
   "outputs": [],
   "source": [
    "def solution(arr):\n",
    "    answer=[0,0]\n",
    "    N=len(arr)\n",
    "    \n",
    "    def comp(x,y,n):\n",
    "        init=arr[x][y]\n",
    "        for i in range(x,x+n):\n",
    "            for j in range(y,y+n):\n",
    "                if init !=arr[i][j]:\n",
    "                    nn=n//2\n",
    "                    comp(x,y,nn)\n",
    "                    comp(x+nn,y,nn)\n",
    "                    comp(x,y+nn,nn)\n",
    "                    comp(x+nn,y+nn,nn)\n",
    "                    return\n",
    "        answer[init]+=1\n",
    "    comp(0,0,N)\n",
    "    return answer"
   ]
  },
  {
   "cell_type": "markdown",
   "metadata": {},
   "source": [
    "**총평 : 분할정복 문제였는데 너무 오래 걸렸다. 복습 필요..**"
   ]
  },
  {
   "cell_type": "markdown",
   "metadata": {},
   "source": [
    "다른사람 풀이 (numpy)"
   ]
  },
  {
   "cell_type": "code",
   "execution_count": 36,
   "metadata": {},
   "outputs": [
    {
     "data": {
      "text/plain": [
       "[4, 9]"
      ]
     },
     "execution_count": 36,
     "metadata": {},
     "output_type": "execute_result"
    }
   ],
   "source": [
    "import numpy as np\n",
    "\n",
    "def solution(arr):\n",
    "    # 재귀함수 구현\n",
    "    def fn(a):\n",
    "        if np.all(a == 0): return np.array([1, 0])\n",
    "        if np.all(a == 1): return np.array([0, 1])\n",
    "        n = a.shape[0]//2\n",
    "        return fn(a[:n, :n]) + fn(a[n:, :n]) + fn(a[:n, n:]) + fn(a[n:, n:])\n",
    "\n",
    "    # 결과 리턴\n",
    "    return fn(np.array(arr)).tolist()\n",
    "solution([[1,1,0,0],[1,0,0,0],[1,0,0,1],[1,1,1,1]])"
   ]
  },
  {
   "cell_type": "code",
   "execution_count": 37,
   "metadata": {},
   "outputs": [
    {
     "data": {
      "text/plain": [
       "[4, 9]"
      ]
     },
     "execution_count": 37,
     "metadata": {},
     "output_type": "execute_result"
    }
   ],
   "source": [
    "def check(s):\n",
    "    n = len(s)\n",
    "    if n == 1:\n",
    "        return s[0][0]\n",
    "    temp= [[] for _ in range(n//2)]\n",
    "    for i in range(1,n,2):\n",
    "        for j in range(1,n,2):\n",
    "            zero = s[i][j][0] + s[i][j-1][0] + s[i-1][j][0] + s[i-1][j-1][0]\n",
    "            one = s[i][j][1] + s[i][j-1][1] + s[i-1][j][1] + s[i-1][j-1][1]\n",
    "            # 압축\n",
    "            if one == 0: zero = 1\n",
    "            if zero == 0: one = 1\n",
    "            temp[i//2].append([zero, one])\n",
    "    return check(temp)\n",
    "            \n",
    "\n",
    "def solution(arr):\n",
    "    n = len(arr)\n",
    "    first = [[] for _ in range(n//2)]\n",
    "\n",
    "    # 초기 이차원 배열 만들기 \n",
    "    for i in range(1,n,2):\n",
    "        for j in range(1,n,2):\n",
    "            temp = [arr[i][j], arr[i][j-1], arr[i-1][j], arr[i-1][j-1]]\n",
    "            one = temp.count(1)\n",
    "            zero = temp.count(0)\n",
    "            if one == 0: zero = 1\n",
    "            if zero == 0: one = 1\n",
    "            first[i//2].append([zero, one])\n",
    "    \n",
    "    return check(first)\n",
    "solution([[1,1,0,0],[1,0,0,0],[1,0,0,1],[1,1,1,1]])"
   ]
  },
  {
   "cell_type": "markdown",
   "metadata": {},
   "source": [
    "-----------------------------------------"
   ]
  },
  {
   "cell_type": "markdown",
   "metadata": {},
   "source": [
    "# **순위 결정(카카오) ★★★**"
   ]
  },
  {
   "cell_type": "markdown",
   "metadata": {},
   "source": [
    "![](lv2\\순위결정1.png)\n",
    "![](lv2\\순위결정2.png)"
   ]
  },
  {
   "cell_type": "code",
   "execution_count": 77,
   "metadata": {},
   "outputs": [],
   "source": [
    "query=[\"java and backend and junior and pizza 100\",\"python and frontend and senior and chicken 200\",\"cpp and - and senior and pizza 250\",\"- and backend and senior and - 150\",\"- and - and - and chicken 100\",\"- and - and - and - 150\"]\n",
    "\n",
    "info=[\"java backend junior pizza 150\",\"python frontend senior chicken 210\",\"python frontend senior chicken 150\",\"cpp backend senior pizza 260\",\"java backend junior chicken 80\",\"python backend senior chicken 50\"]\n",
    "\n",
    "from itertools import combinations"
   ]
  },
  {
   "cell_type": "code",
   "execution_count": 96,
   "metadata": {},
   "outputs": [],
   "source": [
    "def solution(info,query):\n",
    "    answer=[]\n",
    "    db={}\n",
    "    for i in info:\n",
    "        temp=i.split(\" \")\n",
    "        conditions=temp[:-1]\n",
    "        score=int(temp[-1])\n",
    "        \n",
    "        for x in range(5): #0부터 해야 \"-\" 없는 조건이 생김\n",
    "            combi=list(combinations(range(4),x))\n",
    "            for c in combi:\n",
    "                t_c=conditions.copy()\n",
    "                \n",
    "                for v in c:\n",
    "                    t_c[v]=\"-\"\n",
    "                \n",
    "                changed_t_c=\"/\".join(t_c)\n",
    "                if changed_t_c in db:\n",
    "                    db[changed_t_c].append(score)\n",
    "                else:\n",
    "                    db[changed_t_c]=[score]\n",
    "    \n",
    "    for value in db.values():\n",
    "        value.sort()\n",
    "    \n",
    "    \n",
    "    for q in query:\n",
    "        qry=[x for x in q.split(\" \") if x!='and']\n",
    "        qry_cnd=\"/\".join(qry[:-1])\n",
    "        qry_score=int(qry[-1])\n",
    "        \n",
    "        if qry_cnd in db:\n",
    "            data=db[qry_cnd]\n",
    "            if len(data)>0:\n",
    "                start, end = 0, len(data)\n",
    "                \n",
    "                while start!=end:\n",
    "                    if data[(start+end)//2] < qry_score:\n",
    "                        start=(start+end)//2+1\n",
    "                    else:\n",
    "                        end=(start+end)//2\n",
    "                \n",
    "                answer.append(len(data)-start)\n",
    "        else:\n",
    "            answer.append(0)\n",
    "\n",
    "    return answer\n",
    "                \n",
    "        "
   ]
  },
  {
   "cell_type": "code",
   "execution_count": 97,
   "metadata": {},
   "outputs": [
    {
     "data": {
      "text/plain": [
       "[1, 1, 1, 1, 2, 4]"
      ]
     },
     "execution_count": 97,
     "metadata": {},
     "output_type": "execute_result"
    }
   ],
   "source": [
    "solution(info,query)"
   ]
  },
  {
   "cell_type": "markdown",
   "metadata": {},
   "source": [
    "**총평 : 이런거 나오면 절대 혼자 못 풀겠다...... 이진탐색은 공부 좀 한 줄 알았는데 전혀 생각나지 않았고 그룹화시켜 저장해야 한다는 것도 전혀 떠오르지 않아서 다른 사람의 풀이를 참고했다. 다음과 같은 그룹 딕셔너리를 만드는게 핵심 포인트**"
   ]
  },
  {
   "cell_type": "markdown",
   "metadata": {},
   "source": [
    "![](lv2\\순위결정3.png)"
   ]
  },
  {
   "cell_type": "markdown",
   "metadata": {},
   "source": [
    "----------------------------------------------------------"
   ]
  },
  {
   "cell_type": "markdown",
   "metadata": {},
   "source": [
    "# **영어 끝말잇기**"
   ]
  },
  {
   "cell_type": "markdown",
   "metadata": {},
   "source": [
    "![](lv2\\영어끝말잇기.png)"
   ]
  },
  {
   "cell_type": "code",
   "execution_count": 104,
   "metadata": {},
   "outputs": [],
   "source": [
    "words=[\"tank\", \"kick\", \"know\", \"wheel\", \"land\", \"dream\", \"mother\", \"robot\", \"tank\"]"
   ]
  },
  {
   "cell_type": "code",
   "execution_count": 105,
   "metadata": {},
   "outputs": [],
   "source": [
    "n=3"
   ]
  },
  {
   "cell_type": "code",
   "execution_count": 106,
   "metadata": {},
   "outputs": [],
   "source": [
    "def solution(n,words):\n",
    "    answer=[0,0]\n",
    "    for i in range(1,len(words)):\n",
    "        if (words[i-1][-1]!=words[i][0]) or (words[i] in words[:i]):\n",
    "            answer[0]=(i%n)+1\n",
    "            answer[1]=(i//n)+1\n",
    "            break\n",
    "    return answer"
   ]
  },
  {
   "cell_type": "markdown",
   "metadata": {},
   "source": [
    "**총평 : 위의 문제에 비해 비교적 빠르게 풀었다.**"
   ]
  },
  {
   "cell_type": "markdown",
   "metadata": {},
   "source": [
    "----------------------------"
   ]
  },
  {
   "cell_type": "markdown",
   "metadata": {},
   "source": [
    "# **소수 만들기**"
   ]
  },
  {
   "cell_type": "markdown",
   "metadata": {},
   "source": [
    "![](lv2\\소수만들기.png)"
   ]
  },
  {
   "cell_type": "code",
   "execution_count": 24,
   "metadata": {},
   "outputs": [],
   "source": [
    "numbers=[1,2,7,6,4]\n",
    "\n",
    "from itertools import combinations\n",
    "def solution(nums):\n",
    "    aa=list(combinations(nums,3))\n",
    "\n",
    "    cnt=0\n",
    "    for i in aa:\n",
    "        num=sum(i)\n",
    "        for i in range(2,num-1):\n",
    "            if num%i==0:\n",
    "                break\n",
    "        else:\n",
    "            cnt+=1\n",
    "    return -1 if cnt==0 else cnt"
   ]
  },
  {
   "cell_type": "code",
   "execution_count": 25,
   "metadata": {},
   "outputs": [
    {
     "data": {
      "text/plain": [
       "4"
      ]
     },
     "execution_count": 25,
     "metadata": {},
     "output_type": "execute_result"
    }
   ],
   "source": [
    "solution(numbers)"
   ]
  },
  {
   "cell_type": "markdown",
   "metadata": {},
   "source": [
    "**총평 : 1분컷 ,쉽게 풀었음...**"
   ]
  },
  {
   "cell_type": "markdown",
   "metadata": {},
   "source": [
    "---------------------------------------------"
   ]
  },
  {
   "cell_type": "markdown",
   "metadata": {},
   "source": [
    "# **오픈채팅방 카카오**"
   ]
  },
  {
   "cell_type": "markdown",
   "metadata": {},
   "source": [
    "![](lv2\\오픈채팅방.png)"
   ]
  },
  {
   "cell_type": "code",
   "execution_count": 60,
   "metadata": {},
   "outputs": [],
   "source": [
    "import re\n",
    "record= [\"Enter uid1234 Muzi\", \"Enter uid4567 Prodo\", \"Leave uid1234\", \"Enter uid1234 Prodo\", \"Change uid4567 Ryan\"]\n",
    "\n",
    "dic={}\n",
    "answer=[]\n",
    "for i in record:\n",
    "    tmp=i.split(\" \")\n",
    "    if tmp[0]==\"Enter\":\n",
    "        dic[tmp[1]]=tmp[2]\n",
    "        answer.append(tmp[1]+\"님이 들어왔습니다.\")\n",
    "    elif tmp[0]==\"Leave\":\n",
    "        answer.append(tmp[1]+\"님이 나갔습니다.\")\n",
    "        del dic[tmp[1]]\n",
    "    else:\n",
    "        dic[tmp[1]]=tmp[2]\n",
    "\n",
    "for i, j in dic.items():\n",
    "    for x in answer:\n",
    "        if i == x[:len(i)+1]:\n",
    "            x=j+x[len(i):]\n",
    "    "
   ]
  },
  {
   "cell_type": "markdown",
   "metadata": {},
   "source": [
    "** 첫풀이 : 너무 바보같이 생각했다. answer를 다 만든 후 웹처럼 자리만 바꿔주면 된다고 생각했는데 그렇게 하면 dic에서 삭제된 id가 answer에 반영되지 않는다.**"
   ]
  },
  {
   "cell_type": "code",
   "execution_count": 59,
   "metadata": {},
   "outputs": [],
   "source": [
    "def solution(record):\n",
    "    dic={}\n",
    "    answer=[]\n",
    "    records=list(map(lambda x : x.split(\" \"),record))\n",
    "    for i in records:\n",
    "        try :\n",
    "            dic[i[1]]=i[2]\n",
    "        except:\n",
    "            continue\n",
    "\n",
    "    for i in records:\n",
    "        if i[0]==\"Enter\":\n",
    "            answer.append(dic[i[1]]+\"님이 들어왔습니다.\")\n",
    "\n",
    "        elif i[0]==\"Leave\":\n",
    "            answer.append(dic[i[1]]+\"님이 나갔습니다.\")\n",
    "    \n",
    "    return answer"
   ]
  },
  {
   "cell_type": "markdown",
   "metadata": {},
   "source": [
    "**총평: try out문 써본지 한참 됐는데 다른 사람 풀이를 참고해서 풀었다.**"
   ]
  },
  {
   "cell_type": "markdown",
   "metadata": {},
   "source": [
    "------------------------------------------------------------------"
   ]
  },
  {
   "cell_type": "markdown",
   "metadata": {},
   "source": [
    "# **뉴스 클러스터링**"
   ]
  },
  {
   "cell_type": "markdown",
   "metadata": {},
   "source": [
    "![](lv2\\뉴스클러스터링.png)"
   ]
  },
  {
   "cell_type": "code",
   "execution_count": 120,
   "metadata": {},
   "outputs": [],
   "source": [
    "import re\n",
    "\n",
    "def solution(str1,str2):\n",
    "    str1=[str1[i:i+2].lower() for i in range(0,len(str1)-1) if not re.findall(\"[^a-zA-Z]+\",str1[i:i+2])]\n",
    "    str2=[str2[i:i+2].lower() for i in range(0,len(str2)-1) if not re.findall(\"[^a-zA-Z]+\",str2[i:i+2])]\n",
    "\n",
    "    gyo=set(str1)&set(str2)\n",
    "    hap=set(str1)|set(str2)\n",
    "    \n",
    "    if len(hap)==0:\n",
    "        return 65536\n",
    "    \n",
    "    gyo_sum=sum([min(str1.count(i),str2.count(i)) for i in gyo])\n",
    "    hap_sum=sum([max(str1.count(i),str2.count(i)) for i in hap])\n",
    "    \n",
    "    return int(gyo_sum/hap_sum*65536)\n",
    "\n"
   ]
  },
  {
   "cell_type": "markdown",
   "metadata": {},
   "source": [
    "**총평: 처음 for 문 만드는데 문제를 잘못 이해해서 오래 걸렸다. 그 외에는 수월. 어느 정도 정규식에 익숙해졌다.**"
   ]
  },
  {
   "cell_type": "markdown",
   "metadata": {},
   "source": [
    "----------------------------------------------------"
   ]
  },
  {
   "cell_type": "markdown",
   "metadata": {},
   "source": [
    "# **예상 대진표**"
   ]
  },
  {
   "cell_type": "markdown",
   "metadata": {},
   "source": [
    "![](lv2\\예상대진표.png)"
   ]
  },
  {
   "cell_type": "code",
   "execution_count": 156,
   "metadata": {},
   "outputs": [],
   "source": [
    "N,A,B=8,4,7\n",
    "\n",
    "def solution(N,A,B):\n",
    "    n=list(range(1,N+1))\n",
    "    answer=0\n",
    "    while N!=1:\n",
    "        N//=2\n",
    "        answer+=1\n",
    "    for i in range(answer):\n",
    "        leng=len(n)//2\n",
    "        if A in n[leng:] and B in n[leng:]:\n",
    "            answer-=1\n",
    "            n=n[leng:]\n",
    "        elif A in n[:leng] and B in n[:leng]:\n",
    "            answer-=1\n",
    "            n=n[:leng]\n",
    "        else:\n",
    "            return answer"
   ]
  },
  {
   "cell_type": "code",
   "execution_count": 157,
   "metadata": {},
   "outputs": [
    {
     "data": {
      "text/plain": [
       "3"
      ]
     },
     "execution_count": 157,
     "metadata": {},
     "output_type": "execute_result"
    }
   ],
   "source": [
    "solution(N,A,B)"
   ]
  },
  {
   "cell_type": "markdown",
   "metadata": {},
   "source": [
    "**총평 : 분할정복**"
   ]
  },
  {
   "cell_type": "markdown",
   "metadata": {},
   "source": [
    "다른사람의 풀이(시간은 더 효율)"
   ]
  },
  {
   "cell_type": "code",
   "execution_count": 158,
   "metadata": {},
   "outputs": [],
   "source": [
    "def solution(n,a,b): \n",
    "    answer = 0\n",
    "    while a != b: \n",
    "        answer += 1\n",
    "        # 1을 더해서 2로 나누었을 때, 자리수를 맞춰줌\n",
    "        # 예) 1, 2의 경우는 2, 3으로 해서 나눴을때 몫이 1이 되도록\n",
    "        a, b = (a+1)//2, (b+1)//2\n",
    "    return answer"
   ]
  },
  {
   "cell_type": "markdown",
   "metadata": {},
   "source": [
    "---------------------------------------"
   ]
  },
  {
   "cell_type": "markdown",
   "metadata": {},
   "source": [
    "# **캐시(카카오)**"
   ]
  },
  {
   "cell_type": "markdown",
   "metadata": {},
   "source": [
    "![](lv2\\캐시.png)"
   ]
  },
  {
   "cell_type": "code",
   "execution_count": 159,
   "metadata": {},
   "outputs": [],
   "source": [
    "def solution(cacheSize, cities):\n",
    "    cache=[]\n",
    "    answer=0\n",
    "    cities=list(map(lambda x :x.lower() ,cities))\n",
    "    \n",
    "    if cacheSize==0:\n",
    "        return len(cities)*5\n",
    "    \n",
    "    for i in cities:\n",
    "        if i not in cache:\n",
    "            if len(cache)<cacheSize:\n",
    "                cache.append(i)\n",
    "                answer+=5\n",
    "            else:\n",
    "                cache.pop(0)\n",
    "                cache.append(i)\n",
    "                answer+=5\n",
    "        else:\n",
    "            cache.pop(cache.index(i))\n",
    "            cache.append(i)\n",
    "            answer+=1\n",
    "    return answer"
   ]
  },
  {
   "cell_type": "markdown",
   "metadata": {},
   "source": [
    "**총평 : LRU 개념에 대해 알아야 한다. 캐시를 활용해 새로운 걸로 업데이트 하는 식.**"
   ]
  },
  {
   "cell_type": "markdown",
   "metadata": {},
   "source": [
    "다른사람풀이(deque에 maxlen이 있구나...)"
   ]
  },
  {
   "cell_type": "code",
   "execution_count": null,
   "metadata": {},
   "outputs": [],
   "source": [
    "def solution(cacheSize, cities):\n",
    "    import collections\n",
    "    cache = collections.deque(maxlen=cacheSize)\n",
    "    time = 0\n",
    "    for i in cities:\n",
    "        s = i.lower()\n",
    "        if s in cache:\n",
    "            cache.remove(s)\n",
    "            cache.append(s)\n",
    "            time += 1\n",
    "        else:\n",
    "            cache.append(s)\n",
    "            time += 5\n",
    "    return time"
   ]
  },
  {
   "cell_type": "markdown",
   "metadata": {},
   "source": [
    "------------------------------------------------"
   ]
  },
  {
   "cell_type": "markdown",
   "metadata": {},
   "source": [
    "# **프렌즈4블록(카카오) ★**"
   ]
  },
  {
   "cell_type": "markdown",
   "metadata": {},
   "source": [
    "![](lv2\\프렌즈1.png)\n",
    "![](lv2\\프렌즈2.png)\n",
    "![](lv2\\프렌즈3.png)"
   ]
  },
  {
   "cell_type": "code",
   "execution_count": 42,
   "metadata": {},
   "outputs": [],
   "source": [
    "m,n,board=4,5,[\"CCBDE\", \"AAADE\", \"AAABF\", \"CCBBF\"]"
   ]
  },
  {
   "cell_type": "code",
   "execution_count": 43,
   "metadata": {},
   "outputs": [],
   "source": [
    "\n",
    "# board를 돌아다니면서 True값 표시.\n",
    "def finder(m,n,board,visited):\n",
    "    for i in range(1,m):\n",
    "        for j in range(1,n):\n",
    "            if board[i][j]!=' ' and board[i][j]==board[i-1][j] and board[i][j]==board[i][j-1] and board[i][j]==board[i-1][j-1]:\n",
    "                visited[i][j]=True\n",
    "                visited[i-1][j]=True\n",
    "                visited[i][j-1]=True\n",
    "                visited[i-1][j-1]=True\n",
    "\n",
    "                \n",
    "def delete_block(m,n,visited,board):\n",
    "# True값 개수를 세어주고    \n",
    "    cnt=0\n",
    "    for i in range(m):\n",
    "        for j in range(n):\n",
    "            if visited[i][j]==True:\n",
    "                cnt+=1\n",
    "                board[i]=board[i][:j]+' '+board[i][j+1:]\n",
    "# 이중 배열 아니라서 행렬을 뒤집어 인덱싱 밀리게 하기\n",
    "    rotation_board=[]\n",
    "    for i in range(n):\n",
    "        tmp=''\n",
    "        for j in range(m):\n",
    "            tmp+=board[j][i]\n",
    "        rotation_board.append(tmp)\n",
    "\n",
    "    for i in range(n):\n",
    "        for j in range(m):\n",
    "            if rotation_board[i][j]==' ':\n",
    "                rotation_board[i]=' '+rotation_board[i][:j]+rotation_board[i][j+1:]\n",
    "# 다시 정방향으로 돌려놓고\n",
    "    tmp_board=[]\n",
    "    for i in range(m):\n",
    "        tmp=''\n",
    "        for j in range(n):\n",
    "            tmp+=rotation_board[j][i]\n",
    "        tmp_board.append(tmp)\n",
    "    board=tmp_board\n",
    "\n",
    "    return board,cnt\n",
    "\n",
    "def solution(m,n,board):\n",
    "    \n",
    "    result=1\n",
    "    answer=0\n",
    "    while result:\n",
    "        visited=[[False]*n for i in range(m)]\n",
    "        finder(m,n,board,visited)\n",
    "        board,result=delete_block(m,n,visited,board)\n",
    "        answer+=result\n",
    "    return answer"
   ]
  },
  {
   "cell_type": "code",
   "execution_count": 44,
   "metadata": {},
   "outputs": [
    {
     "data": {
      "text/plain": [
       "14"
      ]
     },
     "execution_count": 44,
     "metadata": {},
     "output_type": "execute_result"
    }
   ],
   "source": [
    "solution(m,n,board)"
   ]
  },
  {
   "cell_type": "markdown",
   "metadata": {},
   "source": [
    "**총평 : 코드 풀이를 주석으로... 시뮬레이션 문제인데 생각보다 오래걸림... 1시간.....**"
   ]
  },
  {
   "cell_type": "markdown",
   "metadata": {},
   "source": [
    "----------------"
   ]
  },
  {
   "cell_type": "markdown",
   "metadata": {},
   "source": [
    "# **점프와 순간이동**"
   ]
  },
  {
   "cell_type": "markdown",
   "metadata": {},
   "source": [
    "![](lv2\\점프와순간이동.png)"
   ]
  },
  {
   "cell_type": "code",
   "execution_count": 45,
   "metadata": {},
   "outputs": [],
   "source": [
    "def solution(n):\n",
    "    cnt=0\n",
    "    while n:\n",
    "        if n%2==0:\n",
    "            n//=2\n",
    "        else:\n",
    "            n-=1\n",
    "            cnt+=1\n",
    "    return cnt"
   ]
  },
  {
   "cell_type": "markdown",
   "metadata": {},
   "source": [
    "**총평 : 당연히 순간이동을 최선으로 생각해야 하기에 n이 짝수면 반으로 줄이기. 홀수면 1 빼기**"
   ]
  },
  {
   "cell_type": "markdown",
   "metadata": {},
   "source": [
    "다른사람풀이"
   ]
  },
  {
   "cell_type": "code",
   "execution_count": 47,
   "metadata": {},
   "outputs": [],
   "source": [
    "def solution(n):\n",
    "    return bin(n).count('1')"
   ]
  },
  {
   "cell_type": "markdown",
   "metadata": {},
   "source": [
    "----------------------------------------"
   ]
  },
  {
   "cell_type": "markdown",
   "metadata": {},
   "source": [
    "# **후보키 (카카오) ★**"
   ]
  },
  {
   "cell_type": "markdown",
   "metadata": {},
   "source": [
    "![](lv2\\후보키.png)"
   ]
  },
  {
   "cell_type": "code",
   "execution_count": 1,
   "metadata": {},
   "outputs": [],
   "source": [
    "relation=[[\"100\", \"ryan\", \"music\", \"2\"], [\"200\", \"apeach\", \"math\", \"2\"], [\"300\", \"tube\", \"computer\", \"3\"], [\"400\", \"con\", \"computer\", \"4\"], [\"500\", \"muzi\", \"music\", \"3\"], [\"600\", \"apeach\", \"music\", \"2\"]]\n",
    "\n",
    "from collections import deque\n",
    "from itertools import combinations\n",
    "def solution(relation):\n",
    "    n_row=len(relation)\n",
    "    n_col=len(relation[0])\n",
    "\n",
    "    candidates=[]\n",
    "    for i in range(1,n_col+1):\n",
    "        candidates.extend(combinations(range(n_col),i))\n",
    "\n",
    "    final=[]\n",
    "    for keys in candidates:\n",
    "        tmp=[tuple([item[key] for key in keys])for item in relation]\n",
    "        if len(set(tmp))==n_row:\n",
    "            final.append(keys)\n",
    "\n",
    "    answer=set(final)\n",
    "    for i in range(len(final)):\n",
    "        for j in range(i+1,len(final)):\n",
    "             if len(final[i])==len(set(final[i]).intersection(set(final[j]))):\n",
    "                    answer.discard(final[j])\n",
    "    \n",
    "    return len(answer)"
   ]
  },
  {
   "cell_type": "code",
   "execution_count": 4,
   "metadata": {},
   "outputs": [],
   "source": [
    "n_row=len(relation)\n",
    "n_col=len(relation[0])\n",
    "\n",
    "candidates=[]\n",
    "for i in range(1,n_col+1):\n",
    "    candidates.extend(combinations(range(n_col),i))\n",
    "\n",
    "final=[]\n",
    "for keys in candidates:\n",
    "    tmp=[tuple([item[key] for key in keys])for item in relation]\n",
    "    \n",
    "    if len(set(tmp))==n_row:\n",
    "        final.append(keys)\n",
    "\n",
    "answer=set(final)\n",
    "for i in range(len(final)):\n",
    "    for j in range(i+1,len(final)):\n",
    "         if len(final[i])==len(set(final[i]).intersection(set(final[j]))):\n",
    "                answer.discard(final[j])"
   ]
  },
  {
   "cell_type": "markdown",
   "metadata": {},
   "source": [
    "![](lv2\\후보키2.png)"
   ]
  },
  {
   "cell_type": "markdown",
   "metadata": {},
   "source": [
    "**총평 : 다른사람의 풀이를 참고했다. 모든 경우의 수 중에서 유일성 만족하는 것을 찾고 그 중에 최소성을 만족하는 것을 반환한다. combinations 사용할 때 extend가 유용하다.\n",
    "    최소성 만족하는 것을 찾기가 어려웠는데 위 그림대로 집합의 관점에서 보면 쉽다. final에 들어간 것(슈퍼키 집합) 중에 길이가 다음것과의 교집합의 길이와 같으면 최소성을 만족하지 않음.**"
   ]
  },
  {
   "cell_type": "code",
   "execution_count": 86,
   "metadata": {
    "scrolled": true
   },
   "outputs": [
    {
     "name": "stdout",
     "output_type": "stream",
     "text": [
      "1\n",
      "2\n",
      "3\n",
      "4\n",
      "5\n",
      "6\n",
      "7\n",
      "8\n",
      "9\n",
      "10\n",
      "11\n",
      "12\n",
      "13\n",
      "14\n",
      "15\n"
     ]
    }
   ],
   "source": [
    "for i in range(1, 1<<4):\n",
    "    print(i)"
   ]
  },
  {
   "cell_type": "markdown",
   "metadata": {},
   "source": [
    "-----------------------------------------------------------------"
   ]
  },
  {
   "cell_type": "markdown",
   "metadata": {},
   "source": [
    "# **n진수 게임 (카카오)**"
   ]
  },
  {
   "cell_type": "markdown",
   "metadata": {},
   "source": [
    "![](lv2\\n진수게임.png)"
   ]
  },
  {
   "cell_type": "code",
   "execution_count": 44,
   "metadata": {},
   "outputs": [],
   "source": [
    "def converter(n,base):\n",
    "    T='0123456789ABCDEF'\n",
    "    q,r=divmod(n,base)\n",
    "    return converter(q,base) + T[r] if q else T[r] \n",
    "\n",
    "def solution(n,t,m,p):\n",
    "    answer=''\n",
    "    candidates=[]\n",
    "    \n",
    "    for i in range(t*m):\n",
    "        conv=converter(i,n)\n",
    "        for j in conv:\n",
    "            candidates.append(j)\n",
    "    \n",
    "    for i in range(p-1,t*m,m):\n",
    "        answer+=candidates[i]\n",
    "    \n",
    "    return answer"
   ]
  },
  {
   "cell_type": "markdown",
   "metadata": {},
   "source": [
    "**총평 : 카카오 문제 치고는 쉽게 풀어냈다. 진법만 알면 다들 쉽게 풀었을 듯.. 다만 첫 번째 루프의 시간복잡도가 좀 마음에 걸림..**\n",
    "            "
   ]
  },
  {
   "cell_type": "markdown",
   "metadata": {},
   "source": [
    "다른사람풀이(시간복잡도 고려)"
   ]
  },
  {
   "cell_type": "code",
   "execution_count": null,
   "metadata": {},
   "outputs": [],
   "source": [
    "def convert(n, base):\n",
    "    T = \"0123456789ABCDEF\"\n",
    "\n",
    "    q, r = divmod(n, base)\n",
    "    if q == 0:\n",
    "        return T[r]\n",
    "    else:\n",
    "        return convert(q, base) + T[r]\n",
    "\n",
    "\n",
    "def solution(n, t, m, p):\n",
    "    answer = ''\n",
    "\n",
    "    member = m\n",
    "    point = p\n",
    "\n",
    "    start = 0\n",
    "    point_index = 1\n",
    "    while(True):\n",
    "\n",
    "        for x in convert(start, n):\n",
    "            if point == point_index:\n",
    "                answer += x\n",
    "\n",
    "            if len(answer) == t:\n",
    "                break\n",
    "\n",
    "            point_index += 1\n",
    "            if point_index == member+1:\n",
    "                point_index = 1\n",
    "\n",
    "        if len(answer) == t:\n",
    "            break\n",
    "        start += 1\n",
    "\n",
    "    return answer"
   ]
  },
  {
   "cell_type": "markdown",
   "metadata": {},
   "source": [
    "---------------------------------"
   ]
  },
  {
   "cell_type": "markdown",
   "metadata": {},
   "source": [
    "# **방금 그곡 (카카오)**"
   ]
  },
  {
   "cell_type": "markdown",
   "metadata": {},
   "source": [
    "![](lv2\\방금그곡.png)"
   ]
  },
  {
   "cell_type": "code",
   "execution_count": 100,
   "metadata": {},
   "outputs": [],
   "source": [
    "m,musicinfos=\"CC#BCC#BCC#BCC#B\",[\"03:00,03:30,FOO,CC#B\", \"04:00,04:08,BAR,CC#BCC#BCC#B\"]\n",
    "\n",
    "def change(s):\n",
    "    s = s.replace('A#','a')\n",
    "    s = s.replace('F#','f')\n",
    "    s = s.replace('C#','c')\n",
    "    s = s.replace('D#','d')\n",
    "    s = s.replace('G#','g')\n",
    "    return s\n",
    "\n",
    "def calctime(musicinfo):\n",
    "    starttime=musicinfo[0].split(':')\n",
    "    endtime=musicinfo[1].split(':')\n",
    "    hour=int(endtime[0])*60-int(starttime[0])*60\n",
    "    mm=int(endtime[1])-int(starttime[1])\n",
    "    return hour+mm\n",
    "\n",
    "\n",
    "def solution(m,musicinfos):\n",
    "    answer=[]\n",
    "    m=change(m)\n",
    "    for x, i in enumerate(musicinfos):\n",
    "        musicinfo=change(i).split(',')\n",
    "        playtime=calctime(musicinfo)\n",
    "        cnt,rem=divmod(playtime,len(musicinfo[3]))\n",
    "        music=cnt*musicinfo[3]+musicinfo[3][:rem]\n",
    "\n",
    "        if m in music:\n",
    "            answer.append((x,playtime,musicinfo[2]))\n",
    "\n",
    "    if len(answer) !=0:\n",
    "        answer=sorted(answer, key= lambda x:(-x[1],x[0]))\n",
    "        return answer[0][2]\n",
    "\n",
    "    return \"(None)\""
   ]
  },
  {
   "cell_type": "markdown",
   "metadata": {},
   "source": [
    "**총평 : 구현 문제를 풀면 너무 오래 걸린다..... 단순하더라도 ㅠㅠ.. 우선 시간차이를 구해주고 시간차이만큼 플레이된 음악을 걸러야 하는데 \"#\"이 막힌다. 그래서 change함수로 대체해주고 m이 melody 안에 있음 정답 후보. 그리고 재생시간과 인덱스에 따라 정렬한다**"
   ]
  },
  {
   "cell_type": "markdown",
   "metadata": {},
   "source": [
    "------------------------------------------------------------------------------"
   ]
  },
  {
   "cell_type": "markdown",
   "metadata": {},
   "source": [
    "# **파일명 정렬 카카오**"
   ]
  },
  {
   "cell_type": "markdown",
   "metadata": {},
   "source": [
    "# ![](lv2\\파일명정렬.png)"
   ]
  },
  {
   "cell_type": "code",
   "execution_count": 1,
   "metadata": {},
   "outputs": [],
   "source": [
    "files=[\"img12.png\", \"img10.png\", \"img02.png\", \"img1.png\", \"IMG01.GIF\", \"img2.JPG\"]"
   ]
  },
  {
   "cell_type": "code",
   "execution_count": 6,
   "metadata": {},
   "outputs": [],
   "source": [
    "import re\n",
    "def solution(files):\n",
    "    temp=[re.split('([0-9])+',s) for s in files]\n",
    "    print(temp)\n",
    "    temp=sorted(temp,key=lambda x:(x[0].lower(),int(x[1])))\n",
    "    return [\"\".join(s) for s in temp]"
   ]
  },
  {
   "cell_type": "code",
   "execution_count": 7,
   "metadata": {},
   "outputs": [
    {
     "name": "stdout",
     "output_type": "stream",
     "text": [
      "[['img', '2', '.png'], ['img', '0', '.png'], ['img', '2', '.png'], ['img', '1', '.png'], ['IMG', '1', '.GIF'], ['img', '2', '.JPG']]\n"
     ]
    },
    {
     "data": {
      "text/plain": [
       "['img0.png', 'img1.png', 'IMG1.GIF', 'img2.png', 'img2.png', 'img2.JPG']"
      ]
     },
     "execution_count": 7,
     "metadata": {},
     "output_type": "execute_result"
    }
   ],
   "source": [
    "solution(files)"
   ]
  },
  {
   "cell_type": "markdown",
   "metadata": {},
   "source": [
    "**총평 : 정규식 문제** "
   ]
  },
  {
   "cell_type": "markdown",
   "metadata": {},
   "source": [
    "-------------------------------------------"
   ]
  },
  {
   "cell_type": "markdown",
   "metadata": {},
   "source": [
    "# **압축 카카오**"
   ]
  },
  {
   "cell_type": "markdown",
   "metadata": {},
   "source": [
    "![](lv2\\압축.png)"
   ]
  },
  {
   "cell_type": "code",
   "execution_count": 37,
   "metadata": {},
   "outputs": [],
   "source": [
    "def solution(msg):\n",
    "\n",
    "    dictionary={k:i for i,k in enumerate([chr(x) for x in range(ord('A'),ord('Z')+1)],1)}\n",
    "    answer=[]\n",
    "    w,c=0,0\n",
    "    while True:\n",
    "        c+=1\n",
    "        if c==len(msg):\n",
    "            answer.append(dictionary[msg[w:c]])\n",
    "            break\n",
    "        if msg[w:c+1] not in dictionary:\n",
    "            dictionary[msg[w:c+1]]=len(dictionary)+1\n",
    "            answer.append(dictionary[msg[w:c]])\n",
    "            w=c\n",
    "    return answer"
   ]
  },
  {
   "cell_type": "markdown",
   "metadata": {},
   "source": [
    "**총평 : w, c의 규칙성을 찾아 구현**"
   ]
  },
  {
   "cell_type": "markdown",
   "metadata": {},
   "source": [
    "# **맵 최단 거리**"
   ]
  },
  {
   "cell_type": "markdown",
   "metadata": {},
   "source": [
    "![](lv2\\맵최단거리.png)"
   ]
  },
  {
   "cell_type": "code",
   "execution_count": 2,
   "metadata": {},
   "outputs": [],
   "source": [
    "from collections import deque\n",
    "\n",
    "def solution(maps):\n",
    "    dx=[-1,1,0,0]\n",
    "    dy=[0,0,-1,1]\n",
    "    table=[[-1 for y in range(len(maps[0]))] for y in range(len(maps))]\n",
    "    table[0][0]=1\n",
    "    queue=deque()\n",
    "    queue.append((0,0))\n",
    "    \n",
    "    while queue:\n",
    "        x,y=queue.popleft()\n",
    "        \n",
    "        for i in range(4):\n",
    "            nx=x+dx[i]\n",
    "            ny=y+dy[i]\n",
    "            \n",
    "            if -1<nx<len(maps) and -1<ny<len(maps[0]):\n",
    "                if maps[nx][ny]==1:\n",
    "                    if table[nx][ny]==-1:\n",
    "                        table[nx][ny]=table[x][y]+1\n",
    "                        queue.append((nx,ny))\n",
    "                     \n",
    "    return table[-1][-1]\n"
   ]
  },
  {
   "cell_type": "code",
   "execution_count": 3,
   "metadata": {},
   "outputs": [
    {
     "data": {
      "text/plain": [
       "11"
      ]
     },
     "execution_count": 3,
     "metadata": {},
     "output_type": "execute_result"
    }
   ],
   "source": [
    "maps=[[1,0,1,1,1],[1,0,1,0,1],[1,0,1,1,1],[1,1,1,0,1],[0,0,0,0,1]]\n",
    "solution(maps)"
   ]
  },
  {
   "cell_type": "markdown",
   "metadata": {},
   "source": [
    "**총평 : 비슷한 문제를 BFS로 풀어본 경험이 있었다. 직관적으로 BFS를 써야 한다는 건 알았는데 table 변수 선언을 하는데 애먹었다....**"
   ]
  },
  {
   "cell_type": "markdown",
   "metadata": {},
   "source": [
    "---------------------------------------------"
   ]
  },
  {
   "cell_type": "markdown",
   "metadata": {},
   "source": [
    "# **방문 길이**"
   ]
  },
  {
   "cell_type": "markdown",
   "metadata": {},
   "source": [
    "![](lv2\\방문길이.png)"
   ]
  },
  {
   "cell_type": "code",
   "execution_count": 1,
   "metadata": {},
   "outputs": [],
   "source": [
    "dirs=\"LULLLLLLU\"\n",
    "def solution(dirs):\n",
    "    move={\"U\":(0,1),\"D\":(0,-1),\"L\":(-1,0),\"R\":(1,0)}\n",
    "    visit=set()\n",
    "    x,y=(0,0)\n",
    "    \n",
    "    for d in dirs:\n",
    "        nx,ny=x+move[d][0],y+move[d][1]\n",
    "        \n",
    "        if -5<=nx<=5 and -5<=ny<=5:\n",
    "            visit.add((x,y,nx,ny))\n",
    "            visit.add((nx,ny,x,y))\n",
    "            \n",
    "            x,y=nx,ny\n",
    "    print(visit)\n",
    "    return len(visit)//2"
   ]
  },
  {
   "cell_type": "code",
   "execution_count": 2,
   "metadata": {},
   "outputs": [
    {
     "name": "stdout",
     "output_type": "stream",
     "text": [
      "{(-5, 2, -5, 1), (0, 0, -1, 0), (-2, 1, -3, 1), (-1, 0, 0, 0), (-5, 1, -5, 2), (-3, 1, -2, 1), (-3, 1, -4, 1), (-1, 1, -1, 0), (-4, 1, -3, 1), (-2, 1, -1, 1), (-4, 1, -5, 1), (-1, 0, -1, 1), (-5, 1, -4, 1), (-1, 1, -2, 1)}\n"
     ]
    },
    {
     "data": {
      "text/plain": [
       "7"
      ]
     },
     "execution_count": 2,
     "metadata": {},
     "output_type": "execute_result"
    }
   ],
   "source": [
    "solution(dirs)"
   ]
  },
  {
   "cell_type": "markdown",
   "metadata": {},
   "source": [
    "**총평 : 딕셔너리 구조 이해하고 stack느낌으로 알았는데 점이 아닌 간선을 저장 해야 쉬움. set을 이용한 간선 저장 기억할 것.**"
   ]
  },
  {
   "cell_type": "markdown",
   "metadata": {},
   "source": [
    "------------------------"
   ]
  },
  {
   "cell_type": "markdown",
   "metadata": {},
   "source": [
    "# **음양더하기**"
   ]
  },
  {
   "cell_type": "markdown",
   "metadata": {},
   "source": [
    "![](lv2\\음양더하기.png)"
   ]
  },
  {
   "cell_type": "code",
   "execution_count": 2,
   "metadata": {},
   "outputs": [],
   "source": [
    "def solution(absolutes, signs):\n",
    "    answer=[]\n",
    "    for a,b in zip(absolutes,signs):\n",
    "        if b:\n",
    "            answer.append(a)\n",
    "        else:\n",
    "            answer.append(-1*a)\n",
    "    return sum(answer)"
   ]
  },
  {
   "cell_type": "code",
   "execution_count": null,
   "metadata": {},
   "outputs": [],
   "source": [
    "--------------------"
   ]
  }
 ],
 "metadata": {
  "kernelspec": {
   "display_name": "Python 3",
   "language": "python",
   "name": "python3"
  },
  "language_info": {
   "codemirror_mode": {
    "name": "ipython",
    "version": 3
   },
   "file_extension": ".py",
   "mimetype": "text/x-python",
   "name": "python",
   "nbconvert_exporter": "python",
   "pygments_lexer": "ipython3",
   "version": "3.8.5"
  }
 },
 "nbformat": 4,
 "nbformat_minor": 4
}
