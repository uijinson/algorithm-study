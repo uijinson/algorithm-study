{
 "cells": [
  {
   "cell_type": "markdown",
   "metadata": {},
   "source": [
    "# **프린터**"
   ]
  },
  {
   "cell_type": "markdown",
   "metadata": {},
   "source": [
    "![프린터](lv2\\프린터.png)"
   ]
  },
  {
   "cell_type": "code",
   "execution_count": 52,
   "metadata": {},
   "outputs": [],
   "source": [
    "def solution(priority,location):\n",
    "    answer=[]\n",
    "    p=[(idx, x) for idx, x in enumerate(priority)]\n",
    "    backup=p[location]\n",
    "    \n",
    "    \n",
    "    \n",
    "    while priority:\n",
    "        if p[0][1]==max(priority):\n",
    "            answer.append(p.pop(0))\n",
    "            priority.remove(max(priority))\n",
    "        else:\n",
    "            p.append(p.pop(0))\n",
    "        \n",
    "    \n",
    "    return answer.index(backup)+1"
   ]
  },
  {
   "cell_type": "markdown",
   "metadata": {},
   "source": [
    "**총평 : 스택 구조 활용,, 처음에 인덱스 추가 없이 반복문 돌렸을 때, 두번째 test case에서 막혔다.**"
   ]
  },
  {
   "cell_type": "markdown",
   "metadata": {},
   "source": [
    "다른사람풀이(any 활용)"
   ]
  },
  {
   "cell_type": "code",
   "execution_count": 53,
   "metadata": {},
   "outputs": [],
   "source": [
    "def solution(priorities, location):\n",
    "    queue =  [(i,p) for i,p in enumerate(priorities)]\n",
    "    answer = 0\n",
    "    while True:\n",
    "        cur = queue.pop(0)\n",
    "        if any(cur[1] < q[1] for q in queue):\n",
    "            queue.append(cur)\n",
    "        else:\n",
    "            answer += 1\n",
    "            if cur[0] == location:\n",
    "                return answer\n",
    "                "
   ]
  },
  {
   "cell_type": "markdown",
   "metadata": {},
   "source": [
    "------------------------------------------------------------------------------"
   ]
  },
  {
   "cell_type": "markdown",
   "metadata": {},
   "source": [
    "# **124 나라의 숫자**"
   ]
  },
  {
   "cell_type": "markdown",
   "metadata": {},
   "source": [
    "![124나라의 숫자](lv2\\124나라.png)"
   ]
  },
  {
   "cell_type": "code",
   "execution_count": 54,
   "metadata": {},
   "outputs": [],
   "source": [
    "def solution(n):\n",
    "    a='412'\n",
    "    answer=''\n",
    "    while n:\n",
    "        n,rem=divmod(n,3)\n",
    "        answer=a[rem]+answer\n",
    "        if not rem:\n",
    "            n-=1\n",
    "    return answer"
   ]
  },
  {
   "cell_type": "code",
   "execution_count": 55,
   "metadata": {},
   "outputs": [
    {
     "data": {
      "text/plain": [
       "'41'"
      ]
     },
     "execution_count": 55,
     "metadata": {},
     "output_type": "execute_result"
    }
   ],
   "source": [
    "solution(10)"
   ]
  },
  {
   "cell_type": "markdown",
   "metadata": {},
   "source": [
    "**총평 : 진법 문제를 많이 풀어본 경험이 있어서 손쉽게 해결**"
   ]
  },
  {
   "cell_type": "markdown",
   "metadata": {},
   "source": [
    "# **멀쩡한 사각형**"
   ]
  },
  {
   "cell_type": "markdown",
   "metadata": {},
   "source": [
    "![](lv2\\멀쩡한사각형.png)"
   ]
  },
  {
   "cell_type": "code",
   "execution_count": 56,
   "metadata": {},
   "outputs": [],
   "source": [
    "def gcd(a,b):\n",
    "    return b if a%b==0 else gcd(b,a%b)\n",
    "def solution(w,h):\n",
    "    return w*h-(w+h-gcd(w,h))"
   ]
  },
  {
   "cell_type": "code",
   "execution_count": 57,
   "metadata": {},
   "outputs": [
    {
     "data": {
      "text/plain": [
       "80"
      ]
     },
     "execution_count": 57,
     "metadata": {},
     "output_type": "execute_result"
    }
   ],
   "source": [
    "solution(8,12)"
   ]
  },
  {
   "cell_type": "markdown",
   "metadata": {},
   "source": [
    "**총평: 최대 공약수 문제. 위와 같이 x,y좌표를 그리면 x는 2의 배수, y는 3의 배수가 된다. 대각선의 교점을 세면 4개로 w,h의 최대 공약수가 된다.\n",
    "최대 공약수가 1인 경우, 사라지는 사각형은 w+h-1로 위의 경우 4개. 이러면 사라지는 사각형의 총 개수는 g * (w/g+h/g-1)로 16개.**"
   ]
  },
  {
   "cell_type": "markdown",
   "metadata": {},
   "source": [
    "--------------------------------------------------------------------------------------------"
   ]
  }
 ],
 "metadata": {
  "kernelspec": {
   "display_name": "Python 3",
   "language": "python",
   "name": "python3"
  },
  "language_info": {
   "codemirror_mode": {
    "name": "ipython",
    "version": 3
   },
   "file_extension": ".py",
   "mimetype": "text/x-python",
   "name": "python",
   "nbconvert_exporter": "python",
   "pygments_lexer": "ipython3",
   "version": "3.8.5"
  }
 },
 "nbformat": 4,
 "nbformat_minor": 4
}
