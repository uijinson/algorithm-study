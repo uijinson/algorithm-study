{
 "cells": [
  {
   "cell_type": "markdown",
   "metadata": {},
   "source": [
    "# **크레인 인형뽑기 게임**"
   ]
  },
  {
   "cell_type": "code",
   "execution_count": null,
   "metadata": {},
   "outputs": [],
   "source": [
    "boards=[[0,0,0,0,0],[0,0,1,0,3],[0,2,5,0,1],[4,2,4,4,2],[3,5,1,3,1]]\n",
    "moves=[1,5,3,5,1,2,1,4]\n",
    "\n",
    "def solution(boards,moves):\n",
    "    stacks=[0]\n",
    "    answer=0\n",
    "    for i in moves:\n",
    "        for row_idx in range(len(boards)):\n",
    "            if boards[row_idx][i-1]==0:\n",
    "                continue\n",
    "            else:\n",
    "                if(boards[row_idx][i-1]==stacks[-1]):\n",
    "                    stacks.pop()\n",
    "                    boards[row_idx][i-1]==0\n",
    "                    answer+=2\n",
    "                    break\n",
    "                \n",
    "                \n",
    "                stacks.append(boards[row_idx][i-1])\n",
    "                boards[row_idx][i-1]=0\n",
    "                break\n",
    "                \n",
    "    return answer\n",
    "\n",
    "solution(boards,moves)"
   ]
  },
  {
   "cell_type": "markdown",
   "metadata": {},
   "source": [
    "**총평 : 다른 사람 풀이도 대부분 스택을 활용하여 풀었다. 단순 구현 문제 중에서 쉬운 편.**\n",
    "\n"
   ]
  },
  {
   "cell_type": "markdown",
   "metadata": {},
   "source": [
    "----------------------------------------------------------------------------------------"
   ]
  },
  {
   "cell_type": "markdown",
   "metadata": {},
   "source": [
    "# **두개 뽑아서 더하기**"
   ]
  },
  {
   "cell_type": "code",
   "execution_count": null,
   "metadata": {},
   "outputs": [],
   "source": [
    "def solution(numbers):\n",
    "    answer=set()\n",
    "    while numbers:\n",
    "        stack=numbers.pop()\n",
    "        for i in numbers:\n",
    "            answer.add(stack+i)\n",
    "    return sorted(list(answer))"
   ]
  },
  {
   "cell_type": "markdown",
   "metadata": {},
   "source": [
    "**총평 : 스택과 set 활용하는 쉬운 문제**\n",
    "\n"
   ]
  },
  {
   "cell_type": "markdown",
   "metadata": {},
   "source": [
    "다른 사람 풀이 ( comprehension)"
   ]
  },
  {
   "cell_type": "code",
   "execution_count": null,
   "metadata": {},
   "outputs": [],
   "source": [
    "def solution(numbers): \n",
    "    return sorted({numbers[i] + numbers[j] for i in range(len(numbers)) for j in range(len(numbers)) if i>j})\n"
   ]
  },
  {
   "cell_type": "markdown",
   "metadata": {},
   "source": [
    "----------------------------------------------------------------------------------------"
   ]
  },
  {
   "cell_type": "markdown",
   "metadata": {},
   "source": [
    "# **완주하지 못한 선수**"
   ]
  },
  {
   "cell_type": "code",
   "execution_count": null,
   "metadata": {},
   "outputs": [],
   "source": [
    "participant=[\"marina\", \"josipa\", \"nikola\", \"vinko\", \"filipa\"]\n",
    "completion=[\"josipa\", \"filipa\", \"marina\", \"nikola\"]"
   ]
  },
  {
   "cell_type": "code",
   "execution_count": null,
   "metadata": {},
   "outputs": [],
   "source": [
    "from collections import Counter\n",
    "def soltuion(participant,completion):\n",
    "    return list(Counter(participant)-Counter(completion))[0]"
   ]
  },
  {
   "cell_type": "code",
   "execution_count": null,
   "metadata": {},
   "outputs": [],
   "source": [
    "soltuion(participant,completion)"
   ]
  },
  {
   "cell_type": "markdown",
   "metadata": {},
   "source": [
    "**총평 : counter 함수 연습용**\n",
    "\n"
   ]
  },
  {
   "cell_type": "markdown",
   "metadata": {},
   "source": [
    "----------------------------------------------------------------------------------------"
   ]
  },
  {
   "cell_type": "markdown",
   "metadata": {},
   "source": [
    "# **모의고사**"
   ]
  },
  {
   "cell_type": "code",
   "execution_count": null,
   "metadata": {},
   "outputs": [],
   "source": [
    "answer=[1,3,2,4,2]"
   ]
  },
  {
   "cell_type": "code",
   "execution_count": null,
   "metadata": {},
   "outputs": [],
   "source": [
    "def solution(answer):\n",
    "    team1=[1,2,3,4,5]\n",
    "    team2=[2,1,2,3,2,4,2,5]\n",
    "    team3=[3,3,1,1,2,2,4,4,5,5]\n",
    "    result=[0,0,0]\n",
    "    ans=[]\n",
    "    for i in range(len(answer)):\n",
    "        if answer[i]==team1[i%len(team1)]:\n",
    "            result[0]+=1\n",
    "        if answer[i]==team2[i%len(team2)]:\n",
    "            result[1]+=1\n",
    "        if answer[i]==team3[i%len(team3)]:\n",
    "            result[2]+=1\n",
    "    m=max(result)\n",
    "    \n",
    "    for i in range(len(result)):\n",
    "        if m==result[i]:\n",
    "            ans.append(i+1)\n",
    "    return ans"
   ]
  },
  {
   "cell_type": "code",
   "execution_count": null,
   "metadata": {},
   "outputs": [],
   "source": [
    "solution(answer)"
   ]
  },
  {
   "cell_type": "markdown",
   "metadata": {},
   "source": [
    "**총평 : 단순 구현 문제**\n",
    "\n"
   ]
  },
  {
   "cell_type": "markdown",
   "metadata": {},
   "source": [
    "----------------------------------------------------------------------------------------"
   ]
  },
  {
   "cell_type": "markdown",
   "metadata": {},
   "source": [
    "# **체육복 ★** "
   ]
  },
  {
   "cell_type": "code",
   "execution_count": null,
   "metadata": {},
   "outputs": [],
   "source": [
    "n=5\n",
    "lost=[2]\n",
    "reserve=[1,4,5]\n",
    "\n",
    "def solution(n,lost,reserve):\n",
    "    los=set(lost)-set(reserve)\n",
    "    res=set(reserve)-set(lost)\n",
    "    if los==[] or res==[]:\n",
    "        return n\n",
    "    \n",
    "    for i in los:\n",
    "        if (i+1) not in res and (i-1) not in res:\n",
    "            n-=1\n",
    "        elif (i+1) in res and (i-1) not in res:\n",
    "            res.remove(i+1)\n",
    "        \n",
    "    return n\n",
    "\n",
    "solution(n,lost,reserve)"
   ]
  },
  {
   "cell_type": "markdown",
   "metadata": {},
   "source": [
    "**총평 : greedy를 이용해서 풀어야 한다. n을 중심으로 언제 n이 빠지기만 하면 되는지 생각하면 쉽게 풀린다.**\n",
    "\n"
   ]
  },
  {
   "cell_type": "markdown",
   "metadata": {},
   "source": [
    "----------------------------------------------------------------------------------------------"
   ]
  },
  {
   "cell_type": "markdown",
   "metadata": {},
   "source": [
    "# **K번째 수** \n"
   ]
  },
  {
   "cell_type": "code",
   "execution_count": null,
   "metadata": {},
   "outputs": [],
   "source": [
    "def solution(array, commands):\n",
    "    answer=[]\n",
    "    list=[]\n",
    "    for i in range(len(commands)):\n",
    "        answer.append(sorted(array[commands[i][0]-1:commands[i][1]]))\n",
    "        list.append(answer[i][commands[i][2]-1])\n",
    "    return list"
   ]
  },
  {
   "cell_type": "markdown",
   "metadata": {},
   "source": [
    "**총평 : slicing 체크 문제**\n",
    "\n"
   ]
  },
  {
   "cell_type": "markdown",
   "metadata": {},
   "source": [
    "-----------------------------------------------------------------------------------------"
   ]
  },
  {
   "cell_type": "markdown",
   "metadata": {},
   "source": [
    "# **2016년** \n"
   ]
  },
  {
   "cell_type": "code",
   "execution_count": null,
   "metadata": {},
   "outputs": [],
   "source": [
    "import datetime \n",
    "def solution(a,b): \n",
    "    answer = ['MON', 'TUE', 'WED', 'THU', 'FRI', 'SAT', 'SUN'] \n",
    "    num = datetime.date(2016,a,b).weekday() \n",
    "    return answer[num]"
   ]
  },
  {
   "cell_type": "code",
   "execution_count": null,
   "metadata": {},
   "outputs": [],
   "source": [
    "datetime.date(2021,1,13).weekday()"
   ]
  },
  {
   "cell_type": "markdown",
   "metadata": {},
   "source": [
    "-----------------------------------------------------------------------------------------"
   ]
  },
  {
   "cell_type": "markdown",
   "metadata": {},
   "source": [
    "# **3진법 뒤집기** \n"
   ]
  },
  {
   "cell_type": "code",
   "execution_count": null,
   "metadata": {},
   "outputs": [],
   "source": [
    "def solution(n):\n",
    "    thre=''\n",
    "    ans=0\n",
    "    while n:\n",
    "        n,rem = divmod(n,3)\n",
    "        thre=str(rem)+thre\n",
    "    \n",
    "    for idx,x in enumerate(thre):\n",
    "        ans+=int(x)*pow(3,idx)\n",
    "    \n",
    "    return ans"
   ]
  },
  {
   "cell_type": "code",
   "execution_count": null,
   "metadata": {},
   "outputs": [],
   "source": [
    "solution(45)"
   ]
  },
  {
   "cell_type": "markdown",
   "metadata": {},
   "source": [
    "**총평 : 파이썬은 정말 다양한 내장 함수....**"
   ]
  },
  {
   "cell_type": "markdown",
   "metadata": {},
   "source": [
    "-------------------------------------------------------------------------------------"
   ]
  },
  {
   "cell_type": "markdown",
   "metadata": {},
   "source": [
    "# **가운데 글자 가져오기**"
   ]
  },
  {
   "cell_type": "code",
   "execution_count": null,
   "metadata": {},
   "outputs": [],
   "source": [
    "def solution(s):\n",
    "    if (len(s)%2)==0:\n",
    "        answer=s[len(s)//2-1:len(s)//2+1]\n",
    "    else:\n",
    "        answer=s[len(s)//2:len(s)//2+1]\n",
    "    return answer"
   ]
  },
  {
   "cell_type": "code",
   "execution_count": null,
   "metadata": {},
   "outputs": [],
   "source": [
    "solution(\"qwer\")"
   ]
  },
  {
   "cell_type": "markdown",
   "metadata": {},
   "source": [
    "**총평 : 슬라이싱 연습**"
   ]
  },
  {
   "cell_type": "markdown",
   "metadata": {},
   "source": [
    "-------------------------------------------------------------------------------------"
   ]
  },
  {
   "cell_type": "markdown",
   "metadata": {},
   "source": [
    "# **같은 숫자는 싫어**"
   ]
  },
  {
   "cell_type": "code",
   "execution_count": null,
   "metadata": {},
   "outputs": [],
   "source": [
    "s=[1,1,3,3,0,1,1]\n",
    "def solution(s):\n",
    "    answer=[]\n",
    "    for i in range(len(s)-1):\n",
    "        if s[i+1]!=s[i]:\n",
    "            answer.append(s[i])\n",
    "    answer.append(s[-1])\n",
    "    return answer"
   ]
  },
  {
   "cell_type": "code",
   "execution_count": null,
   "metadata": {},
   "outputs": [],
   "source": [
    "solution(s)"
   ]
  },
  {
   "cell_type": "markdown",
   "metadata": {},
   "source": [
    "**총평 : set 함수 써보니 정렬 된다는 걸 깜빡...**"
   ]
  },
  {
   "cell_type": "markdown",
   "metadata": {},
   "source": [
    "--------------------------------------------------------------------------"
   ]
  },
  {
   "cell_type": "markdown",
   "metadata": {},
   "source": [
    "# **나누어떨어지는 숫자 배열**"
   ]
  },
  {
   "cell_type": "code",
   "execution_count": null,
   "metadata": {},
   "outputs": [],
   "source": [
    "def solution(arr, divisor):\n",
    "    return [i for i in arr if i%divisor==0] or [-1]"
   ]
  },
  {
   "cell_type": "markdown",
   "metadata": {},
   "source": [
    "**총평 : return or로 줄일 수 있다.....**"
   ]
  },
  {
   "cell_type": "markdown",
   "metadata": {},
   "source": [
    "----------------------------------------------------------------------------------------------"
   ]
  },
  {
   "cell_type": "markdown",
   "metadata": {},
   "source": [
    "# **두 정수 사이의 합**"
   ]
  },
  {
   "cell_type": "code",
   "execution_count": null,
   "metadata": {},
   "outputs": [],
   "source": [
    "def solution(a,b):\n",
    "    m,n=max(a,b),min(a,b)\n",
    "    return sum([i for i in range(n,m+1)])"
   ]
  },
  {
   "cell_type": "markdown",
   "metadata": {},
   "source": [
    "**총평 : 효율성을 위해 max,min은 쓰지 않는게 좋겠다.**"
   ]
  },
  {
   "cell_type": "markdown",
   "metadata": {},
   "source": [
    "다른 사람 풀이 ( comprehension)"
   ]
  },
  {
   "cell_type": "code",
   "execution_count": null,
   "metadata": {},
   "outputs": [],
   "source": [
    "def solution(a,b):\n",
    "    if a>b:\n",
    "        a,b=b,a\n",
    "    return sum(range(a,b+1))"
   ]
  },
  {
   "cell_type": "markdown",
   "metadata": {},
   "source": [
    "---------------------------------------------------------------------------------"
   ]
  },
  {
   "cell_type": "markdown",
   "metadata": {},
   "source": [
    "# **문자열 내마음대로 정렬하기**"
   ]
  },
  {
   "cell_type": "code",
   "execution_count": null,
   "metadata": {},
   "outputs": [],
   "source": [
    "strings,n=[\"abce\", \"abcd\", \"cdx\"], 2"
   ]
  },
  {
   "cell_type": "code",
   "execution_count": null,
   "metadata": {},
   "outputs": [],
   "source": [
    "def solution(strings, n):\n",
    "    answer=[]\n",
    "    for i in range(len(strings)):\n",
    "        strings[i]=strings[i][n]+strings[i]\n",
    "    strings=sorted(strings)\n",
    "    for j in range(len(strings)):\n",
    "        answer.append(strings[j][1:])\n",
    "    return answer"
   ]
  },
  {
   "cell_type": "code",
   "execution_count": null,
   "metadata": {},
   "outputs": [],
   "source": [
    "solution(strings,n)"
   ]
  },
  {
   "cell_type": "markdown",
   "metadata": {},
   "source": [
    "**총평 : 람다식 연습 필요하다...**"
   ]
  },
  {
   "cell_type": "markdown",
   "metadata": {},
   "source": [
    "다른사람풀이 (람다식)"
   ]
  },
  {
   "cell_type": "code",
   "execution_count": null,
   "metadata": {},
   "outputs": [],
   "source": [
    "def solution(strings,n): return sorted(strings, key=lambda x: x[n])"
   ]
  },
  {
   "cell_type": "markdown",
   "metadata": {},
   "source": [
    "----------------------------------------------------------"
   ]
  },
  {
   "cell_type": "markdown",
   "metadata": {},
   "source": [
    "# **문자열 내 p와 y의 개수**"
   ]
  },
  {
   "cell_type": "code",
   "execution_count": null,
   "metadata": {},
   "outputs": [],
   "source": [
    "def solution(s):\n",
    "    s=s.upper()\n",
    "    return s.count('Y') == s.count('P')"
   ]
  },
  {
   "cell_type": "markdown",
   "metadata": {},
   "source": [
    "**총평 : 간단**"
   ]
  },
  {
   "cell_type": "markdown",
   "metadata": {},
   "source": [
    "-------------------------------------------------------------------------"
   ]
  },
  {
   "cell_type": "markdown",
   "metadata": {},
   "source": [
    "# **문자열 내림차순으로 배치하기**"
   ]
  },
  {
   "cell_type": "code",
   "execution_count": null,
   "metadata": {},
   "outputs": [],
   "source": [
    "def solution(s):\n",
    "    return \"\".join(sorted(s,reverse=True))"
   ]
  },
  {
   "cell_type": "markdown",
   "metadata": {},
   "source": [
    "**총평 : 간단**"
   ]
  },
  {
   "cell_type": "markdown",
   "metadata": {},
   "source": [
    "----------------------------------------"
   ]
  },
  {
   "cell_type": "markdown",
   "metadata": {},
   "source": [
    "# **문자열 다루기 기본**"
   ]
  },
  {
   "cell_type": "code",
   "execution_count": null,
   "metadata": {},
   "outputs": [],
   "source": [
    "def solution(s):\n",
    "    return s.isdigit() and len(s) in [4,6]"
   ]
  },
  {
   "cell_type": "markdown",
   "metadata": {},
   "source": [
    "**총평 : isdigit 활용**"
   ]
  },
  {
   "cell_type": "markdown",
   "metadata": {},
   "source": [
    "----------------------------------------"
   ]
  },
  {
   "cell_type": "markdown",
   "metadata": {},
   "source": [
    "# **서울에서 김서방 찾기**"
   ]
  },
  {
   "cell_type": "code",
   "execution_count": null,
   "metadata": {},
   "outputs": [],
   "source": [
    "def solution(seoul):\n",
    "    return \"김서방은 \"+str(seoul.index(\"Kim\"))+\"에 있다\""
   ]
  },
  {
   "cell_type": "markdown",
   "metadata": {},
   "source": [
    "**총평 : index활용**"
   ]
  },
  {
   "cell_type": "markdown",
   "metadata": {},
   "source": [
    "--------------------------------------------------------------"
   ]
  },
  {
   "cell_type": "markdown",
   "metadata": {},
   "source": [
    "# **소수찾기★**"
   ]
  },
  {
   "cell_type": "code",
   "execution_count": null,
   "metadata": {},
   "outputs": [],
   "source": [
    "def solution(n):\n",
    "    a=[False,False]+[True]*(n-1)\n",
    "    primes=[]\n",
    "    for i in range(2,n+1):\n",
    "        if a[i]:\n",
    "            primes.append(a[i])\n",
    "            for j in range(2*i,n+1,i):\n",
    "                if a[j]:\n",
    "                    a[j]=False\n",
    "    return len(primes)"
   ]
  },
  {
   "cell_type": "code",
   "execution_count": null,
   "metadata": {},
   "outputs": [],
   "source": [
    "solution(10)"
   ]
  },
  {
   "cell_type": "markdown",
   "metadata": {},
   "source": [
    "**총평 : 메모이제이션 연습, range 함수 활용, 에라토스테네스의 체**"
   ]
  },
  {
   "cell_type": "markdown",
   "metadata": {},
   "source": [
    "다른사람풀이 (set 활용하여 훨씬 간결)"
   ]
  },
  {
   "cell_type": "code",
   "execution_count": null,
   "metadata": {},
   "outputs": [],
   "source": [
    "def solution(n):\n",
    "    num=set(range(2,n+1))\n",
    "\n",
    "    for i in range(2,n+1):\n",
    "        if i in num:\n",
    "            num-=set(range(2*i,n+1,i))\n",
    "    return len(num)"
   ]
  },
  {
   "cell_type": "code",
   "execution_count": null,
   "metadata": {},
   "outputs": [],
   "source": [
    "def numberOfPrime(n):\n",
    "    return len([x for x in range(2, n + 1) if isPrime(x)])\n",
    "def isPrime(n):\n",
    "    for i in range(2, n):\n",
    "        if i > (n / 2): continue\n",
    "        if n % i == 0:\n",
    "            return False\n",
    "    return True"
   ]
  },
  {
   "cell_type": "markdown",
   "metadata": {},
   "source": [
    "-------------------------------------------------------------------------------------"
   ]
  },
  {
   "cell_type": "markdown",
   "metadata": {},
   "source": [
    "# **수박수박수박수? // 문자열을 정수로 바꾸기 // 내적**"
   ]
  },
  {
   "cell_type": "code",
   "execution_count": null,
   "metadata": {},
   "outputs": [],
   "source": [
    "def solution(n):\n",
    "    answer='수박'*n\n",
    "    s=answer[:n]\n",
    "    return s"
   ]
  },
  {
   "cell_type": "code",
   "execution_count": null,
   "metadata": {},
   "outputs": [],
   "source": [
    "def solution(s):\n",
    "    return int(s)"
   ]
  },
  {
   "cell_type": "code",
   "execution_count": null,
   "metadata": {},
   "outputs": [],
   "source": [
    "def solution(a,b): return sum([x*y for x, y in zip(a,b)])"
   ]
  },
  {
   "cell_type": "markdown",
   "metadata": {},
   "source": [
    "----------------------------------------------------------------------"
   ]
  },
  {
   "cell_type": "markdown",
   "metadata": {},
   "source": [
    "# **시저암호**"
   ]
  },
  {
   "cell_type": "code",
   "execution_count": null,
   "metadata": {},
   "outputs": [],
   "source": [
    "def solution(s, n):\n",
    "    answer=''\n",
    "    for word in s:\n",
    "        if 65 <= ord(word) <= 90:\n",
    "            if ord(word)+n >90:\n",
    "                answer+= chr(ord(word)-26+n)\n",
    "            else:\n",
    "                answer+=chr(ord(word)+n)\n",
    "        else:\n",
    "            if ord(word)+n > 122:\n",
    "                answer +=chr(ord(word)-26+n)\n",
    "            elif ord(word)==32:\n",
    "                answer +=' '\n",
    "            else:\n",
    "                answer+=chr(ord(word)+n)\n",
    "    \n",
    "    return answer"
   ]
  },
  {
   "cell_type": "markdown",
   "metadata": {},
   "source": [
    "다른사람 풀이"
   ]
  },
  {
   "cell_type": "code",
   "execution_count": null,
   "metadata": {},
   "outputs": [],
   "source": [
    "def caesar(s, n):\n",
    "    s = list(s)\n",
    "    for i in range(len(s)):\n",
    "        if s[i].isupper():\n",
    "            s[i]=chr((ord(s[i])-ord('A')+ n)%26+ord('A'))\n",
    "        elif s[i].islower():\n",
    "            s[i]=chr((ord(s[i])-ord('a')+ n)%26+ord('a'))\n",
    "\n",
    "    return \"\".join(s)"
   ]
  },
  {
   "cell_type": "markdown",
   "metadata": {},
   "source": [
    "----------------------------------------------------------------------"
   ]
  },
  {
   "cell_type": "markdown",
   "metadata": {},
   "source": [
    "# **약수의 합**"
   ]
  },
  {
   "cell_type": "code",
   "execution_count": null,
   "metadata": {},
   "outputs": [],
   "source": [
    "def solution(n):\n",
    "    return sum([a for a in range(1,n) if n%a==0])+n"
   ]
  },
  {
   "cell_type": "code",
   "execution_count": null,
   "metadata": {},
   "outputs": [],
   "source": [
    "solution(12)"
   ]
  },
  {
   "cell_type": "markdown",
   "metadata": {},
   "source": [
    "**총평 : 한줄 끝**"
   ]
  },
  {
   "cell_type": "markdown",
   "metadata": {},
   "source": [
    "------------------------------------------------------------------"
   ]
  },
  {
   "cell_type": "markdown",
   "metadata": {},
   "source": [
    "# **이상한 문자 만들기// 자릿수 더하기**"
   ]
  },
  {
   "cell_type": "code",
   "execution_count": null,
   "metadata": {},
   "outputs": [],
   "source": [
    "strings=\"try hello world\""
   ]
  },
  {
   "cell_type": "code",
   "execution_count": null,
   "metadata": {},
   "outputs": [],
   "source": [
    "def solution(s):\n",
    "    return \" \".join(map(lambda x: \"\".join([a.lower() if i % 2 else a.upper() for i, a in enumerate(x)]), s.split(\" \")))"
   ]
  },
  {
   "cell_type": "code",
   "execution_count": null,
   "metadata": {},
   "outputs": [],
   "source": [
    "solution(strings)"
   ]
  },
  {
   "cell_type": "code",
   "execution_count": null,
   "metadata": {},
   "outputs": [],
   "source": [
    "def solution(n):\n",
    "    return sum(list(map(int,[x for x in str(n)])))"
   ]
  },
  {
   "cell_type": "code",
   "execution_count": null,
   "metadata": {},
   "outputs": [],
   "source": [
    "solution(1234)"
   ]
  },
  {
   "cell_type": "markdown",
   "metadata": {},
   "source": [
    "**총평 : map함수와 lambda 적용 **"
   ]
  },
  {
   "cell_type": "markdown",
   "metadata": {},
   "source": [
    "------------------------------------------------------------------------"
   ]
  },
  {
   "cell_type": "markdown",
   "metadata": {},
   "source": [
    "# **자연수 뒤집어 배열로 만들기// 정수 내림차순으로 배치하기// 정수 제곱근 판별// 가장 작은 수 제거하기 // 짝수와 홀수**"
   ]
  },
  {
   "cell_type": "code",
   "execution_count": null,
   "metadata": {
    "scrolled": true
   },
   "outputs": [],
   "source": [
    "#자연수 뒤집어 배열로 만들기\n",
    "def solution(n):\n",
    "    return list(map(int,list(str(n))[::-1]))"
   ]
  },
  {
   "cell_type": "code",
   "execution_count": null,
   "metadata": {
    "scrolled": true
   },
   "outputs": [],
   "source": [
    "solution(1234)"
   ]
  },
  {
   "cell_type": "code",
   "execution_count": null,
   "metadata": {},
   "outputs": [],
   "source": [
    "#정수 내림차순으로 배치하기\n",
    "def solution(n):\n",
    "    return int(''.join(sorted([i for i in str(n)],reverse=True)))"
   ]
  },
  {
   "cell_type": "code",
   "execution_count": null,
   "metadata": {},
   "outputs": [],
   "source": [
    "solution(234235234)"
   ]
  },
  {
   "cell_type": "code",
   "execution_count": null,
   "metadata": {},
   "outputs": [],
   "source": [
    "#정수 제곱근 판별\n",
    "import math\n",
    "def solution(n):\n",
    "    a=math.sqrt(n)\n",
    "    if a%1==0:\n",
    "        return pow(a+1,2)\n",
    "    else:\n",
    "        return -1"
   ]
  },
  {
   "cell_type": "code",
   "execution_count": null,
   "metadata": {},
   "outputs": [],
   "source": [
    "solution(121)"
   ]
  },
  {
   "cell_type": "code",
   "execution_count": null,
   "metadata": {},
   "outputs": [],
   "source": [
    "#가장 작은 수 제거하기\n",
    "def solution(arr):\n",
    "    min_val=min(arr)\n",
    "    arr.remove(min_val)\n",
    "    if not arr:\n",
    "        arr.insert(0,-1)\n",
    "    return arr"
   ]
  },
  {
   "cell_type": "code",
   "execution_count": null,
   "metadata": {},
   "outputs": [],
   "source": [
    "solution([9,9,99,10,10])"
   ]
  },
  {
   "cell_type": "code",
   "execution_count": null,
   "metadata": {},
   "outputs": [],
   "source": [
    "#짝수와 홀수\n",
    "def solution(num):\n",
    "    return \"Even\" if num%2==0 else \"Odd\""
   ]
  },
  {
   "cell_type": "markdown",
   "metadata": {},
   "source": [
    "# **키패드 누르기 ★**"
   ]
  },
  {
   "cell_type": "code",
   "execution_count": null,
   "metadata": {},
   "outputs": [],
   "source": [
    "keypad = [[1,2,3],[4,5,6],[7,8,9],['*',0,\"#\"]]\n",
    "m, n = 4, 3\n",
    "\n",
    "def get_distance(a, b, goal):\n",
    "    # a,b는 시작점, goal은 목표 번호\n",
    "    x, y =get_loc(goal)\n",
    "    return abs(a-x)+abs(b-y)\n",
    "\n",
    "# 좌표를 구하는 함수\n",
    "def get_loc(num):\n",
    "    for i in range(m):\n",
    "        if num in keypad[i]:\n",
    "            return [i, keypad[i].index(num)]\n",
    "        \n",
    "    \n",
    "def solution(numbers, hand):\n",
    "    answer = ''\n",
    "    only_left = [1,4,7] #왼손만 가능\n",
    "    only_right = [3,6,9] #오른손만 가능\n",
    "    \n",
    "    # 각 손 위치의 첫 좌표 (#, *)\n",
    "    hands = {\"right\":[3,2], \"left\":[3,0]}\n",
    "    \n",
    "    for i in range(len(numbers)):\n",
    "        number = numbers[i]\n",
    "        \n",
    "        # 처음인데 중간인 경우\n",
    "        if i == 0 and (number not in only_left) and (number not in only_right):\n",
    "            if hand == \"right\":\n",
    "                answer += 'R'\n",
    "            else:\n",
    "                answer += 'L'\n",
    "            hands[hand] = get_loc(number)\n",
    "            continue\n",
    "                \n",
    "        #왼손이 치는 경우에 속할 때\n",
    "        if number in only_left: \n",
    "            answer += 'L'\n",
    "            hands['left'] = get_loc(number)\n",
    "        elif number in only_right:\n",
    "            #오른손이 치는 경우에 속할 때\n",
    "            answer += 'R'\n",
    "            hands['right'] = get_loc(number)\n",
    "        else:\n",
    "            #중간(거리를 구해야하는 경우)\n",
    "            r_x, r_y = hands['right']\n",
    "            dist_r = get_distance(r_x,r_y,number)\n",
    "            \n",
    "            l_x, l_y = hands['left']\n",
    "            dist_l = get_distance(l_x,l_y,number)\n",
    "            \n",
    "            if dist_r < dist_l :\n",
    "                answer += 'R'\n",
    "                hands['right'] = get_loc(number)\n",
    "            elif dist_l < dist_r:\n",
    "                answer += 'L'\n",
    "                hands['left'] = get_loc(number)\n",
    "            else:\n",
    "                if hand == \"right\":\n",
    "                    answer += 'R'\n",
    "                else:\n",
    "                    answer += 'L'\n",
    "                hands[hand] = get_loc(number)\n",
    "\n",
    "    return answer"
   ]
  },
  {
   "cell_type": "code",
   "execution_count": null,
   "metadata": {},
   "outputs": [],
   "source": [
    "solution(numbers,hand)"
   ]
  },
  {
   "cell_type": "markdown",
   "metadata": {},
   "source": [
    "**총평 : 유클리드 거리계산까지는 유추했으나 거리가 같을 때를 따로 계산 안 해준 것에 시간이 오래걸렸다...** "
   ]
  },
  {
   "cell_type": "markdown",
   "metadata": {},
   "source": [
    "--------------------------------------------------------"
   ]
  },
  {
   "cell_type": "markdown",
   "metadata": {},
   "source": [
    "# **최대 공약수와 최소 공배수**"
   ]
  },
  {
   "cell_type": "code",
   "execution_count": null,
   "metadata": {},
   "outputs": [],
   "source": [
    "def solution(n, m):\n",
    "    answer = [0,0]\n",
    "\n",
    "    a=[x for x in range(1,n+1) if n%x==0]\n",
    "    b=[x for x in range(1,m+1) if m%x==0]\n",
    "    if len(b) < len(a):\n",
    "        a,b = b,a\n",
    "    for i in range(len(a)):\n",
    "        for j in range(len(b)):\n",
    "            if a[i]==b[j]:\n",
    "                answer[0]=a[i]\n",
    "\n",
    "    if n>m:\n",
    "        n,m =m,n\n",
    "    c=[n]\n",
    "    d=[m]\n",
    "    while True:\n",
    "        c.append(c[-1]+n)\n",
    "        d.append(d[-1]+m)\n",
    "        if c[-1] in d :\n",
    "            answer[1]=c[-1]\n",
    "\n",
    "            break\n",
    "\n",
    "\n",
    "\n",
    "\n",
    "    return answer"
   ]
  },
  {
   "cell_type": "markdown",
   "metadata": {},
   "source": [
    "**총평 : 구현으로 해결**"
   ]
  },
  {
   "cell_type": "markdown",
   "metadata": {},
   "source": [
    "다른사람 풀이 (유클리드 호제법)"
   ]
  },
  {
   "cell_type": "code",
   "execution_count": null,
   "metadata": {},
   "outputs": [],
   "source": [
    "def gcdlcm(a, b):\n",
    "    c, d = max(a, b), min(a, b)\n",
    "    t = 1\n",
    "    while t > 0:\n",
    "        t = c % d\n",
    "        c, d = d, t\n",
    "    answer = [c, int(a*b/c)]\n",
    "\n",
    "    return answer"
   ]
  },
  {
   "cell_type": "markdown",
   "metadata": {},
   "source": [
    "--------------------------------------------------------------------------"
   ]
  },
  {
   "cell_type": "markdown",
   "metadata": {},
   "source": [
    "# **콜라츠 추측 // 히샤드 수 // 핸드폰 번호 가리기 // 행렬의 덧셈** \n",
    "# **// X만큼 간격이 있는 N개의 수 // 직사각형 별찍기**"
   ]
  },
  {
   "cell_type": "code",
   "execution_count": null,
   "metadata": {},
   "outputs": [],
   "source": [
    "#콜라츠 추측\n",
    "def solution(num):\n",
    "    i=0\n",
    "    while i<=500:\n",
    "        if num!=1 and num%2==0:\n",
    "            num=num/2\n",
    "            i+=1\n",
    "        elif num!=1 and num%2!=0:\n",
    "            num=num*3+1\n",
    "            i+=1\n",
    "        else:\n",
    "            break\n",
    "    else:\n",
    "        if num!=1:\n",
    "            return -1\n",
    "    return i"
   ]
  },
  {
   "cell_type": "code",
   "execution_count": null,
   "metadata": {},
   "outputs": [],
   "source": [
    "#히샤드 수\n",
    "def solution(x):\n",
    "    answer = sum([int(x) for x in str(x)]) \n",
    "    i=True if x%answer==0 else False\n",
    "    return i"
   ]
  },
  {
   "cell_type": "code",
   "execution_count": null,
   "metadata": {},
   "outputs": [],
   "source": [
    "#핸드폰 번호 가리기\n",
    "def solution(s): return \"*\"*len(s[:-4])+s[-4:]"
   ]
  },
  {
   "cell_type": "code",
   "execution_count": null,
   "metadata": {},
   "outputs": [],
   "source": [
    "#행렬의 덧셈\n",
    "def sumMatrix(A,B):\n",
    "    answer = [[c + d for c, d in zip(a, b)] for a, b in zip(A,B)]\n",
    "    return answer"
   ]
  },
  {
   "cell_type": "code",
   "execution_count": null,
   "metadata": {},
   "outputs": [],
   "source": [
    "#X만큼 간격 이 있는 N개의 수\n",
    "def solution(x, n): return [i for i in range(x,n*x+x,x)] if x!=0 else [x]*n"
   ]
  },
  {
   "cell_type": "code",
   "execution_count": null,
   "metadata": {},
   "outputs": [],
   "source": [
    "#직사각형 별찍기\n",
    "a, b = map(int, input().strip().split(' '))\n",
    "answer = ('*'*a +'\\n')*b\n",
    "print(answer)"
   ]
  },
  {
   "cell_type": "markdown",
   "metadata": {},
   "source": [
    "**총평 : 단순 구현**"
   ]
  },
  {
   "cell_type": "markdown",
   "metadata": {},
   "source": [
    "--------------------------------------------------"
   ]
  },
  {
   "cell_type": "markdown",
   "metadata": {},
   "source": [
    "# **예산**"
   ]
  },
  {
   "cell_type": "code",
   "execution_count": null,
   "metadata": {},
   "outputs": [],
   "source": [
    "def solution(d, budget):\n",
    "    count=0\n",
    "    d=sorted(d)\n",
    "    for s in d:\n",
    "        budget-=s\n",
    "        count+=1\n",
    "        if budget<0:\n",
    "            count-=1\n",
    "            break\n",
    "    return count"
   ]
  },
  {
   "cell_type": "markdown",
   "metadata": {},
   "source": [
    "---------------------------------------------------------------------------------------------------"
   ]
  },
  {
   "cell_type": "markdown",
   "metadata": {},
   "source": [
    "# **비밀지도 ★**"
   ]
  },
  {
   "cell_type": "code",
   "execution_count": null,
   "metadata": {},
   "outputs": [],
   "source": [
    "arr1=[46, 33, 33 ,22, 31, 50]\n",
    "arr2=[27 ,56, 19, 14, 14, 10]\n",
    "n=6\n",
    "def solution(n,arr1,arr2):\n",
    "    answer=[]\n",
    "    for a,b in zip(arr1,arr2):\n",
    "        tmp=bin(a|b)[2:]\n",
    "        tmp=tmp.rjust(n,\"0\")\n",
    "        tmp=tmp.replace(\"1\",\"#\")\n",
    "        tmp=tmp.replace(\"0\",\" \")\n",
    "        answer.append(tmp)\n",
    "    return answer\n",
    "    "
   ]
  },
  {
   "cell_type": "code",
   "execution_count": null,
   "metadata": {},
   "outputs": [],
   "source": [
    "solution(n,arr1,arr2)"
   ]
  },
  {
   "cell_type": "markdown",
   "metadata": {},
   "source": [
    "**총평 : bin 논리 연산이 함수 하나로 가능하다니... 2진법으로 변환 후 논리 연산 진행 후, 자릿수만큼 채우는 rjust함수 활용**"
   ]
  },
  {
   "cell_type": "markdown",
   "metadata": {},
   "source": [
    "-----------------------------------------------------------------------------------"
   ]
  },
  {
   "cell_type": "markdown",
   "metadata": {},
   "source": [
    "# **실패율 ★**"
   ]
  },
  {
   "cell_type": "code",
   "execution_count": null,
   "metadata": {},
   "outputs": [],
   "source": [
    "n=5\n",
    "stages=[2, 1, 2, 6, 2, 4, 3, 3]"
   ]
  },
  {
   "cell_type": "code",
   "execution_count": null,
   "metadata": {},
   "outputs": [],
   "source": [
    "def solution(n,stages):    \n",
    "    answer={}\n",
    "    person=len(stages)\n",
    "    for stge in range(1,n+1):\n",
    "        if person !=0:\n",
    "            aa=stages.count(stge)\n",
    "            answer[stge]=aa/person\n",
    "            person-=aa\n",
    "        else:\n",
    "            answer[stge]=0\n",
    "    return sorted(answer, key=lambda x : answer[x],reverse=True)"
   ]
  },
  {
   "cell_type": "code",
   "execution_count": null,
   "metadata": {},
   "outputs": [],
   "source": [
    "solution(n,stages)"
   ]
  },
  {
   "cell_type": "markdown",
   "metadata": {},
   "source": [
    "**총평 : 아직까지 직관성 있게 풀이하는데 있어 막힘이 있는듯.....**"
   ]
  },
  {
   "cell_type": "markdown",
   "metadata": {},
   "source": [
    "다른사람 풀이(훨씬 직관적)"
   ]
  },
  {
   "cell_type": "code",
   "execution_count": null,
   "metadata": {},
   "outputs": [],
   "source": [
    "def solution(N, stages):\n",
    "    fail = {}\n",
    "    for i in range(1,N+1):\n",
    "        try:\n",
    "            fail_ = len([a for a in stages if a==i])/len([a for a in stages if a>=i])\n",
    "        except:\n",
    "            fail_ = 0\n",
    "        fail[i]=fail_\n",
    "    answer = sorted(fail, key=fail.get, reverse=True)\n",
    "    return answer"
   ]
  },
  {
   "cell_type": "markdown",
   "metadata": {},
   "source": [
    "--------------------------------------------------------------------"
   ]
  },
  {
   "cell_type": "markdown",
   "metadata": {},
   "source": [
    "# **다트**"
   ]
  },
  {
   "cell_type": "code",
   "execution_count": 1,
   "metadata": {},
   "outputs": [],
   "source": [
    "dartresult=\"10D1S#10S\""
   ]
  },
  {
   "cell_type": "code",
   "execution_count": 2,
   "metadata": {},
   "outputs": [],
   "source": [
    "def solution(dartresult):\n",
    "    dresult=[]\n",
    "    result=[]\n",
    "    for i in range(len(dartresult)):\n",
    "        if dartresult[i] =='1' and dartresult[i+1]=='0':\n",
    "            dresult.append('10')\n",
    "        elif dartresult[i]=='0' and dartresult[i-1]=='1':\n",
    "            continue\n",
    "        else:\n",
    "            dresult.append(dartresult[i])\n",
    "    \n",
    "    for i in range(len(dresult)):\n",
    "        if dresult[i] =='D':\n",
    "            result[-1]**=2\n",
    "        elif dresult[i]=='S':\n",
    "            result[-1]*=1\n",
    "        elif dresult[i]=='T':\n",
    "            result[-1]**=3\n",
    "        elif dresult[i]=='#':\n",
    "            result[-1]*=-1\n",
    "        elif dresult[i]=='*':\n",
    "            if len(result)==1:\n",
    "                result[-1]*=2\n",
    "            else:\n",
    "                result[-2]*=2\n",
    "                result[-1]*=2\n",
    "        else:\n",
    "            result.append(int(dresult[i]))\n",
    "    return sum(result)"
   ]
  },
  {
   "cell_type": "code",
   "execution_count": 3,
   "metadata": {},
   "outputs": [
    {
     "data": {
      "text/plain": [
       "109"
      ]
     },
     "execution_count": 3,
     "metadata": {},
     "output_type": "execute_result"
    }
   ],
   "source": [
    "solution(dartresult)"
   ]
  },
  {
   "cell_type": "markdown",
   "metadata": {},
   "source": [
    "**총평 : 다른 사람 풀이를 보면서 정규 표현식 복습할 필요성을 느꼈다.**"
   ]
  },
  {
   "cell_type": "markdown",
   "metadata": {},
   "source": [
    "다른사람 풀이(정규식)"
   ]
  },
  {
   "cell_type": "code",
   "execution_count": 4,
   "metadata": {},
   "outputs": [],
   "source": [
    "def solution(dartResult):\n",
    "    bonus = {'S' : 1, 'D' : 2, 'T' : 3}\n",
    "    option = {'' : 1, '*' : 2, '#' : -1}\n",
    "    p = re.compile('(\\d+)([SDT])([*#]?)')\n",
    "    dart = p.findall(dartResult)\n",
    "    for i in range(len(dart)):\n",
    "        if dart[i][2] == '*' and i > 0:\n",
    "            dart[i-1] *= 2\n",
    "        dart[i] = int(dart[i][0]) ** bonus[dart[i][1]] * option[dart[i][2]]\n",
    "\n",
    "    answer = sum(dart)\n",
    "    return answer"
   ]
  },
  {
   "cell_type": "markdown",
   "metadata": {},
   "source": [
    "--------------------------------------------------------------------------------"
   ]
  },
  {
   "cell_type": "code",
   "execution_count": null,
   "metadata": {},
   "outputs": [],
   "source": []
  }
 ],
 "metadata": {
  "kernelspec": {
   "display_name": "Python 3",
   "language": "python",
   "name": "python3"
  },
  "language_info": {
   "codemirror_mode": {
    "name": "ipython",
    "version": 3
   },
   "file_extension": ".py",
   "mimetype": "text/x-python",
   "name": "python",
   "nbconvert_exporter": "python",
   "pygments_lexer": "ipython3",
   "version": "3.8.5"
  }
 },
 "nbformat": 4,
 "nbformat_minor": 4
}
