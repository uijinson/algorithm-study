{
 "cells": [
  {
   "cell_type": "markdown",
   "metadata": {},
   "source": [
    "그리디"
   ]
  },
  {
   "cell_type": "markdown",
   "metadata": {},
   "source": [
    "1. 큰수의 법칙"
   ]
  },
  {
   "cell_type": "markdown",
   "metadata": {},
   "source": [
    "### def solution(n,m,k,l):\n"
   ]
  },
  {
   "cell_type": "markdown",
   "metadata": {},
   "source": [
    "M의 수가 적다면?"
   ]
  },
  {
   "cell_type": "code",
   "execution_count": 1,
   "metadata": {},
   "outputs": [],
   "source": [
    "n,m,k=5,8,3\n",
    "l='2 4 5 4 6'\n",
    "def solution(m,k,l):\n",
    "    a=list(map(int,l.split()))\n",
    "    a.sort(reverse=True)\n",
    "    ans=0\n",
    "    while True:\n",
    "        if m==0:\n",
    "            break\n",
    "        for j in range(k):\n",
    "            ans+=a[0]\n",
    "            m-=1\n",
    "        ans+=a[1]\n",
    "        m-=1\n",
    "    return ans\n",
    "\n"
   ]
  },
  {
   "cell_type": "markdown",
   "metadata": {},
   "source": [
    "M의 수가 크다면?"
   ]
  },
  {
   "cell_type": "code",
   "execution_count": 2,
   "metadata": {},
   "outputs": [],
   "source": [
    "n,m,k=5,8,3\n",
    "l='2 4 5 4 6'\n",
    "def solution(m,k,l):\n",
    "    a=list(map(int,l.split()))\n",
    "    a.sort(reverse=True)\n",
    "    ans=0\n",
    "    for i in range(m//(k+1)):\n",
    "        for j in range(k):\n",
    "            ans+=a[0]\n",
    "        ans+=a[1]\n",
    "    return ans"
   ]
  },
  {
   "cell_type": "code",
   "execution_count": 3,
   "metadata": {},
   "outputs": [
    {
     "data": {
      "text/plain": [
       "46"
      ]
     },
     "execution_count": 3,
     "metadata": {},
     "output_type": "execute_result"
    }
   ],
   "source": [
    "solution(m,k,l)"
   ]
  },
  {
   "cell_type": "markdown",
   "metadata": {},
   "source": [
    "M의 수가 크다면?????? 정답"
   ]
  },
  {
   "cell_type": "code",
   "execution_count": 4,
   "metadata": {},
   "outputs": [
    {
     "data": {
      "text/plain": [
       "41"
      ]
     },
     "execution_count": 4,
     "metadata": {},
     "output_type": "execute_result"
    }
   ],
   "source": [
    "n,m,k=5,7,3\n",
    "l='2 4 5 4 6'\n",
    "def solution(m,k,l):\n",
    "    a=list(map(int,l.split()))\n",
    "    a.sort(reverse=True)\n",
    "    result=0\n",
    "    count=m//(k+1)*k\n",
    "    count+=m%(k+1)\n",
    "    result+=count*a[0]\n",
    "    result+=(m-count)*a[1]\n",
    "    return result\n",
    "\n",
    "solution(m,k,l)"
   ]
  },
  {
   "cell_type": "markdown",
   "metadata": {},
   "source": [
    "2. 숫자카드게임"
   ]
  },
  {
   "cell_type": "code",
   "execution_count": 5,
   "metadata": {},
   "outputs": [],
   "source": [
    "cards=[[3,1,2],[4,1,4],[2,2,2]]\n",
    "def solution(cards):\n",
    "    a=[]\n",
    "    for card in cards:\n",
    "        a.append(min(card))\n",
    "    for idx, b in enumerate(a):\n",
    "        if max(a) == b:\n",
    "            return min(cards[idx])"
   ]
  },
  {
   "cell_type": "code",
   "execution_count": 6,
   "metadata": {
    "scrolled": true
   },
   "outputs": [
    {
     "data": {
      "text/plain": [
       "2"
      ]
     },
     "execution_count": 6,
     "metadata": {},
     "output_type": "execute_result"
    }
   ],
   "source": [
    "solution(cards)"
   ]
  },
  {
   "cell_type": "code",
   "execution_count": 7,
   "metadata": {},
   "outputs": [],
   "source": [
    "cards=[[7,3,1,8],[3,3,3,4]]"
   ]
  },
  {
   "cell_type": "code",
   "execution_count": 8,
   "metadata": {},
   "outputs": [],
   "source": [
    "cards=[[3,1,2],[4,1,4],[2,2,2]]\n",
    "def solution(cards):\n",
    "    result=0\n",
    "    for card in cards:\n",
    "        a=min(card)\n",
    "        result=max(result,a)\n",
    "    return result"
   ]
  },
  {
   "cell_type": "code",
   "execution_count": 9,
   "metadata": {},
   "outputs": [
    {
     "data": {
      "text/plain": [
       "2"
      ]
     },
     "execution_count": 9,
     "metadata": {},
     "output_type": "execute_result"
    }
   ],
   "source": [
    "solution(cards)"
   ]
  },
  {
   "cell_type": "markdown",
   "metadata": {},
   "source": [
    "3. 1이 될 때까지"
   ]
  },
  {
   "cell_type": "code",
   "execution_count": 10,
   "metadata": {},
   "outputs": [],
   "source": [
    "def solution(n,k):\n",
    "    s=0\n",
    "    while n!=1:\n",
    "        if n%k==0:\n",
    "            n=n//k\n",
    "            s+=1\n",
    "        else:\n",
    "            n-=1\n",
    "            s+=1\n",
    "    return s"
   ]
  },
  {
   "cell_type": "code",
   "execution_count": 11,
   "metadata": {},
   "outputs": [
    {
     "data": {
      "text/plain": [
       "6"
      ]
     },
     "execution_count": 11,
     "metadata": {},
     "output_type": "execute_result"
    }
   ],
   "source": [
    "solution(25,3)"
   ]
  },
  {
   "cell_type": "code",
   "execution_count": 12,
   "metadata": {},
   "outputs": [],
   "source": [
    "def solution(n,k):\n",
    "    result=0\n",
    "    while n>=k:\n",
    "        while n%k!=0:\n",
    "            n-=1\n",
    "            result+=1\n",
    "        n//=k\n",
    "        result+=1\n",
    "    while n>1:\n",
    "        n-=1\n",
    "        result+=1\n",
    "    return result"
   ]
  },
  {
   "cell_type": "markdown",
   "metadata": {},
   "source": [
    "??????"
   ]
  },
  {
   "cell_type": "code",
   "execution_count": 13,
   "metadata": {},
   "outputs": [],
   "source": [
    "def solution(n,k):\n",
    "    result=0\n",
    "    while True:\n",
    "        target=(n//k)*k\n",
    "        result+=(n-target)\n",
    "        n=target\n",
    "\n",
    "        if n<k:\n",
    "            break\n",
    "        result+=1\n",
    "        n//=k\n",
    "    result+=(n-1)\n",
    "    return result"
   ]
  },
  {
   "cell_type": "markdown",
   "metadata": {},
   "source": [
    "구현"
   ]
  },
  {
   "cell_type": "code",
   "execution_count": 14,
   "metadata": {},
   "outputs": [
    {
     "data": {
      "text/plain": [
       "(3, 4)"
      ]
     },
     "execution_count": 14,
     "metadata": {},
     "output_type": "execute_result"
    }
   ],
   "source": [
    "n=5\n",
    "direction=['R','R','R','U','D','D']\n",
    "\n",
    "\n",
    "x,y=1,1\n",
    "dy=[-1,1,0,0]\n",
    "dx=[0,0,-1,1]\n",
    "move=[\"L\",\"R\",\"U\",\"D\"]\n",
    "\n",
    "for d in direction:\n",
    "    for i in range(len(move)):\n",
    "        if d==move[i]:\n",
    "            nx=x+dx[i]\n",
    "            ny=y+dy[i]\n",
    "    if nx<1 or ny<1 or nx>n or ny>n:\n",
    "        continue\n",
    "    x,y=nx,ny\n",
    "    \n",
    "    \n",
    "\n",
    "x,y"
   ]
  },
  {
   "cell_type": "markdown",
   "metadata": {},
   "source": [
    "2. 시각"
   ]
  },
  {
   "cell_type": "code",
   "execution_count": 15,
   "metadata": {},
   "outputs": [],
   "source": [
    "def solution(n):\n",
    "    ans=0\n",
    "    for i in range(n+1):\n",
    "        for j in range(60):\n",
    "            for k in range(60):\n",
    "                if '3' in str(i) + str(j) +str(k):\n",
    "                    ans+=1\n",
    "    return ans"
   ]
  },
  {
   "cell_type": "markdown",
   "metadata": {},
   "source": [
    "3. 왕실의 나이트"
   ]
  },
  {
   "cell_type": "code",
   "execution_count": 16,
   "metadata": {},
   "outputs": [],
   "source": [
    "data=\"a1\""
   ]
  },
  {
   "cell_type": "code",
   "execution_count": 17,
   "metadata": {},
   "outputs": [],
   "source": [
    "row=int(data[1])\n",
    "column=int(ord(data[0]))-int(ord('a'))+1\n",
    "steps=[(-2,-1),(-2,1),(2,-1),(2,1),(1,-2),(1,2),(-1,2),(-1,-2)]"
   ]
  },
  {
   "cell_type": "code",
   "execution_count": 18,
   "metadata": {},
   "outputs": [],
   "source": [
    "result=0\n",
    "for step in steps:\n",
    "    next_row=row+step[0]\n",
    "    next_column=column+step[1]\n",
    "    if next_row>=1 and next_row<=8 and next_column>=1 and next_column<=8:\n",
    "        result+=1"
   ]
  },
  {
   "cell_type": "code",
   "execution_count": 19,
   "metadata": {},
   "outputs": [
    {
     "data": {
      "text/plain": [
       "2"
      ]
     },
     "execution_count": 19,
     "metadata": {},
     "output_type": "execute_result"
    }
   ],
   "source": [
    "result"
   ]
  },
  {
   "cell_type": "markdown",
   "metadata": {},
   "source": [
    "4.게임개발"
   ]
  },
  {
   "cell_type": "code",
   "execution_count": 23,
   "metadata": {},
   "outputs": [],
   "source": [
    "size=[4,4]\n",
    "player=[1,1,0]\n",
    "m=[[1,1,1,1],[1,0,0,1],[1,1,0,1],[1,1,1,1]]\n",
    "\n",
    "a=[[0]*size[0] for x in range(size[1])]\n",
    "\n",
    "result=1\n",
    "turn_time=0\n",
    "dx=[-1,0,1,0]\n",
    "dy=[0,1,0,-1]\n",
    "a[player[0]][player[1]]=1\n",
    "x=player[0]\n",
    "y=player[1]\n",
    "d=player[2]\n",
    "def turn_left():\n",
    "    global d\n",
    "    d-=1\n",
    "    if d==-1:\n",
    "        d=3\n",
    "while True:\n",
    "    turn_left()\n",
    "    nx=x+dx[d]\n",
    "    ny=y+dy[d]\n",
    "    \n",
    "    if a[nx][ny] ==0 and m[nx][ny] ==0:\n",
    "        a[nx][ny]=1\n",
    "        x=nx\n",
    "        y=ny\n",
    "        result+=1\n",
    "        turn_time=0\n",
    "        continue\n",
    "    else:\n",
    "        turn_time+=1\n",
    "    if turn_time==4:\n",
    "        nx=x-dx[d]\n",
    "        ny=y-dy[d]\n",
    "        if m[nx][ny]==0:\n",
    "            x=nx\n",
    "            y=ny\n",
    "        else:\n",
    "            break\n",
    "        turn_time=0\n",
    "    \n"
   ]
  },
  {
   "cell_type": "code",
   "execution_count": 35,
   "metadata": {},
   "outputs": [],
   "source": [
    "size=[4,4]\n",
    "player=[1,1,0]\n",
    "m=[[1,1,1,1],[1,0,0,1],[1,1,0,1],[1,1,1,1]]\n",
    "def turn_left(d):\n",
    "    d-=1\n",
    "    if d==-1:\n",
    "        d=3\n",
    "    return d\n",
    "def solution(arr,player):\n",
    "    result=1\n",
    "    turn_time=0\n",
    "    x=player[0]\n",
    "    y=player[1]\n",
    "    d=player[2]\n",
    "    tmp=[[0 for x in range(len(arr[0]))] for x in range(len(arr))]\n",
    "    dx=[-1,0,1,0]\n",
    "    dy=[0,1,0,-1]\n",
    "    tmp[x][y]=1\n",
    "    \n",
    "    while True:\n",
    "        d=turn_left(d)\n",
    "        nx,ny= x+dx[d],y+dx[d]\n",
    "        \n",
    "        if tmp[nx][ny]==0 and arr[nx][ny]==0:\n",
    "            tmp[nx][ny]=1\n",
    "            x,y=nx,ny\n",
    "            result+=1\n",
    "            turn_time=0\n",
    "            continue\n",
    "        \n",
    "        else:\n",
    "            turn_time+=1\n",
    "        \n",
    "        if turn_time==4:\n",
    "            nx,ny=x-dx[d],y-dy[d]\n",
    "            \n",
    "            if arr[nx][ny]==1:\n",
    "                break\n",
    "            else:\n",
    "                x,y=nx,ny\n",
    "                turn_time=0\n",
    "    return result\n",
    "            "
   ]
  },
  {
   "cell_type": "code",
   "execution_count": 36,
   "metadata": {},
   "outputs": [
    {
     "data": {
      "text/plain": [
       "3"
      ]
     },
     "execution_count": 36,
     "metadata": {},
     "output_type": "execute_result"
    }
   ],
   "source": [
    "solution(m,player)"
   ]
  },
  {
   "cell_type": "markdown",
   "metadata": {},
   "source": [
    "BFS/DFS"
   ]
  },
  {
   "cell_type": "code",
   "execution_count": null,
   "metadata": {},
   "outputs": [],
   "source": [
    "def dfs(graph,v,visited):\n",
    "    visited[v]=True\n",
    "    print(v, end=\" \")\n",
    "    for i in graph[v]:\n",
    "        if not visited[i]:\n",
    "            dfs(graph,i,visited)"
   ]
  },
  {
   "cell_type": "code",
   "execution_count": null,
   "metadata": {},
   "outputs": [],
   "source": [
    "from collections import deque\n",
    "def bfs(graph,start,visited):\n",
    "    queue=deque([start])\n",
    "    visited[start]=True\n",
    "    while queue:\n",
    "        v=queue.popleft()\n",
    "        print(v, end=\" \")\n",
    "        for i in graph[v]:\n",
    "            if not visited[i]:\n",
    "                queue.append(i)\n",
    "                visited[i] = True"
   ]
  },
  {
   "cell_type": "markdown",
   "metadata": {},
   "source": [
    "1.음료수 얼려먹기"
   ]
  },
  {
   "cell_type": "code",
   "execution_count": 2,
   "metadata": {},
   "outputs": [],
   "source": [
    "ice=[[0,0,1,1,0],[0,0,0,1,1],[1,1,1,1,1],[0,0,0,0,0]]\n",
    "n=4\n",
    "m=5\n",
    "\n",
    "def dfs(x,y):\n",
    "    if x<=-1 or x>=n or y<=-1 or y>=m:\n",
    "        return False\n",
    "    if ice[x][y] == 0:\n",
    "        ice[x][y]=1\n",
    "        dfs(x-1,y)\n",
    "        dfs(x+1,y)\n",
    "        dfs(x,y-1)\n",
    "        dfs(x,y+1)\n",
    "        return True\n",
    "    return False\n",
    "        \n",
    "    \n",
    "\n",
    "result=0\n",
    "for i in range(n):\n",
    "    for j in range(m):\n",
    "        if dfs(i,j) ==True:\n",
    "            result+=1"
   ]
  },
  {
   "cell_type": "markdown",
   "metadata": {},
   "source": [
    "2. 미로탈출"
   ]
  },
  {
   "cell_type": "code",
   "execution_count": null,
   "metadata": {},
   "outputs": [],
   "source": [
    "miro=[[1,0,1,0,1,0],[1,1,1,1,1,1],[0,0,0,0,0,1],[1,1,1,1,1,1],[1,1,1,1,1,1]]\n",
    "n=5\n",
    "m=6\n",
    "dx=[0,-1,0,1]\n",
    "dy=[-1,0,1,0]\n",
    "\n",
    "from collections import deque\n",
    "def bfs(x,y):\n",
    "    queue=deque()\n",
    "    queue.append((x,y))\n",
    "    while queue:\n",
    "        x,y=queue.popleft()\n",
    "        for i in range(4):\n",
    "            nx=x+dx[i]\n",
    "            ny=y+dy[i]\n",
    "            if nx<0 or ny<0 or nx>=n or ny>=m:\n",
    "                continue\n",
    "            if miro[nx][ny]==0:\n",
    "                continue\n",
    "            if miro[nx][ny]==1:\n",
    "                miro[nx][ny]=miro[x][y]+1\n",
    "                queue.append((nx,ny))\n",
    "    return miro[n-1][m-1]\n",
    "\n",
    "\n",
    "bfs(0,0)"
   ]
  },
  {
   "cell_type": "markdown",
   "metadata": {},
   "source": [
    "정렬"
   ]
  },
  {
   "cell_type": "markdown",
   "metadata": {},
   "source": [
    "1.선택정렬"
   ]
  },
  {
   "cell_type": "code",
   "execution_count": 2,
   "metadata": {},
   "outputs": [],
   "source": [
    "a=[2,3,5,1,0,7,4,9,8,6]"
   ]
  },
  {
   "cell_type": "code",
   "execution_count": 3,
   "metadata": {},
   "outputs": [],
   "source": [
    "def select_sort(a):\n",
    "    for i in range(len(a)):\n",
    "        min_index=i\n",
    "        for j in range(i+1,len(a)):\n",
    "            if a[min_index]>a[j]:\n",
    "                min_index=j\n",
    "        a[i],a[min_index]=a[min_index],a[i]\n",
    "    return a"
   ]
  },
  {
   "cell_type": "code",
   "execution_count": 4,
   "metadata": {},
   "outputs": [
    {
     "data": {
      "text/plain": [
       "[0, 1, 2, 3, 4, 5, 6, 7, 8, 9]"
      ]
     },
     "execution_count": 4,
     "metadata": {},
     "output_type": "execute_result"
    }
   ],
   "source": [
    "select_sort(a)"
   ]
  },
  {
   "cell_type": "markdown",
   "metadata": {},
   "source": [
    "삽입정렬"
   ]
  },
  {
   "cell_type": "code",
   "execution_count": 5,
   "metadata": {},
   "outputs": [],
   "source": [
    "def insert_sort(a):\n",
    "    for i in range(1,len(a)):\n",
    "        for j in range(i,0,-1):\n",
    "            if a[j]<a[j-1]:\n",
    "                a[j],a[j-1]=a[j-1],a[j]\n",
    "            else:\n",
    "                break\n",
    "    return a"
   ]
  },
  {
   "cell_type": "code",
   "execution_count": 6,
   "metadata": {},
   "outputs": [
    {
     "data": {
      "text/plain": [
       "[0, 1, 2, 3, 4, 5, 6, 7, 8, 9]"
      ]
     },
     "execution_count": 6,
     "metadata": {},
     "output_type": "execute_result"
    }
   ],
   "source": [
    "insert_sort(a)"
   ]
  },
  {
   "cell_type": "markdown",
   "metadata": {},
   "source": [
    "퀵정렬"
   ]
  },
  {
   "cell_type": "code",
   "execution_count": null,
   "metadata": {},
   "outputs": [],
   "source": [
    "def quick_sort(a,start,end):\n",
    "    if start>=end:\n",
    "        return\n",
    "    pivot=start\n",
    "    left=start+1\n",
    "    right=end\n",
    "    while left<=right:\n",
    "        while left<=end and a[left]<=a[pivot]:\n",
    "            left+=1\n",
    "        while right>start and a[right]>=a[pivot]:\n",
    "            right-=1\n",
    "        if left>right:\n",
    "            a[right],a[pivot]=a[pivot],a[right]\n",
    "        else:\n",
    "            a[left],a[right]=a[right],a[left]\n",
    "    quick_sort(a,start,right-1)\n",
    "    quick_sort(a,right+1,end)\n",
    "    return a\n",
    "\n",
    "quick_sort(a,0,len(a)-1)"
   ]
  },
  {
   "cell_type": "code",
   "execution_count": 7,
   "metadata": {},
   "outputs": [],
   "source": [
    "def quick_sort2(a):\n",
    "    if len(a)<=1:\n",
    "        return a\n",
    "    pivot=a[0]\n",
    "    tail=a[1:]\n",
    "    left_side=[x for x in tail if x<=pivot]\n",
    "    right_side=[x for x in tail if x>pivot]\n",
    "    \n",
    "    return quick_sort2(left_side) + [pivot] +quick_sort2(right_side)"
   ]
  },
  {
   "cell_type": "markdown",
   "metadata": {},
   "source": [
    "개수정렬"
   ]
  },
  {
   "cell_type": "code",
   "execution_count": null,
   "metadata": {},
   "outputs": [],
   "source": [
    "def count_sort(a):\n",
    "    count=[0]*(max(a)+1)\n",
    "    for i in range(len(a)):\n",
    "        count[a[i]]+=1\n",
    "    for i in range(len(count)):\n",
    "        for j in range(count[i]):\n",
    "            print(i)"
   ]
  },
  {
   "cell_type": "code",
   "execution_count": null,
   "metadata": {},
   "outputs": [],
   "source": [
    "a=[2,3,5,1,0,7,4,9,8,6]"
   ]
  },
  {
   "cell_type": "code",
   "execution_count": null,
   "metadata": {},
   "outputs": [],
   "source": [
    "count_sort(a)"
   ]
  },
  {
   "cell_type": "markdown",
   "metadata": {},
   "source": [
    "문제 : 성적이 낮은 순서로 학생 출력하기"
   ]
  },
  {
   "cell_type": "code",
   "execution_count": null,
   "metadata": {},
   "outputs": [],
   "source": [
    "stu=[('홍길동',2),('이순신',3)]"
   ]
  },
  {
   "cell_type": "code",
   "execution_count": null,
   "metadata": {},
   "outputs": [],
   "source": [
    "arr=sorted(stu,key=lambda x:x[1],reverse=True)"
   ]
  },
  {
   "cell_type": "code",
   "execution_count": null,
   "metadata": {},
   "outputs": [],
   "source": [
    "arr"
   ]
  },
  {
   "cell_type": "markdown",
   "metadata": {},
   "source": [
    "문제: 두배열의 원소 교체"
   ]
  },
  {
   "cell_type": "code",
   "execution_count": null,
   "metadata": {},
   "outputs": [],
   "source": [
    "a=[3,4,5,4,3]\n",
    "b=[1,2,3,3,3]\n",
    "k=3"
   ]
  },
  {
   "cell_type": "code",
   "execution_count": null,
   "metadata": {},
   "outputs": [],
   "source": [
    "def solution(a,b,k):\n",
    "    a.sort()\n",
    "    b.sort(reverse=True)\n",
    "    for i in range(k):\n",
    "        if a[i] <b[i]:\n",
    "            a[i]=b[i]\n",
    "        else:\n",
    "            break\n",
    "    return sum(a)"
   ]
  },
  {
   "cell_type": "code",
   "execution_count": null,
   "metadata": {},
   "outputs": [],
   "source": [
    "solution(a,b,k)"
   ]
  },
  {
   "cell_type": "markdown",
   "metadata": {},
   "source": [
    "이진탐색"
   ]
  },
  {
   "cell_type": "code",
   "execution_count": null,
   "metadata": {},
   "outputs": [],
   "source": [
    "def binary_search(array,target,start,end):\n",
    "    if start>end:\n",
    "        return None\n",
    "    mid=(start+end)//2\n",
    "    if array[mid]==target:\n",
    "        return mid\n",
    "    elif array[mid]>target:\n",
    "        return binary_search(array,target,start,mid-1)\n",
    "    else:\n",
    "        return binary_search(array,target,mid+1,end)\n",
    "\n",
    "a=[1,3,4,5,6]\n",
    "\n",
    "b=binary_search(a,5,0,4)\n",
    "\n",
    "print(b)"
   ]
  },
  {
   "cell_type": "markdown",
   "metadata": {},
   "source": [
    "1. 부품찾기"
   ]
  },
  {
   "cell_type": "code",
   "execution_count": null,
   "metadata": {},
   "outputs": [],
   "source": [
    "def solution(m,n):\n",
    "    m.sort()\n",
    "    n.sort()\n",
    "    for i in range(len(m)):\n",
    "        if m[i] in n:\n",
    "            print(\"yes\")\n",
    "        else:\n",
    "            print(\"no\")"
   ]
  },
  {
   "cell_type": "code",
   "execution_count": null,
   "metadata": {},
   "outputs": [],
   "source": [
    "solution([5,7,9],[8,3,7,9,2])"
   ]
  },
  {
   "cell_type": "code",
   "execution_count": null,
   "metadata": {},
   "outputs": [],
   "source": [
    "def binary_search(arr,target,start,end):\n",
    "    if start>end:\n",
    "        return None\n",
    "    mid=(start+end)//2\n",
    "    if arr[mid]==target:\n",
    "        return mid\n",
    "    elif arr[mid]>target:\n",
    "        return binary_search(arr,target,start,mid-1)\n",
    "    elif arr[mid]<target:\n",
    "        return binary_search(arr,target,mid+1,end)\n",
    "\n",
    "def solution(m,n):\n",
    "    m.sort()\n",
    "    n.sort()\n",
    "    for i in m:\n",
    "        result=binary_search(n,i,0,len(n)-1)\n",
    "        if result == None:\n",
    "            print(\"no\")\n",
    "        else:\n",
    "            print(\"yes\")\n",
    "    "
   ]
  },
  {
   "cell_type": "code",
   "execution_count": null,
   "metadata": {},
   "outputs": [],
   "source": [
    "solution([5,7,9],[8,3,7,9,2])"
   ]
  },
  {
   "cell_type": "markdown",
   "metadata": {},
   "source": [
    "2. 떡볶이 떡 만들기"
   ]
  },
  {
   "cell_type": "code",
   "execution_count": null,
   "metadata": {},
   "outputs": [],
   "source": [
    "arr=[19,15,17,10]\n",
    "need=6"
   ]
  },
  {
   "cell_type": "code",
   "execution_count": null,
   "metadata": {},
   "outputs": [],
   "source": [
    "arr.sort(reverse=True)"
   ]
  },
  {
   "cell_type": "code",
   "execution_count": null,
   "metadata": {},
   "outputs": [],
   "source": [
    "arr"
   ]
  },
  {
   "cell_type": "code",
   "execution_count": 2,
   "metadata": {},
   "outputs": [
    {
     "data": {
      "text/plain": [
       "15"
      ]
     },
     "execution_count": 2,
     "metadata": {},
     "output_type": "execute_result"
    }
   ],
   "source": [
    "def solution(arr,need):\n",
    "    arr.sort(reverse=True)\n",
    "    start=0\n",
    "    end=arr[0]\n",
    "    result=0\n",
    "    while start<=end:\n",
    "        total=0\n",
    "        mid=(start+end)//2\n",
    "        \n",
    "        for x in arr:\n",
    "            if mid<=x:\n",
    "                total+=(x-mid)\n",
    "                if total==need:\n",
    "                    return mid\n",
    "        if total>need:\n",
    "            start=mid+1\n",
    "        else:\n",
    "            end=mid-1\n",
    "\n",
    "        \n",
    "arr=[19,15,17,10]\n",
    "solution(arr,6)"
   ]
  },
  {
   "cell_type": "code",
   "execution_count": 7,
   "metadata": {},
   "outputs": [
    {
     "data": {
      "text/plain": [
       "16"
      ]
     },
     "execution_count": 7,
     "metadata": {},
     "output_type": "execute_result"
    }
   ],
   "source": [
    "arr=[19,15,10,17]\n",
    "m=6\n",
    "\n",
    "sorted(arr)\n",
    "result=0\n",
    "end=max(arr)\n",
    "start=0\n",
    "while (start<=end):\n",
    "    total=0\n",
    "    mid=(start+end)//2\n",
    "    for x in arr:\n",
    "        if x> mid:\n",
    "            total+= x-mid\n",
    "    if total<m:\n",
    "        end=mid-1\n",
    "    else:\n",
    "        result=mid\n",
    "        start = mid +1\n",
    "result"
   ]
  },
  {
   "cell_type": "markdown",
   "metadata": {},
   "source": [
    "동적 프로그래밍"
   ]
  },
  {
   "cell_type": "markdown",
   "metadata": {},
   "source": [
    "1로 만들기"
   ]
  },
  {
   "cell_type": "code",
   "execution_count": null,
   "metadata": {},
   "outputs": [],
   "source": [
    "def solution(n):\n",
    "    dp=[0]*30001\n",
    "    dp[2]=1\n",
    "    dp[3]=1\n",
    "    dp[5]=1\n",
    "    for i in range(4,n+1):\n",
    "        dp[i]=dp[i-1]+1\n",
    "        \n",
    "        if i%2==0:\n",
    "            dp[i]=min(dp[i],dp[i//2]+1)\n",
    "        if i%3==0:\n",
    "            dp[i]=min(dp[i],dp[i//3]+1)\n",
    "        if i%5==0:\n",
    "            dp[i]=min(dp[i],dp[i//5]+1)\n",
    "            \n",
    "    return dp[n]"
   ]
  },
  {
   "cell_type": "code",
   "execution_count": null,
   "metadata": {},
   "outputs": [],
   "source": [
    "solution(26)"
   ]
  },
  {
   "cell_type": "markdown",
   "metadata": {},
   "source": [
    "개미전사"
   ]
  },
  {
   "cell_type": "code",
   "execution_count": null,
   "metadata": {},
   "outputs": [],
   "source": [
    "def solution(arr):\n",
    "    n=len(arr)\n",
    "    dp=[0]*n\n",
    "    dp[0]=arr[0]\n",
    "    dp[1]=max(arr[0],arr[1])\n",
    "    for i in range(2,n):\n",
    "        dp[i]=max(dp[i-1],dp[i-2]+arr[i])\n",
    "    return dp[n-1]\n",
    "\n",
    "solution([3,1,5,3])"
   ]
  },
  {
   "cell_type": "markdown",
   "metadata": {},
   "source": [
    "바닥공사"
   ]
  },
  {
   "cell_type": "code",
   "execution_count": null,
   "metadata": {},
   "outputs": [],
   "source": [
    "def solution(n):\n",
    "    dp=[0]*1000\n",
    "    dp[1]=1\n",
    "    dp[2]=3\n",
    "    for i in range(3,n+1):\n",
    "        dp[i]=dp[i-1]+dp[i-2]*2\n",
    "    return dp[n]"
   ]
  },
  {
   "cell_type": "code",
   "execution_count": null,
   "metadata": {},
   "outputs": [],
   "source": [
    "solution(3)"
   ]
  },
  {
   "cell_type": "markdown",
   "metadata": {},
   "source": [
    "효율적인 화폐구성 "
   ]
  },
  {
   "cell_type": "code",
   "execution_count": null,
   "metadata": {},
   "outputs": [],
   "source": [
    "def solution(arr,n):\n",
    "    dp=[10001]+n+1\n",
    "    for i in range(arr):\n",
    "        for k in range(arr[i],n+1):\n",
    "            dp[k]=min(dp[k],dp[k-arr[i]]+1)\n",
    "    if dp[n]==10001:\n",
    "        return -1\n",
    "    else:\n",
    "        return dp[n]"
   ]
  },
  {
   "cell_type": "markdown",
   "metadata": {},
   "source": [
    "다익스트라 알고리즘"
   ]
  },
  {
   "cell_type": "code",
   "execution_count": 1,
   "metadata": {},
   "outputs": [
    {
     "name": "stdout",
     "output_type": "stream",
     "text": [
      "0\n",
      "2\n",
      "3\n",
      "1\n",
      "2\n",
      "4\n"
     ]
    }
   ],
   "source": [
    "def get_smallest_node(n,distance,visited):\n",
    "    min_value=10001\n",
    "    index=0\n",
    "    for i in range(1,n):\n",
    "        if distance[i]<min_value and not visited[i]:\n",
    "            min_value=distance[i]\n",
    "            index=i\n",
    "    return index\n",
    "\n",
    "\n",
    "def dijkstra(n,graph,start):\n",
    "    distance=[10001]*(n+1)\n",
    "    visited=[False]*(n+1)\n",
    "    distance[start]=0\n",
    "    visited[start]=True\n",
    "    for j in graph[start]:\n",
    "        distance[j[0]]=j[1]\n",
    "        \n",
    "    for i in range(n-1):\n",
    "        now=get_smallest_node(n,distance,visited)\n",
    "        visited[now]=True\n",
    "        \n",
    "        for j in graph[now]:\n",
    "            cost=distance[now]+j[1]\n",
    "            \n",
    "            if cost<distance[j[0]]:\n",
    "                distance[j[0]]=cost\n",
    "                \n",
    "    for i in range(1, n+1):\n",
    "        if distance[i]==10001:\n",
    "            print(\"무한\")\n",
    "        else:\n",
    "            print(distance[i])\n",
    "\n",
    "\n",
    "graph=[[],[(2,2),(3,5),(4,1)],[(3,3),(4,2)],[(2,3),(6,5)],[(3,3),(5,1)],[(3,1),(6,2)]]\n",
    "\n",
    "dijkstra(6,graph,1)"
   ]
  },
  {
   "cell_type": "code",
   "execution_count": 5,
   "metadata": {},
   "outputs": [],
   "source": [
    "def get_smallest(n,distance,visited):\n",
    "    min_value=100001\n",
    "    index=0\n",
    "    for i in range(1,n):\n",
    "        if distance[i]<min_value and visited[i]:\n",
    "            min_value=distance[i]\n",
    "            index=i\n",
    "            \n",
    "    return index\n",
    "\n",
    "\n",
    "def dijkstra(n,graph,start):\n",
    "    visited=[False]*(n+1)\n",
    "    distance=[1000001]*(n+1)\n",
    "    distance[start]=0\n",
    "    visited[start]=True\n",
    "    \n",
    "    for i in graph[start]:\n",
    "        distance[i[0]]=i[1]\n",
    "        \n",
    "    for i in range(n-1):\n",
    "        now=get_smallest(n,distance,visited)\n",
    "        visited[now]=True\n",
    "        \n",
    "        for j in graph[now]:\n",
    "            cost=distance[now]+j[1]\n",
    "            \n",
    "            if cost<distance[j[0]]:\n",
    "                distance[j[0]]=cost\n",
    "                "
   ]
  },
  {
   "cell_type": "markdown",
   "metadata": {},
   "source": [
    "다익스트라 힙구조"
   ]
  },
  {
   "cell_type": "code",
   "execution_count": 7,
   "metadata": {},
   "outputs": [],
   "source": [
    "import heapq\n",
    "\n",
    "def dijkstra(n,graph,start):\n",
    "    q=[]\n",
    "    heapq.heappush(q,(0,start))\n",
    "    distance=[100001]*(n+1)\n",
    "    distance[start]=0\n",
    "    \n",
    "    while q:\n",
    "        dist, now = heapq.heappop(q)\n",
    "        \n",
    "        if distance[now]<dist:\n",
    "            continue\n",
    "            \n",
    "        for i in graph[now]:\n",
    "            cost=dist+i[1]\n",
    "            \n",
    "            if cost<distance[i[0]]:\n",
    "                distance[i[0]]=cost\n",
    "                heapq.heappush(q,(cost,i[0]))\n",
    "    "
   ]
  },
  {
   "cell_type": "markdown",
   "metadata": {},
   "source": [
    "플로이드 워셜"
   ]
  },
  {
   "cell_type": "code",
   "execution_count": 28,
   "metadata": {},
   "outputs": [],
   "source": [
    "graph=[[(1,4),(3,6)],[(0,3),(2,7)],[(0,5),(3,4)],[(2,2)]]\n",
    "\n",
    "\n",
    "def floyd_warshall(graph):\n",
    "    tmp=[[10001]*len(graph) for _ in range(len(graph))]\n",
    "\n",
    "    for a in range(len(graph)):\n",
    "        for b in range(len(graph)):\n",
    "            if a==b:\n",
    "                tmp[a][b]=0\n",
    "\n",
    "    for a in range(len(graph)):\n",
    "        for b in range(len(graph[a])):\n",
    "            tmp[a][graph[a][b][0]]=graph[a][b][1]\n",
    "\n",
    "    for k in range(len(tmp)):\n",
    "        for a in range(len(tmp)):\n",
    "            for b in range(len(tmp)):\n",
    "                tmp[a][b]=min(tmp[a][b],tmp[a][k]+tmp[k][b])\n",
    "    return tmp"
   ]
  },
  {
   "cell_type": "code",
   "execution_count": 31,
   "metadata": {},
   "outputs": [
    {
     "data": {
      "text/plain": [
       "[[0, 4, 8, 6], [3, 0, 7, 9], [5, 9, 0, 4], [7, 11, 2, 0]]"
      ]
     },
     "execution_count": 31,
     "metadata": {},
     "output_type": "execute_result"
    }
   ],
   "source": [
    "floyd_warshall(graph)"
   ]
  },
  {
   "cell_type": "code",
   "execution_count": null,
   "metadata": {},
   "outputs": [],
   "source": []
  }
 ],
 "metadata": {
  "kernelspec": {
   "display_name": "Python 3",
   "language": "python",
   "name": "python3"
  },
  "language_info": {
   "codemirror_mode": {
    "name": "ipython",
    "version": 3
   },
   "file_extension": ".py",
   "mimetype": "text/x-python",
   "name": "python",
   "nbconvert_exporter": "python",
   "pygments_lexer": "ipython3",
   "version": "3.8.5"
  }
 },
 "nbformat": 4,
 "nbformat_minor": 4
}
