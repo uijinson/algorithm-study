{
 "cells": [
  {
   "cell_type": "markdown",
   "metadata": {},
   "source": [
    "연습"
   ]
  },
  {
   "cell_type": "code",
   "execution_count": 35,
   "metadata": {},
   "outputs": [],
   "source": [
    "progresses,speeds=[93, 30, 55],[1, 30, 5]"
   ]
  },
  {
   "cell_type": "code",
   "execution_count": 40,
   "metadata": {},
   "outputs": [],
   "source": [
    "Q=[]\n",
    "for p,s in zip(progresses,speeds):\n",
    "    if len(Q)==0 or Q[-1][0]<-(p-100)//s:\n",
    "        Q.append([-(p-100)//s,1])\n",
    "    else:\n",
    "        Q[-1][1]+=1"
   ]
  },
  {
   "cell_type": "code",
   "execution_count": 42,
   "metadata": {},
   "outputs": [
    {
     "data": {
      "text/plain": [
       "[2, 1]"
      ]
     },
     "execution_count": 42,
     "metadata": {},
     "output_type": "execute_result"
    }
   ],
   "source": [
    "[q[1] for q in Q]"
   ]
  },
  {
   "cell_type": "code",
   "execution_count": 43,
   "metadata": {},
   "outputs": [],
   "source": [
    "skill,skill_trees=\"CBD\",[\"BACDE\", \"CBADF\", \"AECB\", \"BDA\"]"
   ]
  },
  {
   "cell_type": "code",
   "execution_count": 48,
   "metadata": {},
   "outputs": [],
   "source": [
    "answer=0\n",
    "for i in range(len(skill_trees)):\n",
    "    temp=\"\"\n",
    "    isok=True\n",
    "    for j in skill_trees[i]:\n",
    "        if skill.find(j) != -1:\n",
    "            temp+=j\n",
    "    for i in range(len(temp)):\n",
    "        if skill[i] !=temp[i]:\n",
    "            isok=False\n",
    "            break\n",
    "    \n",
    "    if isok:\n",
    "        answer+=1\n",
    "    "
   ]
  },
  {
   "cell_type": "code",
   "execution_count": 49,
   "metadata": {},
   "outputs": [
    {
     "data": {
      "text/plain": [
       "'BD'"
      ]
     },
     "execution_count": 49,
     "metadata": {},
     "output_type": "execute_result"
    }
   ],
   "source": [
    "temp"
   ]
  },
  {
   "cell_type": "code",
   "execution_count": 50,
   "metadata": {},
   "outputs": [
    {
     "data": {
      "text/plain": [
       "2"
      ]
     },
     "execution_count": 50,
     "metadata": {},
     "output_type": "execute_result"
    }
   ],
   "source": [
    "answer"
   ]
  },
  {
   "cell_type": "code",
   "execution_count": 51,
   "metadata": {},
   "outputs": [],
   "source": [
    "a=\"12A\""
   ]
  },
  {
   "cell_type": "code",
   "execution_count": 52,
   "metadata": {},
   "outputs": [
    {
     "data": {
      "text/plain": [
       "'12a'"
      ]
     },
     "execution_count": 52,
     "metadata": {},
     "output_type": "execute_result"
    }
   ],
   "source": [
    "a.lower()"
   ]
  },
  {
   "cell_type": "code",
   "execution_count": 82,
   "metadata": {},
   "outputs": [],
   "source": [
    "import re\n",
    "\n",
    "new_id=\"z-+.^.\""
   ]
  },
  {
   "cell_type": "code",
   "execution_count": 83,
   "metadata": {},
   "outputs": [],
   "source": [
    "new_id=re.sub('[^0-9a-z\\.\\-\\_]','',new_id.lower())"
   ]
  },
  {
   "cell_type": "code",
   "execution_count": 84,
   "metadata": {},
   "outputs": [
    {
     "data": {
      "text/plain": [
       "'z-..'"
      ]
     },
     "execution_count": 84,
     "metadata": {},
     "output_type": "execute_result"
    }
   ],
   "source": [
    "new_id"
   ]
  },
  {
   "cell_type": "code",
   "execution_count": 85,
   "metadata": {},
   "outputs": [],
   "source": [
    "new_id=re.sub('\\.\\.+','.',new_id)"
   ]
  },
  {
   "cell_type": "code",
   "execution_count": 86,
   "metadata": {},
   "outputs": [
    {
     "data": {
      "text/plain": [
       "'z-.'"
      ]
     },
     "execution_count": 86,
     "metadata": {},
     "output_type": "execute_result"
    }
   ],
   "source": [
    "new_id"
   ]
  },
  {
   "cell_type": "code",
   "execution_count": 87,
   "metadata": {},
   "outputs": [],
   "source": [
    "new_id=re.sub('^\\.|\\.$',\"\",new_id)"
   ]
  },
  {
   "cell_type": "code",
   "execution_count": 88,
   "metadata": {},
   "outputs": [
    {
     "data": {
      "text/plain": [
       "'z-'"
      ]
     },
     "execution_count": 88,
     "metadata": {},
     "output_type": "execute_result"
    }
   ],
   "source": [
    "new_id"
   ]
  },
  {
   "cell_type": "code",
   "execution_count": 89,
   "metadata": {},
   "outputs": [],
   "source": [
    "if len(new_id)==0:\n",
    "    new_id+='a'"
   ]
  },
  {
   "cell_type": "code",
   "execution_count": 90,
   "metadata": {},
   "outputs": [],
   "source": [
    "new_id=re.sub('\\.$',\"\",new_id[:15])"
   ]
  },
  {
   "cell_type": "code",
   "execution_count": 91,
   "metadata": {},
   "outputs": [],
   "source": [
    "if len(new_id)<=2:\n",
    "    new_id+=new_id[-1]*2\n",
    "    new_id=new_id[:3]"
   ]
  },
  {
   "cell_type": "code",
   "execution_count": 92,
   "metadata": {},
   "outputs": [
    {
     "data": {
      "text/plain": [
       "'z--'"
      ]
     },
     "execution_count": 92,
     "metadata": {},
     "output_type": "execute_result"
    }
   ],
   "source": [
    "new_id"
   ]
  },
  {
   "cell_type": "code",
   "execution_count": 56,
   "metadata": {},
   "outputs": [],
   "source": [
    "return new_id"
   ]
  },
  {
   "cell_type": "code",
   "execution_count": 95,
   "metadata": {},
   "outputs": [],
   "source": [
    "dp=[{5}]\n",
    "answer=0\n",
    "for i in range(2,9):\n",
    "    case={int(str(5)*i)}\n",
    "    for j in range(i-1):\n",
    "        for x in dp[j]:\n",
    "            for y in dp[-j-1]:\n",
    "                case.add(x+y)\n",
    "                case.add(x-y)\n",
    "                case.add(x*y)\n",
    "                \n",
    "                if y!=0:\n",
    "                    case.add(x/y)\n",
    "\n",
    "        if 5 in case:\n",
    "            answer=i\n",
    "            break\n",
    "    \n",
    "    dp.append(case)"
   ]
  },
  {
   "cell_type": "code",
   "execution_count": 97,
   "metadata": {},
   "outputs": [],
   "source": [
    "participant, completion= [\"leo\", \"kiki\", \"eden\"], [\"eden\", \"kiki\"]"
   ]
  },
  {
   "cell_type": "code",
   "execution_count": 104,
   "metadata": {},
   "outputs": [],
   "source": [
    "from collections import Counter\n",
    "\n",
    "answer=Counter(participant)-Counter(completion)"
   ]
  },
  {
   "cell_type": "code",
   "execution_count": 105,
   "metadata": {},
   "outputs": [
    {
     "data": {
      "text/plain": [
       "Counter({'leo': 1})"
      ]
     },
     "execution_count": 105,
     "metadata": {},
     "output_type": "execute_result"
    }
   ],
   "source": [
    "answer"
   ]
  },
  {
   "cell_type": "code",
   "execution_count": 106,
   "metadata": {},
   "outputs": [
    {
     "data": {
      "text/plain": [
       "dict_keys(['leo'])"
      ]
     },
     "execution_count": 106,
     "metadata": {},
     "output_type": "execute_result"
    }
   ],
   "source": [
    "answer.keys()"
   ]
  },
  {
   "cell_type": "code",
   "execution_count": 108,
   "metadata": {},
   "outputs": [
    {
     "data": {
      "text/plain": [
       "dict_values([1])"
      ]
     },
     "execution_count": 108,
     "metadata": {},
     "output_type": "execute_result"
    }
   ],
   "source": [
    "answer.values()"
   ]
  },
  {
   "cell_type": "code",
   "execution_count": 109,
   "metadata": {},
   "outputs": [
    {
     "data": {
      "text/plain": [
       "dict_items([('leo', 1)])"
      ]
     },
     "execution_count": 109,
     "metadata": {},
     "output_type": "execute_result"
    }
   ],
   "source": [
    "answer.items()"
   ]
  },
  {
   "cell_type": "code",
   "execution_count": 111,
   "metadata": {},
   "outputs": [
    {
     "data": {
      "text/plain": [
       "1"
      ]
     },
     "execution_count": 111,
     "metadata": {},
     "output_type": "execute_result"
    }
   ],
   "source": [
    "answer['leo']"
   ]
  },
  {
   "cell_type": "code",
   "execution_count": 136,
   "metadata": {},
   "outputs": [
    {
     "data": {
      "text/plain": [
       "[1, 2, 3, 4, 9, 10, 5, 8, 6, 7]"
      ]
     },
     "execution_count": 136,
     "metadata": {},
     "output_type": "execute_result"
    }
   ],
   "source": [
    "n=4\n",
    "\n",
    "m=[[0]*n for i in range(n)]\n",
    "x,y=-1,0\n",
    "num=1\n",
    "\n",
    "for i in range(n):\n",
    "    for j in range(i,n):\n",
    "        if i%3==0:\n",
    "            x+=1\n",
    "            \n",
    "        elif i%3==1:\n",
    "            y+=1\n",
    "        elif i%3==2:\n",
    "            x-=1\n",
    "            y-=1\n",
    "        \n",
    "        m[x][y]=num\n",
    "        num+=1\n",
    "        \n",
    "[m[x][y] for y in range(len(m)) for x in range(len(m)) if m[x][y]!=0]"
   ]
  },
  {
   "cell_type": "code",
   "execution_count": 131,
   "metadata": {},
   "outputs": [
    {
     "data": {
      "text/plain": [
       "[[1, 0, 0, 0], [2, 9, 0, 0], [3, 10, 8, 0], [4, 5, 6, 7]]"
      ]
     },
     "execution_count": 131,
     "metadata": {},
     "output_type": "execute_result"
    }
   ],
   "source": [
    "m"
   ]
  },
  {
   "cell_type": "code",
   "execution_count": 137,
   "metadata": {},
   "outputs": [],
   "source": [
    "s=\"ababcdcdababcdcd\"\n",
    "\n",
    "answer=[]\n",
    "res=\"\"\n",
    "cnt=1\n",
    "\n",
    "for i in range(1, len(s)//2+1):\n",
    "    prev=s[:i]\n",
    "    \n",
    "    for j in range(i,len(s)//+1,i):\n",
    "        \n",
    "        if prev==s[j:j+i]:\n",
    "            cnt+=1\n",
    "        else:\n",
    "            if cnt==1:\n",
    "                cnt=\"\"\n",
    "            res+=str(cnt)+prev\n",
    "            cnt=1\n",
    "            prev=s[j:j+i]\n",
    "        \n",
    "        \n",
    "    answer.append(len(res))\n",
    "    res=\"\"\n",
    "    \n",
    "        "
   ]
  },
  {
   "cell_type": "code",
   "execution_count": 138,
   "metadata": {},
   "outputs": [
    {
     "data": {
      "text/plain": [
       "{2}"
      ]
     },
     "execution_count": 138,
     "metadata": {},
     "output_type": "execute_result"
    }
   ],
   "source": [
    "{1,2}-{3,1}"
   ]
  },
  {
   "cell_type": "code",
   "execution_count": null,
   "metadata": {},
   "outputs": [],
   "source": [
    "def solution(n,lost,reserve):\n",
    "    _lost=set(lost)-set(reserve)\n",
    "    _reserve=set(reserve)-set(lost)\n",
    "    \n",
    "    answer=n=len(lost)\n",
    "    \n",
    "    for i in lost:\n",
    "        if i+1 in reserve:\n",
    "            reserve.remove(i+1)\n",
    "            answer+=1\n",
    "        elif i-1 in reserve:\n",
    "            reserve.remove(i-1)\n",
    "            answer+=1\n",
    "    return answer"
   ]
  },
  {
   "cell_type": "code",
   "execution_count": 139,
   "metadata": {},
   "outputs": [],
   "source": [
    "array=[1, 5, 2, 6, 3, 7, 4]\n",
    "commands=[[2, 5, 3], [4, 4, 1], [1, 7, 3]]"
   ]
  },
  {
   "cell_type": "code",
   "execution_count": 152,
   "metadata": {},
   "outputs": [
    {
     "data": {
      "text/plain": [
       "[5, 6, 3]"
      ]
     },
     "execution_count": 152,
     "metadata": {},
     "output_type": "execute_result"
    }
   ],
   "source": [
    "[sorted(array[i[0]-1:i[1]])[i[2]-1] for i in commands]"
   ]
  },
  {
   "cell_type": "code",
   "execution_count": 170,
   "metadata": {},
   "outputs": [],
   "source": [
    "numbers,k=\"1231234\",3"
   ]
  },
  {
   "cell_type": "code",
   "execution_count": 171,
   "metadata": {},
   "outputs": [],
   "source": [
    "stack=[numbers[0]]\n",
    "for num in numbers[1:]:    \n",
    "    while k>0 and len(stack)>0 and stack[-1]<num:\n",
    "        stack.pop()\n",
    "        k-=1\n",
    "    stack.append(num)\n"
   ]
  },
  {
   "cell_type": "code",
   "execution_count": 172,
   "metadata": {},
   "outputs": [
    {
     "data": {
      "text/plain": [
       "['3', '2', '3', '4']"
      ]
     },
     "execution_count": 172,
     "metadata": {},
     "output_type": "execute_result"
    }
   ],
   "source": [
    "stack"
   ]
  },
  {
   "cell_type": "code",
   "execution_count": 183,
   "metadata": {},
   "outputs": [],
   "source": [
    "sco,k=[1, 2, 3, 9, 10, 12],7"
   ]
  },
  {
   "cell_type": "code",
   "execution_count": 184,
   "metadata": {},
   "outputs": [],
   "source": [
    "import heapq"
   ]
  },
  {
   "cell_type": "code",
   "execution_count": 185,
   "metadata": {},
   "outputs": [],
   "source": [
    "def solution(sco,k):\n",
    "    heapq.heapify(sco)\n",
    "\n",
    "    i=0\n",
    "\n",
    "    while sco[0]<k:\n",
    "        if len(sco)>1:\n",
    "            heapq.heappush(sco,heapq.heappop(sco)+heapq.heappop(sco)*2)\n",
    "            i+=1\n",
    "        else:\n",
    "            return -1\n",
    "    return i\n",
    "\n"
   ]
  },
  {
   "cell_type": "code",
   "execution_count": 186,
   "metadata": {},
   "outputs": [
    {
     "data": {
      "text/plain": [
       "2"
      ]
     },
     "execution_count": 186,
     "metadata": {},
     "output_type": "execute_result"
    }
   ],
   "source": [
    "solution(sco,k)"
   ]
  },
  {
   "cell_type": "code",
   "execution_count": 282,
   "metadata": {},
   "outputs": [],
   "source": [
    "orders,course=[\"ABCDE\", \"AB\", \"CD\", \"ADE\", \"XYZ\", \"XYZ\", \"ACD\"],[2,3,5]\n"
   ]
  },
  {
   "cell_type": "code",
   "execution_count": 289,
   "metadata": {},
   "outputs": [],
   "source": [
    "from itertools import combinations\n",
    "from collections import Counter\n",
    "\n",
    "\n",
    "def modefinder(ans):\n",
    "    if not ans:\n",
    "        return []\n",
    "    cnt=Counter(i)\n",
    "    order=cnt.most_common()\n",
    "    maximum=order[0][1]\n",
    "    modes=[]\n",
    "    if maximum==1:\n",
    "        return []\n",
    "    for num in order:\n",
    "        if num[1]==maximum:\n",
    "            modes.append(''.join(num[0]))\n",
    "    return modes\n",
    "temp=[]\n",
    "answer=[]\n",
    "\n",
    "for order in orders:\n",
    "    order=sorted(order)\n",
    "    for i in course:\n",
    "        temp.extend(combinations(order,i))\n",
    "ans=[]\n",
    "for i in course:\n",
    "    ans.append(list(filter(lambda x : len(x)==i,temp)))\n",
    "\n",
    "for i in ans:\n",
    "    answer.extend(modefinder(i))\n",
    "\n"
   ]
  },
  {
   "cell_type": "code",
   "execution_count": 291,
   "metadata": {},
   "outputs": [
    {
     "data": {
      "text/plain": [
       "['AD', 'CD', 'ACD', 'ADE', 'XYZ']"
      ]
     },
     "execution_count": 291,
     "metadata": {},
     "output_type": "execute_result"
    }
   ],
   "source": [
    "answer"
   ]
  },
  {
   "cell_type": "code",
   "execution_count": 307,
   "metadata": {},
   "outputs": [],
   "source": [
    "name=\"JEROEN\""
   ]
  },
  {
   "cell_type": "code",
   "execution_count": 308,
   "metadata": {},
   "outputs": [],
   "source": [
    "up_down=[min(ord(i)-ord('A'),ord('Z')-ord(i)+1) for i in name]"
   ]
  },
  {
   "cell_type": "code",
   "execution_count": 310,
   "metadata": {},
   "outputs": [],
   "source": [
    "answer=0\n",
    "cursor=0\n",
    "while True:\n",
    "    answer+=up_down[cursor]\n",
    "    up_down[cursor]=0\n",
    "    \n",
    "    if sum(up_down)==0:\n",
    "        break\n",
    "    \n",
    "    left,right=1,1\n",
    "    \n",
    "    while up_down[cursor-left]==0:\n",
    "        left+=1\n",
    "    \n",
    "    while up_down[cursor+right]==0:\n",
    "        right+=1\n",
    "        \n",
    "    answer+= left if left<right else right\n",
    "    cursor+= left if left<right else right\n",
    "    "
   ]
  },
  {
   "cell_type": "code",
   "execution_count": 311,
   "metadata": {},
   "outputs": [
    {
     "data": {
      "text/plain": [
       "56"
      ]
     },
     "execution_count": 311,
     "metadata": {},
     "output_type": "execute_result"
    }
   ],
   "source": [
    "answer"
   ]
  },
  {
   "cell_type": "code",
   "execution_count": 320,
   "metadata": {},
   "outputs": [],
   "source": [
    "number=\"17\""
   ]
  },
  {
   "cell_type": "code",
   "execution_count": 329,
   "metadata": {},
   "outputs": [],
   "source": [
    "from itertools import permutations\n",
    "from itertools import combinations"
   ]
  },
  {
   "cell_type": "code",
   "execution_count": 333,
   "metadata": {},
   "outputs": [],
   "source": [
    "num_list=[]\n",
    "for i in range(1,len(number)+1):\n",
    "    p=permutations(number,i)\n",
    "    for j in p:\n",
    "        num_list.append(''.join(j))"
   ]
  },
  {
   "cell_type": "code",
   "execution_count": 338,
   "metadata": {},
   "outputs": [
    {
     "data": {
      "text/plain": [
       "2"
      ]
     },
     "execution_count": 338,
     "metadata": {},
     "output_type": "execute_result"
    }
   ],
   "source": [
    "prime_finder(num_list)"
   ]
  },
  {
   "cell_type": "code",
   "execution_count": 337,
   "metadata": {},
   "outputs": [],
   "source": [
    "def prime_finder(num_list):\n",
    "    answer=0\n",
    "    for i in number:\n",
    "        i=int(i)\n",
    "        cnt=0\n",
    "        for j in range(2,i):\n",
    "            if i%j==0:\n",
    "                cnt+=1\n",
    "                break\n",
    "        \n",
    "        if i>0 and cnt==0:\n",
    "            answer+=1\n",
    "    return answer"
   ]
  },
  {
   "cell_type": "code",
   "execution_count": 348,
   "metadata": {},
   "outputs": [],
   "source": [
    "\n",
    "people,limit=[70, 50, 80, 50],100\n",
    "\n",
    "people=sorted(people)\n",
    "answer=0\n",
    "start=0\n",
    "end=len(people)-1\n",
    "\n",
    "while start<=end:\n",
    "    answer+=1\n",
    "    if end>=start:\n",
    "        break\n",
    "    elif people[start]+people[end]<=limit:\n",
    "        start+=1\n",
    "    end-=1"
   ]
  },
  {
   "cell_type": "code",
   "execution_count": 350,
   "metadata": {},
   "outputs": [
    {
     "data": {
      "text/plain": [
       "1"
      ]
     },
     "execution_count": 350,
     "metadata": {},
     "output_type": "execute_result"
    }
   ],
   "source": [
    "answer"
   ]
  },
  {
   "cell_type": "code",
   "execution_count": null,
   "metadata": {},
   "outputs": [],
   "source": [
    "hashmap={}\n",
    "for i in clothes:\n",
    "    if i[1] in hashmap:\n",
    "        hashmap[i[1]]+=1\n",
    "    else:\n",
    "        hashmap[i[1]]=1\n",
    "\n",
    "for v in hashmap.values:\n",
    "    (v+1)"
   ]
  },
  {
   "cell_type": "code",
   "execution_count": 351,
   "metadata": {},
   "outputs": [],
   "source": [
    "def gap(yellow):\n",
    "    yel=[]\n",
    "    case=[x for x in range(1,yellow+1) if yellow%x==0]\n",
    "    if len(case)==1:\n",
    "        yel.append(1,1)\n",
    "    else:\n",
    "        for i in range(len(case)//2+1):\n",
    "            yel.append(case[i],case[-1-i])\n",
    "    \n",
    "    return yel"
   ]
  },
  {
   "cell_type": "code",
   "execution_count": null,
   "metadata": {},
   "outputs": [],
   "source": [
    "yel=gap(yellow)\n",
    "w=0\n",
    "h=0\n",
    "for i in yel:\n",
    "    w=i[0]+2\n",
    "    h=i[1]+2\n",
    "    \n",
    "    if w*2+h*2-4==brown:\n",
    "        break\n",
    "        "
   ]
  },
  {
   "cell_type": "code",
   "execution_count": 352,
   "metadata": {},
   "outputs": [],
   "source": [
    "brown,yellow=24,24"
   ]
  },
  {
   "cell_type": "code",
   "execution_count": 357,
   "metadata": {},
   "outputs": [],
   "source": [
    "n=45"
   ]
  },
  {
   "cell_type": "code",
   "execution_count": 358,
   "metadata": {},
   "outputs": [],
   "source": [
    "jin=\"\"\n",
    "while n:\n",
    "    n,rem=divmod(n,3)\n",
    "    jin=str(rem)+jin\n",
    "\n",
    "for idx,x in enumerate(jin):\n",
    "    "
   ]
  },
  {
   "cell_type": "code",
   "execution_count": 359,
   "metadata": {},
   "outputs": [
    {
     "data": {
      "text/plain": [
       "'1200'"
      ]
     },
     "execution_count": 359,
     "metadata": {},
     "output_type": "execute_result"
    }
   ],
   "source": [
    "jin"
   ]
  },
  {
   "cell_type": "code",
   "execution_count": 360,
   "metadata": {},
   "outputs": [],
   "source": [
    "boards=[[0,1,1,1],[1,1,1,1],[1,1,1,1],[0,0,1,0]]"
   ]
  },
  {
   "cell_type": "code",
   "execution_count": 363,
   "metadata": {},
   "outputs": [
    {
     "data": {
      "text/plain": [
       "3"
      ]
     },
     "execution_count": 363,
     "metadata": {},
     "output_type": "execute_result"
    }
   ],
   "source": [
    "for i in range(1,len(boards)):\n",
    "    for j in range(1,len(boards[0])):\n",
    "        if boards[i][j]>=1:\n",
    "            boards[i][j]=min(boards[i-1][j],boards[i][j-1],boards[i-1][j-1])+1\n",
    "\n",
    "max([y for x in boards for y in x])"
   ]
  },
  {
   "cell_type": "code",
   "execution_count": 365,
   "metadata": {},
   "outputs": [],
   "source": [
    "boards=[[1,1,0,0],[1,0,0,0],[1,0,0,1],[1,1,1,1]]"
   ]
  },
  {
   "cell_type": "code",
   "execution_count": null,
   "metadata": {},
   "outputs": [],
   "source": [
    "answer=[0,0]\n",
    "\n",
    "def comp(x,y,n):\n",
    "    init=boards[x][y]\n",
    "    for i in range(x,x+n):\n",
    "        for j in range(x,x+n):\n",
    "            if init!=boards[x][y]:\n",
    "                nn=n//2\n",
    "                comp(x,y,nn)\n",
    "                comp(x+nn,y,nn)\n",
    "                comp(x+nn,y+nn,nn)\n",
    "                comp(x,y+nn,nn)\n",
    "                return\n",
    "    answer[init]+=1"
   ]
  },
  {
   "cell_type": "code",
   "execution_count": 420,
   "metadata": {},
   "outputs": [],
   "source": [
    "info=[\"java backend junior pizza 150\",\"python frontend senior chicken 210\",\"python frontend senior chicken 150\",\"cpp backend senior pizza 260\",\"java backend junior chicken 80\",\"python backend senior chicken 50\"]"
   ]
  },
  {
   "cell_type": "code",
   "execution_count": 421,
   "metadata": {},
   "outputs": [],
   "source": [
    "from itertools import combinations"
   ]
  },
  {
   "cell_type": "code",
   "execution_count": 422,
   "metadata": {},
   "outputs": [],
   "source": [
    "answer=[]\n",
    "db={}\n",
    "for i in info:\n",
    "    temp=i.split(\" \")\n",
    "    condi=temp[:-1]\n",
    "    score=int(temp[-1])\n",
    "    \n",
    "    for i in range(5):\n",
    "        combi=list(combinations(range(4),i))\n",
    "        for c in combi:\n",
    "            t_c=condi.copy()\n",
    "            \n",
    "            for v in c:\n",
    "                t_c[v]=\"-\"\n",
    "            changed_t_c=\"/\".join(t_c)\n",
    "            \n",
    "            if changed_t_c in db:\n",
    "                db[changed_t_c].append(score)\n",
    "            else:\n",
    "                db[changed_t_c]=[score]\n",
    "\n",
    "for val in db.values():\n",
    "    val.sort()"
   ]
  },
  {
   "cell_type": "code",
   "execution_count": 423,
   "metadata": {},
   "outputs": [
    {
     "data": {
      "text/plain": [
       "{'java/backend/junior/pizza': [150],\n",
       " '-/backend/junior/pizza': [150],\n",
       " 'java/-/junior/pizza': [150],\n",
       " 'java/backend/-/pizza': [150],\n",
       " 'java/backend/junior/-': [80, 150],\n",
       " '-/-/junior/pizza': [150],\n",
       " '-/backend/-/pizza': [150, 260],\n",
       " '-/backend/junior/-': [80, 150],\n",
       " 'java/-/-/pizza': [150],\n",
       " 'java/-/junior/-': [80, 150],\n",
       " 'java/backend/-/-': [80, 150],\n",
       " '-/-/-/pizza': [150, 260],\n",
       " '-/-/junior/-': [80, 150],\n",
       " '-/backend/-/-': [50, 80, 150, 260],\n",
       " 'java/-/-/-': [80, 150],\n",
       " '-/-/-/-': [50, 80, 150, 150, 210, 260],\n",
       " 'python/frontend/senior/chicken': [150, 210],\n",
       " '-/frontend/senior/chicken': [150, 210],\n",
       " 'python/-/senior/chicken': [50, 150, 210],\n",
       " 'python/frontend/-/chicken': [150, 210],\n",
       " 'python/frontend/senior/-': [150, 210],\n",
       " '-/-/senior/chicken': [50, 150, 210],\n",
       " '-/frontend/-/chicken': [150, 210],\n",
       " '-/frontend/senior/-': [150, 210],\n",
       " 'python/-/-/chicken': [50, 150, 210],\n",
       " 'python/-/senior/-': [50, 150, 210],\n",
       " 'python/frontend/-/-': [150, 210],\n",
       " '-/-/-/chicken': [50, 80, 150, 210],\n",
       " '-/-/senior/-': [50, 150, 210, 260],\n",
       " '-/frontend/-/-': [150, 210],\n",
       " 'python/-/-/-': [50, 150, 210],\n",
       " 'cpp/backend/senior/pizza': [260],\n",
       " '-/backend/senior/pizza': [260],\n",
       " 'cpp/-/senior/pizza': [260],\n",
       " 'cpp/backend/-/pizza': [260],\n",
       " 'cpp/backend/senior/-': [260],\n",
       " '-/-/senior/pizza': [260],\n",
       " '-/backend/senior/-': [50, 260],\n",
       " 'cpp/-/-/pizza': [260],\n",
       " 'cpp/-/senior/-': [260],\n",
       " 'cpp/backend/-/-': [260],\n",
       " 'cpp/-/-/-': [260],\n",
       " 'java/backend/junior/chicken': [80],\n",
       " '-/backend/junior/chicken': [80],\n",
       " 'java/-/junior/chicken': [80],\n",
       " 'java/backend/-/chicken': [80],\n",
       " '-/-/junior/chicken': [80],\n",
       " '-/backend/-/chicken': [50, 80],\n",
       " 'java/-/-/chicken': [80],\n",
       " 'python/backend/senior/chicken': [50],\n",
       " '-/backend/senior/chicken': [50],\n",
       " 'python/backend/-/chicken': [50],\n",
       " 'python/backend/senior/-': [50],\n",
       " 'python/backend/-/-': [50]}"
      ]
     },
     "execution_count": 423,
     "metadata": {},
     "output_type": "execute_result"
    }
   ],
   "source": [
    "[1,1,3,3,0,1,1]"
   ]
  },
  {
   "cell_type": "code",
   "execution_count": 424,
   "metadata": {},
   "outputs": [],
   "source": [
    "query=[\"java and backend and junior and pizza 100\"]"
   ]
  },
  {
   "cell_type": "code",
   "execution_count": 430,
   "metadata": {},
   "outputs": [],
   "source": [
    "for q in query:\n",
    "    qry=[x for x in q.split(\" \") if x!=\"and\"]\n",
    "    qry_condi=\"/\".join(qry[:-1])\n",
    "    qry_score=int(qry[-1])\n",
    "    if qry_condi in db:\n",
    "        data=db[qry_condi]\n",
    "    \n",
    "    if len(data)>0:\n",
    "        \n",
    "        start,end=0,len(data)\n",
    "        \n",
    "        while start!=end:\n",
    "            \n",
    "            if data[(start+end)//2]<qry_score:\n",
    "                start=(start+end)//2+1\n",
    "            else:\n",
    "                end=(start+end)//2\n",
    "                \n",
    "        answer.append(len(data)-start)\n",
    "    else:\n",
    "        answer.append(0)\n",
    "            \n",
    "        "
   ]
  },
  {
   "cell_type": "code",
   "execution_count": 431,
   "metadata": {},
   "outputs": [
    {
     "data": {
      "text/plain": [
       "[1]"
      ]
     },
     "execution_count": 431,
     "metadata": {},
     "output_type": "execute_result"
    }
   ],
   "source": [
    "answer"
   ]
  },
  {
   "cell_type": "code",
   "execution_count": 433,
   "metadata": {},
   "outputs": [],
   "source": [
    "number=[1,1,3,3,0,1,1]"
   ]
  },
  {
   "cell_type": "code",
   "execution_count": 436,
   "metadata": {},
   "outputs": [],
   "source": [
    "answer=[]\n",
    "for i in range(len(number)-1):\n",
    "    if number[i+1]!=number[i]:\n",
    "        answer.append(number[i])\n",
    "answer.append(number[-1])"
   ]
  },
  {
   "cell_type": "code",
   "execution_count": 437,
   "metadata": {},
   "outputs": [
    {
     "data": {
      "text/plain": [
       "[1, 3, 0, 1]"
      ]
     },
     "execution_count": 437,
     "metadata": {},
     "output_type": "execute_result"
    }
   ],
   "source": [
    "answer"
   ]
  },
  {
   "cell_type": "code",
   "execution_count": null,
   "metadata": {},
   "outputs": [],
   "source": [
    "stack=[]\n",
    "\n",
    "for i in s:\n",
    "    if i==\"(\":\n",
    "        stack.append(i)\n",
    "    else:\n",
    "        if len(stack)==0:\n",
    "            return False\n",
    "        stack.pop()\n",
    "        "
   ]
  },
  {
   "cell_type": "code",
   "execution_count": 451,
   "metadata": {},
   "outputs": [],
   "source": [
    "n=78"
   ]
  },
  {
   "cell_type": "code",
   "execution_count": 452,
   "metadata": {},
   "outputs": [],
   "source": [
    "answer=n+1\n",
    "ans=0\n",
    "cnt=bin(n)[2:].count(\"1\")"
   ]
  },
  {
   "cell_type": "code",
   "execution_count": 453,
   "metadata": {},
   "outputs": [],
   "source": [
    "while cnt != ans:\n",
    "    ans=bin(answer)[2:].count(\"1\")\n",
    "    if cnt==ans:\n",
    "        break\n",
    "    answer+=1\n",
    "    \n",
    "    "
   ]
  },
  {
   "cell_type": "code",
   "execution_count": 454,
   "metadata": {
    "scrolled": true
   },
   "outputs": [
    {
     "data": {
      "text/plain": [
       "83"
      ]
     },
     "execution_count": 454,
     "metadata": {},
     "output_type": "execute_result"
    }
   ],
   "source": [
    "answer"
   ]
  },
  {
   "cell_type": "code",
   "execution_count": 486,
   "metadata": {},
   "outputs": [],
   "source": [
    "import re"
   ]
  },
  {
   "cell_type": "code",
   "execution_count": 492,
   "metadata": {},
   "outputs": [],
   "source": [
    "s=\"{{1,2,3},{2,1},{1,2,4,3},{2}}\""
   ]
  },
  {
   "cell_type": "code",
   "execution_count": 499,
   "metadata": {},
   "outputs": [],
   "source": [
    "answer=[]"
   ]
  },
  {
   "cell_type": "code",
   "execution_count": 500,
   "metadata": {},
   "outputs": [
    {
     "ename": "AttributeError",
     "evalue": "'str' object has no attribute 'sort'",
     "output_type": "error",
     "traceback": [
      "\u001b[1;31m---------------------------------------------------------------------------\u001b[0m",
      "\u001b[1;31mAttributeError\u001b[0m                            Traceback (most recent call last)",
      "\u001b[1;32m<ipython-input-500-640ea6e1bdae>\u001b[0m in \u001b[0;36m<module>\u001b[1;34m\u001b[0m\n\u001b[1;32m----> 1\u001b[1;33m \u001b[0ms\u001b[0m\u001b[1;33m.\u001b[0m\u001b[0msort\u001b[0m\u001b[1;33m(\u001b[0m\u001b[0mkey\u001b[0m\u001b[1;33m=\u001b[0m\u001b[0mlen\u001b[0m\u001b[1;33m)\u001b[0m\u001b[1;33m\u001b[0m\u001b[1;33m\u001b[0m\u001b[0m\n\u001b[0m",
      "\u001b[1;31mAttributeError\u001b[0m: 'str' object has no attribute 'sort'"
     ]
    }
   ],
   "source": [
    "s.sort(key=len)"
   ]
  },
  {
   "cell_type": "code",
   "execution_count": null,
   "metadata": {},
   "outputs": [],
   "source": [
    "tickets=[[\"ICN\", \"SFO\"], [\"ICN\", \"ATL\"], [\"SFO\", \"ATL\"], [\"ATL\", \"ICN\"], [\"ATL\",\"SFO\"]]\n",
    "\n",
    "\n",
    "route=dict()\n",
    "for i in tickets:\n",
    "    if i[0] in route:\n",
    "        route[i[0]].append(routei[1])\n",
    "    else:\n",
    "        route[i[0]]=[i[1]]\n",
    "\n",
    "for i in route.values():\n",
    "    i.sort(reverse=True)\n",
    "\n",
    "N=len(tickets)\n",
    "path=[]\n",
    "\n",
    "dfs(route,path,N,\"ICN\")\n",
    "\n",
    "def dfs(route,path,N,here):\n",
    "    path.append(here)\n",
    "    \n",
    "    if len(path)==N+1:\n",
    "        return True\n",
    "    \n",
    "    if here not in route:\n",
    "        path.pop()\n",
    "        return False\n",
    "    \n",
    "    for i in range(route[here]):\n",
    "        there=route[here].pop()\n",
    "        \n",
    "        if dfs(route,path,N,there):\n",
    "            return True\n",
    "        \n",
    "        route[here].insert(0,there)\n",
    "    \n",
    "    path.pop()\n",
    "    \n",
    "    return False"
   ]
  },
  {
   "cell_type": "code",
   "execution_count": 516,
   "metadata": {},
   "outputs": [],
   "source": [
    "def dfs(route,path,N,here):\n",
    "    path.append(here)\n",
    "    \n",
    "    if len(path)==N+1:\n",
    "        True\n",
    "    \n",
    "    if here not in route:\n",
    "        path.pop()\n",
    "        return False\n",
    "    \n",
    "    for i in range(len(route[here])):\n",
    "        there=route[here].pop()\n",
    "        \n",
    "        if dfs(route,path,N,there):\n",
    "            return True\n",
    "        \n",
    "        route[here].insert(0,there)\n",
    "    \n",
    "    path.pop()\n",
    "    \n",
    "    return False\n",
    "\n",
    "route=dict()\n",
    "for i in tickets:\n",
    "    if i[0] in route:\n",
    "        route[i[0]].append(i[1])\n",
    "    else:\n",
    "        route[i[0]]=[i[1]]\n",
    "for i in route.values():\n",
    "    i.sort(reverse=True)\n",
    "    \n",
    "N=len(tickets)\n",
    "path=[]\n",
    "if dfs(route,path,N,'ICN'):\n",
    "    answer=path"
   ]
  },
  {
   "cell_type": "code",
   "execution_count": 526,
   "metadata": {},
   "outputs": [
    {
     "data": {
      "text/plain": [
       "{'ICN': ['SFO', 'ATL'], 'SFO': ['ATL'], 'ATL': ['SFO', 'ICN']}"
      ]
     },
     "execution_count": 526,
     "metadata": {},
     "output_type": "execute_result"
    }
   ],
   "source": [
    "route"
   ]
  },
  {
   "cell_type": "code",
   "execution_count": 530,
   "metadata": {},
   "outputs": [],
   "source": [
    "maps=[[1,0,1,1,1],[1,0,1,0,1],[1,0,1,1,1],[1,1,1,0,1],[0,0,0,0,1]]"
   ]
  },
  {
   "cell_type": "code",
   "execution_count": null,
   "metadata": {},
   "outputs": [],
   "source": [
    "dx=[-1,1,0,0]\n",
    "dy=[0,0,-1,1]\n",
    "\n",
    "def bfs(maps,x,y):\n",
    "    dx=[-1,1,0,0]\n",
    "    dy=[0,0,-1,1]\n",
    "    table=[-1 for x in range(len(maps)) for y in range(len(maps[0]))]\n",
    "    table[0][0]=1\n",
    "    queue=deque()\n",
    "    queue.append((0,0))\n",
    "    \n",
    "    while queue:\n",
    "        x,y=deque.popleft()\n",
    "        \n",
    "        for i in range(4):\n",
    "            nx=x+dx[i]\n",
    "            ny=y+dy[i]\n",
    "            \n",
    "            if nx<0 or ny<0 or nx>=len(maps) or ny>=len(maps[0]):\n",
    "                continue\n",
    "            \n",
    "            if maps[nx][ny]==0:\n",
    "                continue\n",
    "            \n",
    "            if maps[nx][ny]==1:\n",
    "                table[nx][ny]=table[x][y]+1\n",
    "                queue.append((nx,ny))\n",
    "                     \n",
    "    return table[-1][-1]"
   ]
  },
  {
   "cell_type": "code",
   "execution_count": 535,
   "metadata": {},
   "outputs": [],
   "source": [
    "begin,target,words=\"hit\", \"cog\", [\"hot\", \"dot\", \"dog\", \"lot\", \"log\", \"cog\"]\n",
    "\n",
    "answer=0\n",
    "visit=[False]*len(words)\n",
    "\n",
    "if target not in words:\n",
    "    answer=0\n",
    "else:\n",
    "    stacks=[begin]\n",
    "    \n",
    "    while stacks:\n",
    "        stac=stacks.pop()\n",
    "        \n",
    "        if stack==target:\n",
    "            break\n",
    "        \n",
    "        for w in range(len(visit)):\n",
    "            if len([i for i in range(len(words[w])) if words[w][i] != target[i]])==1:\n",
    "                    if not visit[w]:\n",
    "                        visit[w]=True\n",
    "                        stack.append(words[w])\n",
    "            \n",
    "        answer+=1\n",
    "            "
   ]
  },
  {
   "cell_type": "code",
   "execution_count": 537,
   "metadata": {},
   "outputs": [
    {
     "data": {
      "text/plain": [
       "1"
      ]
     },
     "execution_count": 537,
     "metadata": {},
     "output_type": "execute_result"
    }
   ],
   "source": [
    "answer"
   ]
  },
  {
   "cell_type": "code",
   "execution_count": 541,
   "metadata": {},
   "outputs": [],
   "source": [
    "dirs=\"ULURRDLLU\"\n",
    "\n",
    "stack=[(0,0)]\n",
    "answer=0\n",
    "x,y=0,0\n",
    "for i in dirs:\n",
    "    if i==\"U\":\n",
    "        x,y=x+1,y\n",
    "        if -5<=x+1<=5 and (x,y) not in stack:\n",
    "            stack.append((x,y))\n",
    "            answer+=1\n",
    "        else:\n",
    "            x,y=x-1,y\n",
    "    elif i==\"D\":\n",
    "        x,y=x-1,y\n",
    "        if -5<=x-1<=5 and (x,y) not in stack:\n",
    "            stack.append((x,y))\n",
    "            answer+=1\n",
    "        else:\n",
    "            x,y=x+1,y\n",
    "    elif i==\"L\":\n",
    "        x,y=x,y-1\n",
    "        if -5<=y-1<=5 and (x,y) not in stack:\n",
    "            stack.append((x,y))\n",
    "            answer+=1\n",
    "        else:\n",
    "            x,y=x,y+1\n",
    "    elif i==\"R\":\n",
    "        x,y=x,y+1\n",
    "        if -5<=y+1<=5 and (x,y) not in stack:\n",
    "            stack.append((x,y))\n",
    "            answer+=1\n",
    "        else:\n",
    "            x,y=x,y-1"
   ]
  },
  {
   "cell_type": "code",
   "execution_count": 542,
   "metadata": {},
   "outputs": [
    {
     "data": {
      "text/plain": [
       "6"
      ]
     },
     "execution_count": 542,
     "metadata": {},
     "output_type": "execute_result"
    }
   ],
   "source": [
    "answer"
   ]
  },
  {
   "cell_type": "code",
   "execution_count": 547,
   "metadata": {},
   "outputs": [],
   "source": [
    "n=4\n",
    "col=range(n)"
   ]
  },
  {
   "cell_type": "code",
   "execution_count": 548,
   "metadata": {},
   "outputs": [
    {
     "data": {
      "text/plain": [
       "range(0, 4)"
      ]
     },
     "execution_count": 548,
     "metadata": {},
     "output_type": "execute_result"
    }
   ],
   "source": [
    "col"
   ]
  },
  {
   "cell_type": "code",
   "execution_count": 557,
   "metadata": {},
   "outputs": [],
   "source": [
    "queen=[0]*n\n",
    "count=0\n",
    "row=0\n",
    "\n",
    "\n",
    "def dfs(queen,row,n):\n",
    "    count=0\n",
    "    if row==n:\n",
    "        return 1\n",
    "\n",
    "    for col in range(n):\n",
    "        queen[row]=col\n",
    "\n",
    "        for i in range(row):\n",
    "            if queen[i]==queen[row] or abs(queen[i]-queen[row])==row-i:\n",
    "                break\n",
    "\n",
    "            else:\n",
    "                count+=dfs(queen,row+1,n)\n",
    "    return count\n",
    "    "
   ]
  },
  {
   "cell_type": "code",
   "execution_count": 558,
   "metadata": {},
   "outputs": [
    {
     "data": {
      "text/plain": [
       "0"
      ]
     },
     "execution_count": 558,
     "metadata": {},
     "output_type": "execute_result"
    }
   ],
   "source": [
    "dfs(queen,0,4)"
   ]
  },
  {
   "cell_type": "code",
   "execution_count": null,
   "metadata": {},
   "outputs": [],
   "source": [
    "def dfs(queen,row,n):\n",
    "    cnt=0\n",
    "    if row==n:\n",
    "        return 1\n",
    "    \n",
    "    \n",
    "    for col in range(n):\n",
    "        queen[row]=col\n",
    "        for j in range(row):\n",
    "            if queen[row]==queen[j] or abs(queen[row]-queen[j])==j-row:\n",
    "                break\n",
    "        else:\n",
    "            answer+=dfs(queen,row+1,n)\n",
    "    return count"
   ]
  },
  {
   "cell_type": "code",
   "execution_count": 563,
   "metadata": {},
   "outputs": [],
   "source": [
    "n=5"
   ]
  },
  {
   "cell_type": "code",
   "execution_count": 566,
   "metadata": {},
   "outputs": [],
   "source": [
    "dp=[False,False]+[True]*(n-1)"
   ]
  },
  {
   "cell_type": "code",
   "execution_count": 567,
   "metadata": {},
   "outputs": [],
   "source": [
    "answer=[]\n",
    "for i in range(2,n+1):\n",
    "    if dp[i]:\n",
    "        answer.append(dp[i])\n",
    "        for j in range(2*i,n+1,i):\n",
    "            if dp[j]:\n",
    "                dp[j]=False\n",
    "                "
   ]
  },
  {
   "cell_type": "code",
   "execution_count": 568,
   "metadata": {},
   "outputs": [
    {
     "data": {
      "text/plain": [
       "[True, True, True]"
      ]
     },
     "execution_count": 568,
     "metadata": {},
     "output_type": "execute_result"
    }
   ],
   "source": [
    "answer"
   ]
  },
  {
   "cell_type": "code",
   "execution_count": 569,
   "metadata": {},
   "outputs": [],
   "source": [
    "m,n=4,3"
   ]
  },
  {
   "cell_type": "code",
   "execution_count": 572,
   "metadata": {},
   "outputs": [],
   "source": [
    "arr=[[0 for x in range(m)] for x in range(n)]"
   ]
  },
  {
   "cell_type": "code",
   "execution_count": 573,
   "metadata": {},
   "outputs": [
    {
     "data": {
      "text/plain": [
       "[[0, 0, 0, 0], [0, 0, 0, 0], [0, 0, 0, 0]]"
      ]
     },
     "execution_count": 573,
     "metadata": {},
     "output_type": "execute_result"
    }
   ],
   "source": [
    "arr"
   ]
  },
  {
   "cell_type": "code",
   "execution_count": 574,
   "metadata": {},
   "outputs": [],
   "source": [
    "puddles=[[2,2]]"
   ]
  },
  {
   "cell_type": "code",
   "execution_count": 575,
   "metadata": {},
   "outputs": [],
   "source": [
    "for i in puddles:\n",
    "    arr[i[0]-1][i[1]-1]=None"
   ]
  },
  {
   "cell_type": "code",
   "execution_count": 576,
   "metadata": {},
   "outputs": [
    {
     "data": {
      "text/plain": [
       "[[0, 0, 0, 0], [0, None, 0, 0], [0, 0, 0, 0]]"
      ]
     },
     "execution_count": 576,
     "metadata": {},
     "output_type": "execute_result"
    }
   ],
   "source": [
    "arr"
   ]
  },
  {
   "cell_type": "code",
   "execution_count": 578,
   "metadata": {},
   "outputs": [],
   "source": [
    "arr[0][0]=1\n"
   ]
  },
  {
   "cell_type": "code",
   "execution_count": 579,
   "metadata": {},
   "outputs": [
    {
     "data": {
      "text/plain": [
       "[[1, 0, 0, 0], [0, None, 0, 0], [0, 0, 0, 0]]"
      ]
     },
     "execution_count": 579,
     "metadata": {},
     "output_type": "execute_result"
    }
   ],
   "source": [
    "arr"
   ]
  },
  {
   "cell_type": "code",
   "execution_count": 580,
   "metadata": {},
   "outputs": [],
   "source": [
    "for i in range(n):\n",
    "    for j in range(m):\n",
    "        if arr[i][j] is not None:\n",
    "            arr[i][j]+=0 if arr[i-1][j] is None else arr[i-1][j]\n",
    "            arr[i][j]+=0 if arr[i][j-1] is None else arr[i][j-1]"
   ]
  },
  {
   "cell_type": "code",
   "execution_count": 581,
   "metadata": {},
   "outputs": [
    {
     "data": {
      "text/plain": [
       "[[1, 1, 1, 1], [1, None, 1, 2], [1, 1, 2, 4]]"
      ]
     },
     "execution_count": 581,
     "metadata": {},
     "output_type": "execute_result"
    }
   ],
   "source": [
    "arr"
   ]
  },
  {
   "cell_type": "code",
   "execution_count": 1,
   "metadata": {},
   "outputs": [
    {
     "data": {
      "text/plain": [
       "'z'"
      ]
     },
     "execution_count": 1,
     "metadata": {},
     "output_type": "execute_result"
    }
   ],
   "source": [
    "chr(122)"
   ]
  },
  {
   "cell_type": "code",
   "execution_count": 3,
   "metadata": {},
   "outputs": [],
   "source": [
    "def gcd(a,b):\n",
    "    return b if a%b==0 else gcd(b,a%b)"
   ]
  },
  {
   "cell_type": "code",
   "execution_count": 4,
   "metadata": {},
   "outputs": [],
   "source": [
    "keypad = [[1,2,3],[4,5,6],[7,8,9],['*',0,\"#\"]]\n",
    "m, n = 4, 3\n"
   ]
  },
  {
   "cell_type": "code",
   "execution_count": 5,
   "metadata": {},
   "outputs": [],
   "source": [
    "numbers,hand=[1, 3, 4, 5, 8, 2, 1, 4, 5, 9, 5],\"right\""
   ]
  },
  {
   "cell_type": "code",
   "execution_count": 6,
   "metadata": {},
   "outputs": [],
   "source": [
    "def get_loc(num):\n",
    "    for i in range(len(keypad)):\n",
    "        if num in keypad[i]:\n",
    "            return [i,keypad[i].index(num)]"
   ]
  },
  {
   "cell_type": "code",
   "execution_count": 7,
   "metadata": {},
   "outputs": [],
   "source": [
    "def get_distance(a,b,number):\n",
    "    x,y=get_loc(number)\n",
    "    return abs(a-x)+abs(b-y)"
   ]
  },
  {
   "cell_type": "code",
   "execution_count": 9,
   "metadata": {},
   "outputs": [],
   "source": [
    "answer=''\n",
    "only_left=[1,4,7]\n",
    "only_right=[3,6,9]\n",
    "hands={\"right\":[3,2],\"left\":[3,0]}\n",
    "\n",
    "for i in range(len(numbers)):\n",
    "    number=numbers[i]\n",
    "    if i==0 and number not in only_left and number not in only_right:\n",
    "        if hand==\"right\":\n",
    "            answer+=\"R\"\n",
    "        else:\n",
    "            answer+=\"L\"\n",
    "        \n",
    "        hands[hand]=get_loc(number)\n",
    "        \n",
    "    if number in only_left:\n",
    "        answer+=\"L\"\n",
    "        hands['left']=get_loc(number)\n",
    "    \n",
    "    elif number in only_right:\n",
    "        answer+=\"R\"\n",
    "        hands[\"right\"]=get_loc(number)\n",
    "        \n",
    "    else:\n",
    "        r_x,r_y=hands[\"right\"]\n",
    "        dist_r=get_distance(r_x,r_y,number)\n",
    "        l_x,l_y=hands[\"left\"]\n",
    "        dist_l=get_distance(l_x,l_y,number)\n",
    "        \n",
    "        if dist_r<dist_l:\n",
    "            answer+=\"R\"\n",
    "            hands[\"right\"]=get_loc(number)\n",
    "        elif dist_r>dist_l:\n",
    "            answer+=\"L\"\n",
    "            hands[\"left\"]=get_loc(number)\n",
    "            \n",
    "        else:\n",
    "            if hand==\"right\":\n",
    "                answer+=\"R\"\n",
    "            else:\n",
    "                answer+=\"L\"\n",
    "            \n",
    "            hands[hand]=get_loc(number)"
   ]
  },
  {
   "cell_type": "code",
   "execution_count": 10,
   "metadata": {},
   "outputs": [
    {
     "data": {
      "text/plain": [
       "'LRLLLRLLRRL'"
      ]
     },
     "execution_count": 10,
     "metadata": {},
     "output_type": "execute_result"
    }
   ],
   "source": [
    "answer"
   ]
  },
  {
   "cell_type": "code",
   "execution_count": 26,
   "metadata": {},
   "outputs": [],
   "source": [
    "expression=\"100-200*300-500+20\""
   ]
  },
  {
   "cell_type": "code",
   "execution_count": 29,
   "metadata": {},
   "outputs": [],
   "source": [
    "def calc(p,n,exp):\n",
    "    if n==2:\n",
    "        return str(eval(exp))\n",
    "    \n",
    "    if p[n]==\"*\":\n",
    "        res=eval('*'.join([calc(p,n+1,ex) for ex in exp.split(\"*\")]))\n",
    "    if p[n]==\"+\":\n",
    "        res=eval('+'.join([calc(p,n+1,ex) for ex in exp.split(\"+\")]))\n",
    "    if p[n]==\"-\":\n",
    "        res=eval('-'.join([calc(p,n+1,ex) for ex in exp.split(\"-\")]))\n",
    "    \n",
    "    return str(res)\n",
    "\n",
    "\n",
    "def solution(expression):\n",
    "    priority=[('*', '+', '-'),\n",
    "             ('*', '-', '+'),\n",
    "             ('+', '*', '-'),\n",
    "             ('+', '-', '*'),\n",
    "             ('-', '*', '+'),\n",
    "             ('-', '+', '*')]\n",
    "    answer=0\n",
    "    for p in priority:\n",
    "        res=int(calc(p,0,expression))\n",
    "        answer=max(answer,abs(res))\n",
    "            \n",
    "    return answer\n",
    "\n",
    "\n"
   ]
  },
  {
   "cell_type": "code",
   "execution_count": 30,
   "metadata": {},
   "outputs": [
    {
     "data": {
      "text/plain": [
       "60420"
      ]
     },
     "execution_count": 30,
     "metadata": {},
     "output_type": "execute_result"
    }
   ],
   "source": [
    "solution(expression)"
   ]
  },
  {
   "cell_type": "code",
   "execution_count": 85,
   "metadata": {},
   "outputs": [
    {
     "ename": "IndexError",
     "evalue": "list index out of range",
     "output_type": "error",
     "traceback": [
      "\u001b[1;31m---------------------------------------------------------------------------\u001b[0m",
      "\u001b[1;31mIndexError\u001b[0m                                Traceback (most recent call last)",
      "\u001b[1;32m<ipython-input-85-381e00d1fa10>\u001b[0m in \u001b[0;36m<module>\u001b[1;34m\u001b[0m\n\u001b[0;32m     23\u001b[0m     \u001b[0mu\u001b[0m\u001b[1;33m,\u001b[0m\u001b[0mv\u001b[0m\u001b[1;33m,\u001b[0m\u001b[0mc\u001b[0m\u001b[1;33m=\u001b[0m\u001b[0mcosts\u001b[0m\u001b[1;33m.\u001b[0m\u001b[0mpop\u001b[0m\u001b[1;33m(\u001b[0m\u001b[1;36m0\u001b[0m\u001b[1;33m)\u001b[0m\u001b[1;33m\u001b[0m\u001b[1;33m\u001b[0m\u001b[0m\n\u001b[0;32m     24\u001b[0m \u001b[1;33m\u001b[0m\u001b[0m\n\u001b[1;32m---> 25\u001b[1;33m     \u001b[1;32mif\u001b[0m \u001b[0mfind\u001b[0m\u001b[1;33m(\u001b[0m\u001b[0mu\u001b[0m\u001b[1;33m)\u001b[0m\u001b[1;33m!=\u001b[0m\u001b[0mfind\u001b[0m\u001b[1;33m(\u001b[0m\u001b[0mv\u001b[0m\u001b[1;33m)\u001b[0m\u001b[1;33m:\u001b[0m\u001b[1;33m\u001b[0m\u001b[1;33m\u001b[0m\u001b[0m\n\u001b[0m\u001b[0;32m     26\u001b[0m         \u001b[0munion_func\u001b[0m\u001b[1;33m(\u001b[0m\u001b[0mu\u001b[0m\u001b[1;33m,\u001b[0m\u001b[0mv\u001b[0m\u001b[1;33m)\u001b[0m\u001b[1;33m\u001b[0m\u001b[1;33m\u001b[0m\u001b[0m\n\u001b[0;32m     27\u001b[0m         \u001b[0mtree_node\u001b[0m\u001b[1;33m+=\u001b[0m\u001b[1;36m1\u001b[0m\u001b[1;33m\u001b[0m\u001b[1;33m\u001b[0m\u001b[0m\n",
      "\u001b[1;32m<ipython-input-85-381e00d1fa10>\u001b[0m in \u001b[0;36mfind\u001b[1;34m(u)\u001b[0m\n\u001b[0;32m      4\u001b[0m \u001b[1;33m\u001b[0m\u001b[0m\n\u001b[0;32m      5\u001b[0m \u001b[1;32mdef\u001b[0m \u001b[0mfind\u001b[0m\u001b[1;33m(\u001b[0m\u001b[0mu\u001b[0m\u001b[1;33m)\u001b[0m\u001b[1;33m:\u001b[0m\u001b[1;33m\u001b[0m\u001b[1;33m\u001b[0m\u001b[0m\n\u001b[1;32m----> 6\u001b[1;33m     \u001b[1;32mif\u001b[0m \u001b[0mu\u001b[0m\u001b[1;33m!=\u001b[0m\u001b[0mp\u001b[0m\u001b[1;33m[\u001b[0m\u001b[0mu\u001b[0m\u001b[1;33m]\u001b[0m\u001b[1;33m:\u001b[0m\u001b[1;33m\u001b[0m\u001b[1;33m\u001b[0m\u001b[0m\n\u001b[0m\u001b[0;32m      7\u001b[0m         \u001b[0mu\u001b[0m\u001b[1;33m=\u001b[0m\u001b[0mfind\u001b[0m\u001b[1;33m(\u001b[0m\u001b[0mp\u001b[0m\u001b[1;33m[\u001b[0m\u001b[0mu\u001b[0m\u001b[1;33m]\u001b[0m\u001b[1;33m)\u001b[0m\u001b[1;33m\u001b[0m\u001b[1;33m\u001b[0m\u001b[0m\n\u001b[0;32m      8\u001b[0m     \u001b[1;32mreturn\u001b[0m \u001b[0mp\u001b[0m\u001b[1;33m[\u001b[0m\u001b[0mu\u001b[0m\u001b[1;33m]\u001b[0m\u001b[1;33m\u001b[0m\u001b[1;33m\u001b[0m\u001b[0m\n",
      "\u001b[1;31mIndexError\u001b[0m: list index out of range"
     ]
    }
   ],
   "source": [
    "p=[x for x in range(n+1)]\n",
    "\n",
    "p\n",
    "\n",
    "def find(u):\n",
    "    if u!=p[u]:\n",
    "        u=find(p[u])\n",
    "    return p[u]\n",
    "\n",
    "\n",
    "def union_func(a,b):\n",
    "    x=find(a)\n",
    "    y=find(b)\n",
    "    p[x]=y\n",
    "\n",
    "costs=[(1,2,13),(1,3,5),(2,4,9),(3,4,15),(3,5,3),(4,5,1),(4,6,7),(5,6,2)]\n",
    "costs=sorted(costs,key=lambda x:x[2])\n",
    "tree_node=0\n",
    "while True:\n",
    "    if tree_node==6:\n",
    "        break\n",
    "    \n",
    "    u,v,c=costs.pop(0)\n",
    "    \n",
    "    if find(u)!=find(v):\n",
    "        union_func(u,v)\n",
    "        tree_node+=1\n",
    "        answer+=c"
   ]
  },
  {
   "cell_type": "code",
   "execution_count": 67,
   "metadata": {},
   "outputs": [
    {
     "data": {
      "text/plain": [
       "20"
      ]
     },
     "execution_count": 67,
     "metadata": {},
     "output_type": "execute_result"
    }
   ],
   "source": [
    "costs=[(1,2,13),(1,3,5),(2,4,9),(3,4,15),(3,5,3),(4,5,1),(4,6,7),(5,6,2)]\n",
    "\n",
    "costs=sorted(costs,key=lambda x : x[2])\n",
    "\n",
    "costs\n",
    "\n",
    "route={1}\n",
    "answer=0\n",
    "\n",
    "while len(route)!=6:\n",
    "    for cost in costs:\n",
    "        a,b,c=cost\n",
    "        if a in route or b in route:\n",
    "            if a in route and b in route:\n",
    "                continue\n",
    "            \n",
    "            else:\n",
    "                route.add(a)\n",
    "                route.add(b)\n",
    "                answer+=c\n",
    "                break\n",
    "                \n",
    "\n",
    "answer"
   ]
  },
  {
   "cell_type": "code",
   "execution_count": 147,
   "metadata": {},
   "outputs": [],
   "source": [
    "a,b=[[1, 4], [3, 2], [4, 1]],[[3, 3], [3, 3]]"
   ]
  },
  {
   "cell_type": "code",
   "execution_count": 148,
   "metadata": {},
   "outputs": [],
   "source": [
    "answer=[[0 for i in range(len(b[0]))] for i in range(len(a))]"
   ]
  },
  {
   "cell_type": "code",
   "execution_count": 149,
   "metadata": {},
   "outputs": [
    {
     "data": {
      "text/plain": [
       "[[0, 0], [0, 0], [0, 0]]"
      ]
     },
     "execution_count": 149,
     "metadata": {},
     "output_type": "execute_result"
    }
   ],
   "source": [
    "answer"
   ]
  },
  {
   "cell_type": "code",
   "execution_count": 150,
   "metadata": {},
   "outputs": [],
   "source": [
    "for i in range(len(a)):\n",
    "    for j in range(len(b[0])):\n",
    "        for k in range(len(a[0])):\n",
    "            answer[i][j]+=a[i][k]*b[k][j]"
   ]
  },
  {
   "cell_type": "code",
   "execution_count": 151,
   "metadata": {},
   "outputs": [
    {
     "data": {
      "text/plain": [
       "[[15, 15], [15, 15], [15, 15]]"
      ]
     },
     "execution_count": 151,
     "metadata": {},
     "output_type": "execute_result"
    }
   ],
   "source": [
    "answer"
   ]
  },
  {
   "cell_type": "code",
   "execution_count": 152,
   "metadata": {},
   "outputs": [
    {
     "data": {
      "text/plain": [
       "['****', '****', '****']"
      ]
     },
     "execution_count": 152,
     "metadata": {},
     "output_type": "execute_result"
    }
   ],
   "source": [
    "[\"*\"*m for i in range(n)]"
   ]
  },
  {
   "cell_type": "code",
   "execution_count": 154,
   "metadata": {},
   "outputs": [
    {
     "name": "stdout",
     "output_type": "stream",
     "text": [
      "****\n",
      "****\n",
      "****\n"
     ]
    }
   ],
   "source": [
    "aa=[\"*\"*m for i in range(n)]\n",
    "for i in aa:\n",
    "    print(i)"
   ]
  },
  {
   "cell_type": "code",
   "execution_count": 156,
   "metadata": {},
   "outputs": [
    {
     "name": "stdout",
     "output_type": "stream",
     "text": [
      "5 3\n",
      "*****\n",
      "*****\n",
      "*****\n",
      "\n"
     ]
    }
   ],
   "source": [
    "a, b = map(int, input().strip().split(' '))\n",
    "answer = ('*'*a +'\\n')*b\n",
    "print(answer)"
   ]
  },
  {
   "cell_type": "code",
   "execution_count": 210,
   "metadata": {},
   "outputs": [],
   "source": [
    "numbers=[1,2,7,6,4]"
   ]
  },
  {
   "cell_type": "code",
   "execution_count": 211,
   "metadata": {},
   "outputs": [],
   "source": [
    "from itertools import combinations"
   ]
  },
  {
   "cell_type": "code",
   "execution_count": 212,
   "metadata": {},
   "outputs": [],
   "source": [
    "n=list(map(sum,combinations(numbers,3)))\n",
    "answer=0"
   ]
  },
  {
   "cell_type": "code",
   "execution_count": 213,
   "metadata": {},
   "outputs": [],
   "source": [
    "for nn in n:\n",
    "    for i in range(2,nn-1):\n",
    "        if nn%i==0:\n",
    "            break\n",
    "    else:\n",
    "        answer+=1"
   ]
  },
  {
   "cell_type": "code",
   "execution_count": 214,
   "metadata": {},
   "outputs": [
    {
     "data": {
      "text/plain": [
       "4"
      ]
     },
     "execution_count": 214,
     "metadata": {},
     "output_type": "execute_result"
    }
   ],
   "source": [
    "answer"
   ]
  },
  {
   "cell_type": "code",
   "execution_count": 216,
   "metadata": {},
   "outputs": [],
   "source": [
    "N,road,K=5,[[1,2,1],[2,3,3],[5,2,2],[1,4,2],[5,3,1],[5,4,2]],3"
   ]
  },
  {
   "cell_type": "code",
   "execution_count": null,
   "metadata": {},
   "outputs": [],
   "source": [
    "import heapq\n",
    "\n",
    "def dijkstra(n,graph,k):\n",
    "    q=[]\n",
    "    heapq.heappush(q,(0,1))\n",
    "    distance=[100001]*(n+1)\n",
    "    distance[1]=0\n",
    "    \n",
    "    while q:\n",
    "        dist, now = heapq.heappop(q)\n",
    "        \n",
    "        if distance[now]<dist:\n",
    "            continue\n",
    "            \n",
    "        for i in graph[now]:\n",
    "            cost=dist+i[1]\n",
    "            \n",
    "            if cost<distance[i[0]]:\n",
    "                distance[i[0]]=cost\n",
    "                heapq.heappush(q,(cost,i[0]))\n",
    "    "
   ]
  },
  {
   "cell_type": "code",
   "execution_count": 219,
   "metadata": {},
   "outputs": [],
   "source": [
    "from collections import defaultdict\n",
    "\n",
    "\n",
    "graph = defaultdict(list) \n",
    "for u, v, w in road: \n",
    "    graph[u].append((v, w)) \n",
    "    graph[v].append((u, w))\n",
    "\n",
    "q=[(0,1)]\n",
    "dist = defaultdict(int)\n",
    "while q:\n",
    "    cost, now =heapq.heappop(q)\n",
    "    \n",
    "    if now not in dist:\n",
    "        dist[now]=cost\n",
    "        for v,w in graph[now]:\n",
    "            s_dist=cost+w\n",
    "            \n",
    "            heaq.heappush(q,(s_dist,v))\n"
   ]
  },
  {
   "cell_type": "code",
   "execution_count": 221,
   "metadata": {},
   "outputs": [
    {
     "data": {
      "text/plain": [
       "defaultdict(list,\n",
       "            {1: [(2, 1), (4, 2)],\n",
       "             2: [(1, 1), (3, 3), (5, 2)],\n",
       "             3: [(2, 3), (5, 1)],\n",
       "             5: [(2, 2), (3, 1), (4, 2)],\n",
       "             4: [(1, 2), (5, 2)]})"
      ]
     },
     "execution_count": 221,
     "metadata": {},
     "output_type": "execute_result"
    }
   ],
   "source": [
    "graph"
   ]
  },
  {
   "cell_type": "code",
   "execution_count": 223,
   "metadata": {},
   "outputs": [],
   "source": [
    "N,road,K=5,[[1,2,1],[2,3,3],[5,2,2],[1,4,2],[5,3,1],[5,4,2]],3"
   ]
  },
  {
   "cell_type": "code",
   "execution_count": 228,
   "metadata": {},
   "outputs": [],
   "source": [
    "import heapq\n",
    "from collections import defaultdict\n",
    "def solution(N,road,K):\n",
    "    graph=defaultdict(list)\n",
    "    answer=0\n",
    "    \n",
    "    for u,v,w in road:\n",
    "        graph[u].append((v,w))\n",
    "        graph[v].append((u,w))\n",
    "        \n",
    "    q=[(0,1)]\n",
    "    dist=defaultdict(int)\n",
    "    while q:\n",
    "        d,node = heapq.heappop(q)\n",
    "        if node not in dist:\n",
    "            dist[node]=d\n",
    "            for v,w in graph[node]:\n",
    "                next_dist=d+w\n",
    "                heapq.heappush(q,(next_dist,v))\n",
    "    \n",
    "    for key in dist:\n",
    "        if dist[key]<=K:\n",
    "            answer+=1\n",
    "    \n",
    "    return answer\n",
    "                "
   ]
  },
  {
   "cell_type": "code",
   "execution_count": 226,
   "metadata": {},
   "outputs": [
    {
     "data": {
      "text/plain": [
       "[1, 2, 1, 4, 2, 3]"
      ]
     },
     "execution_count": 226,
     "metadata": {},
     "output_type": "execute_result"
    }
   ],
   "source": [
    "dist"
   ]
  },
  {
   "cell_type": "code",
   "execution_count": null,
   "metadata": {},
   "outputs": [],
   "source": [
    "def get_small(n,distance,visited):\n",
    "    index=0\n",
    "    min_value=100001\n",
    "    for i in range(1,n):\n",
    "        if distance[i]<min_value and not visited[i]:\n",
    "            min_value=distance[i]\n",
    "            index=i\n",
    "    return index\n",
    "    \n",
    "def solution(n,graph,start):\n",
    "    distance=[1000001]*(n+1)\n",
    "    visited=[False]*(n+1)\n",
    "    \n",
    "    distance[start]=0\n",
    "    visited[start]=True\n",
    "    \n",
    "    for i in graph[start]:\n",
    "        distance[i[0]]=i[1]\n",
    "        \n",
    "    for j in range(n-1):\n",
    "        now = get small(n,distance,visited)\n",
    "        visited[now]=True\n",
    "        \n",
    "        for j in graph[now]:\n",
    "            cost=distance[now]+j[1]\n",
    "            \n",
    "            if distance[j[0]]>cost:\n",
    "                distance[j[0]]=cost"
   ]
  },
  {
   "cell_type": "code",
   "execution_count": 236,
   "metadata": {},
   "outputs": [],
   "source": [
    "n,words=3,[\"tank\", \"kick\", \"know\", \"wheel\", \"land\", \"dream\", \"mother\", \"robot\", \"tank\"]\n",
    "\n",
    "answer=[0,0]\n",
    "for i in range(len(words)-1):\n",
    "    if (words[i][-1]!=words[i+1][0]) or words[i] in words[:i]:\n",
    "        answer[0]=i%n\n",
    "        answer[1]=i//n\n",
    "        break\n",
    "        "
   ]
  },
  {
   "cell_type": "code",
   "execution_count": 238,
   "metadata": {},
   "outputs": [
    {
     "data": {
      "text/plain": [
       "[0, 0]"
      ]
     },
     "execution_count": 238,
     "metadata": {},
     "output_type": "execute_result"
    }
   ],
   "source": [
    "answer"
   ]
  },
  {
   "cell_type": "code",
   "execution_count": 243,
   "metadata": {},
   "outputs": [],
   "source": [
    "str1,str2=\"FRANCE\",\"french\""
   ]
  },
  {
   "cell_type": "code",
   "execution_count": 244,
   "metadata": {},
   "outputs": [],
   "source": [
    "import re"
   ]
  },
  {
   "cell_type": "code",
   "execution_count": 245,
   "metadata": {},
   "outputs": [],
   "source": [
    "str1=[str1[i:i+2].lower() for i in range(0,len(str1)-1) if not re.findall(\"[^a-zA-Z]+\",str1[i:i+2])]\n",
    "str2=[str2[i:i+2].lower() for i in range(0,len(str2)-1) if not re.findall(\"[^a-zA-Z]+\",str2[i:i+2])]\n",
    "\n",
    "\n",
    "\n",
    "gyo=set(str1)&set(str2)\n",
    "hap=set(str1)|set(str2)\n",
    "\n",
    "# if len(hap)==0:\n",
    "#     return 65536\n",
    "\n",
    "# gyo_sum=sum([min(str1.count(i),str2.count(i)) for i in gyo])\n",
    "# hap_sum=sum([max(str1.count(i),str2.count(i)) for i in hap])"
   ]
  },
  {
   "cell_type": "code",
   "execution_count": 246,
   "metadata": {},
   "outputs": [
    {
     "data": {
      "text/plain": [
       "{'fr', 'nc'}"
      ]
     },
     "execution_count": 246,
     "metadata": {},
     "output_type": "execute_result"
    }
   ],
   "source": [
    "gyo"
   ]
  },
  {
   "cell_type": "code",
   "execution_count": 247,
   "metadata": {},
   "outputs": [
    {
     "data": {
      "text/plain": [
       "{'an', 'ce', 'ch', 'en', 'fr', 'nc', 'ra', 're'}"
      ]
     },
     "execution_count": 247,
     "metadata": {},
     "output_type": "execute_result"
    }
   ],
   "source": [
    "hap"
   ]
  },
  {
   "cell_type": "code",
   "execution_count": 248,
   "metadata": {},
   "outputs": [
    {
     "data": {
      "text/plain": [
       "['TTTANT', 'RRFACC', 'RRRFCC', 'TRRRAA', 'TTMMMF', 'TMMTTJ']"
      ]
     },
     "execution_count": 248,
     "metadata": {},
     "output_type": "execute_result"
    }
   ],
   "source": [
    "[\"TTTANT\", \"RRFACC\", \"RRRFCC\", \"TRRRAA\", \"TTMMMF\", \"TMMTTJ\"]"
   ]
  },
  {
   "cell_type": "code",
   "execution_count": null,
   "metadata": {},
   "outputs": [],
   "source": [
    "m,n,boards=6,6,[\"TTTANT\", \"RRFACC\", \"RRRFCC\", \"TRRRAA\", \"TTMMMF\", \"TMMTTJ\"]\n",
    "def finder(m,n,boards,visited):\n",
    "    for i in range(1,m):\n",
    "        for j in range(1,n):\n",
    "            if boards[i][j]!=\" \" and boards[i][j]==boards[i-1][j] and boards[i][j]==boards[i-1][j-1] and boards[i][j-1]:\n",
    "                visited[i][j]=True\n",
    "                visited[i-1][j]=True\n",
    "                visited[i-1][j-1]=True\n",
    "                visited[i][j-1]=True\n",
    "\n",
    "def delete_block(m,n,boards,visited):\n",
    "    cnt=0\n",
    "    for i in range(m):\n",
    "        for j in range(n):\n",
    "            if visited[i][j]:\n",
    "                cnt+=1\n",
    "                boards[i]=boards[i][:j]+\" \"+boards[i][j+1:]\n",
    "                \n",
    "    rotation_boards=[]\n",
    "    for i in range(n):\n",
    "        tmp=''\n",
    "        for j in range(m):\n",
    "            tmp+=boards[j][i]\n",
    "        rotation_boards.append(tmp)\n",
    "    \n",
    "    for i in range(n):\n",
    "        for j in range(m):\n",
    "            if rotation_boards[i][j]==\" \":\n",
    "                rotation_boards[i]=\" \"+rotation_boards[i][:j]+rotation_boards[i][j+1:]\n",
    "    \n",
    "    tmp_boards=[]\n",
    "    for i in range(m):\n",
    "        tmp=''\n",
    "        for j in range(n):\n",
    "            tmp+=rotation_boards[j][i]\n",
    "        tmp_boards.append(tmp)\n",
    "    \n",
    "    return tmp_boards,cnt\n",
    "def solution(m,n,boards):\n",
    "    answer=0\n",
    "    result=1\n",
    "    while result:\n",
    "        visited=[[False]*n for i in range(m)]\n",
    "        finder(m,n,boards,visited)\n",
    "        boards,result=delete_block(m,n,boards,visited)\n",
    "        answer+=result\n",
    "    \n",
    "    return answer\n",
    "\n"
   ]
  },
  {
   "cell_type": "code",
   "execution_count": 1,
   "metadata": {},
   "outputs": [],
   "source": [
    "cacheSize,cities=3,[\"Jeju\", \"Pangyo\", \"Seoul\", \"NewYork\", \"LA\", \"Jeju\", \"Pangyo\", \"Seoul\", \"NewYork\", \"LA\"]"
   ]
  },
  {
   "cell_type": "code",
   "execution_count": 2,
   "metadata": {},
   "outputs": [],
   "source": [
    "from collections import deque"
   ]
  },
  {
   "cell_type": "code",
   "execution_count": 4,
   "metadata": {},
   "outputs": [],
   "source": [
    "cache=deque(maxlen=cacheSize)"
   ]
  },
  {
   "cell_type": "code",
   "execution_count": 5,
   "metadata": {},
   "outputs": [],
   "source": [
    "answer=0\n",
    "for i in cities:\n",
    "    i=i.lower()\n",
    "    if i not in cache:\n",
    "        cache.append(i)\n",
    "        answer+=5\n",
    "    else:\n",
    "        cache.remove(i)\n",
    "        cache.append(i)\n",
    "        answer+=1"
   ]
  },
  {
   "cell_type": "code",
   "execution_count": 6,
   "metadata": {},
   "outputs": [
    {
     "data": {
      "text/plain": [
       "50"
      ]
     },
     "execution_count": 6,
     "metadata": {},
     "output_type": "execute_result"
    }
   ],
   "source": [
    "answer"
   ]
  },
  {
   "cell_type": "code",
   "execution_count": 32,
   "metadata": {},
   "outputs": [],
   "source": [
    "arr1=[9, 20, 28, 18, 11]\n",
    "arr2=[30, 1, 21, 17, 28]\n",
    "n=5"
   ]
  },
  {
   "cell_type": "code",
   "execution_count": 33,
   "metadata": {},
   "outputs": [
    {
     "name": "stdout",
     "output_type": "stream",
     "text": [
      "11111\n",
      "#####\n",
      "10101\n",
      "# # #\n",
      "11101\n",
      "### #\n",
      "10011\n",
      "#  ##\n",
      "11111\n",
      "#####\n"
     ]
    }
   ],
   "source": [
    "answer=[]\n",
    "for a,b in zip(arr1,arr2):\n",
    "    tmp=bin(a|b)[2:]\n",
    "    print(tmp)\n",
    "    tmp=tmp.rjust(n,\"0\")\n",
    "    tmp=tmp.replace(\"0\",\" \")\n",
    "    tmp=tmp.replace(\"1\",\"#\")\n",
    "    answer.append(tmp)\n",
    "    print(tmp)"
   ]
  },
  {
   "cell_type": "code",
   "execution_count": 31,
   "metadata": {},
   "outputs": [
    {
     "data": {
      "text/plain": [
       "['######', '###  #', '##  ##', ' #### ', ' #####', '### # ']"
      ]
     },
     "execution_count": 31,
     "metadata": {},
     "output_type": "execute_result"
    }
   ],
   "source": [
    "answer"
   ]
  },
  {
   "cell_type": "code",
   "execution_count": 36,
   "metadata": {},
   "outputs": [],
   "source": [
    "N,stages=5,[2, 1, 2, 6, 2, 4, 3, 3]"
   ]
  },
  {
   "cell_type": "code",
   "execution_count": 37,
   "metadata": {},
   "outputs": [],
   "source": [
    "answer={}\n",
    "person=len(stages)\n",
    "for stge in range(1,N+1):\n",
    "    if person!=0:\n",
    "        aa=stages.count(stge)\n",
    "        answer[stge]=aa/person\n",
    "        person-=aa\n",
    "    else:\n",
    "        answer[stge]=0\n",
    "        "
   ]
  },
  {
   "cell_type": "code",
   "execution_count": 38,
   "metadata": {},
   "outputs": [
    {
     "data": {
      "text/plain": [
       "{1: 0.125, 2: 0.42857142857142855, 3: 0.5, 4: 0.5, 5: 0.0}"
      ]
     },
     "execution_count": 38,
     "metadata": {},
     "output_type": "execute_result"
    }
   ],
   "source": [
    "answer"
   ]
  },
  {
   "cell_type": "code",
   "execution_count": 62,
   "metadata": {},
   "outputs": [],
   "source": [
    "relation=[[\"100\",\"ryan\",\"music\",\"2\"],[\"200\",\"apeach\",\"math\",\"2\"],[\"300\",\"tube\",\"computer\",\"3\"],[\"400\",\"con\",\"computer\",\"4\"],[\"500\",\"muzi\",\"music\",\"3\"],[\"600\",\"apeach\",\"music\",\"2\"]]"
   ]
  },
  {
   "cell_type": "code",
   "execution_count": 67,
   "metadata": {},
   "outputs": [],
   "source": [
    "from itertools import combinations\n",
    "\n",
    "n_row=len(relation)\n",
    "n_col=len(relation[0])\n",
    "candidates=[]\n",
    "for i in range(1,n_col+1):\n",
    "    candidates.extend(combinations(range(n_col),i))\n",
    "final=[]\n",
    "\n",
    "for key in candidates:\n",
    "    tmp=[tuple([item[k] for k in key]) for item in relation]\n",
    "    if len(tmp)==n_row:\n",
    "        final.append(key)\n",
    "\n",
    "answer=set(final)        \n",
    "for i in range(len(final)):\n",
    "    for j in range(i,len(final)):\n",
    "        if len(final[i])==len(set(final[i]).intersection(set(final[j]))):\n",
    "            answer.discard(final[j])\n",
    "            \n",
    "    for i in range(len(final)):\n",
    "        for j in range(i+1,len(final)):\n",
    "             if len(final[i])==len(set(final[i]).intersection(set(final[j]))):\n",
    "                    answer.discard(final[j])"
   ]
  },
  {
   "cell_type": "code",
   "execution_count": 68,
   "metadata": {},
   "outputs": [
    {
     "data": {
      "text/plain": [
       "set()"
      ]
     },
     "execution_count": 68,
     "metadata": {},
     "output_type": "execute_result"
    }
   ],
   "source": [
    "answer"
   ]
  },
  {
   "cell_type": "code",
   "execution_count": 52,
   "metadata": {},
   "outputs": [
    {
     "name": "stdout",
     "output_type": "stream",
     "text": [
      "[(0,), (0, 1), (0, 2), (0, 3), (1, 2), (0, 1, 2), (0, 1, 3), (0, 2, 3), (1, 2, 3), (0, 1, 2, 3)]\n"
     ]
    },
    {
     "data": {
      "text/plain": [
       "2"
      ]
     },
     "execution_count": 52,
     "metadata": {},
     "output_type": "execute_result"
    }
   ],
   "source": [
    "solution(relation)"
   ]
  },
  {
   "cell_type": "code",
   "execution_count": 84,
   "metadata": {},
   "outputs": [],
   "source": [
    "dartresult=\"1S*2T*3S\""
   ]
  },
  {
   "cell_type": "code",
   "execution_count": 85,
   "metadata": {},
   "outputs": [],
   "source": [
    "import re"
   ]
  },
  {
   "cell_type": "code",
   "execution_count": 86,
   "metadata": {},
   "outputs": [],
   "source": [
    "bonus={\"S\":1,\"D\":2,\"T\":3}\n",
    "option={\"#\":-1,\"*\":2,'':1}"
   ]
  },
  {
   "cell_type": "code",
   "execution_count": 87,
   "metadata": {},
   "outputs": [],
   "source": [
    "dart=re.findall(\"(\\d)([SDT])([#*]?)\",dartresult)"
   ]
  },
  {
   "cell_type": "code",
   "execution_count": 88,
   "metadata": {},
   "outputs": [
    {
     "data": {
      "text/plain": [
       "[('1', 'S', '*'), ('2', 'T', '*'), ('3', 'S', '')]"
      ]
     },
     "execution_count": 88,
     "metadata": {},
     "output_type": "execute_result"
    }
   ],
   "source": [
    "dart"
   ]
  },
  {
   "cell_type": "code",
   "execution_count": 89,
   "metadata": {},
   "outputs": [],
   "source": [
    "answer=0\n",
    "for i in range(len(dart)):\n",
    "    if dart[i][2]==\"*\" and i>0:\n",
    "        dart[i-1]*=2\n",
    "    dart[i] = int(dart[i][0]) ** bonus[dart[i][1]] * option[dart[i][2]]    "
   ]
  },
  {
   "cell_type": "code",
   "execution_count": 90,
   "metadata": {},
   "outputs": [
    {
     "data": {
      "text/plain": [
       "[4, 16, 3]"
      ]
     },
     "execution_count": 90,
     "metadata": {},
     "output_type": "execute_result"
    }
   ],
   "source": [
    "dart"
   ]
  },
  {
   "cell_type": "code",
   "execution_count": 91,
   "metadata": {},
   "outputs": [],
   "source": [
    "def change(s):\n",
    "    s = s.replace('A#','a')\n",
    "    s = s.replace('F#','f')\n",
    "    s = s.replace('C#','c')\n",
    "    s = s.replace('D#','d')\n",
    "    s = s.replace('G#','g')\n",
    "    return s"
   ]
  },
  {
   "cell_type": "code",
   "execution_count": 94,
   "metadata": {},
   "outputs": [],
   "source": [
    "def calc_time(musicinfo):\n",
    "    start=musicinfo[0].split(\":\")\n",
    "    end=musicinfo[1].split(\":\")\n",
    "    return (int(end[0])-int(start[0]))*60+int(end[1])-int(start[1])"
   ]
  },
  {
   "cell_type": "code",
   "execution_count": 100,
   "metadata": {},
   "outputs": [],
   "source": [
    "m,musicinfos=\"CC#BCC#BCC#BCC#B\",[\"03:00,03:30,FOO,CC#B\", \"04:00,04:08,BAR,CC#BCC#BCC#B\"]"
   ]
  },
  {
   "cell_type": "code",
   "execution_count": 101,
   "metadata": {},
   "outputs": [],
   "source": [
    "m=change(m)"
   ]
  },
  {
   "cell_type": "code",
   "execution_count": 102,
   "metadata": {},
   "outputs": [
    {
     "data": {
      "text/plain": [
       "'CcBCcBCcBCcB'"
      ]
     },
     "execution_count": 102,
     "metadata": {},
     "output_type": "execute_result"
    }
   ],
   "source": [
    "m"
   ]
  },
  {
   "cell_type": "code",
   "execution_count": 115,
   "metadata": {},
   "outputs": [
    {
     "name": "stdout",
     "output_type": "stream",
     "text": [
      "FOO\n"
     ]
    }
   ],
   "source": [
    "answer=[]\n",
    "for idx, musicinfo in enumerate(musicinfos):\n",
    "    musicinfo=change(musicinfo).split(\",\")\n",
    "    time=calc_time(musicinfo)\n",
    "    cnt,rem=divmod(time,len(musicinfo[3]))\n",
    "    \n",
    "    music=cnt*musicinfo[3]+musicinfo[3][:rem]\n",
    "    \n",
    "    if m in music:\n",
    "        answer.append((idx,time,musicinfo[2]))\n",
    "        \n",
    "\n",
    "if len(answer)!=0:\n",
    "    answer=sorted(answer, key=lambda x : (-x[1],x[0]))\n",
    "    print(answer[0][2])"
   ]
  },
  {
   "cell_type": "code",
   "execution_count": 113,
   "metadata": {},
   "outputs": [
    {
     "data": {
      "text/plain": [
       "[(0, 30, 'FOO')]"
      ]
     },
     "execution_count": 113,
     "metadata": {},
     "output_type": "execute_result"
    }
   ],
   "source": [
    "aa"
   ]
  },
  {
   "cell_type": "code",
   "execution_count": null,
   "metadata": {},
   "outputs": [],
   "source": [
    "graph=[[3, 6], [4, 3], [3, 2], [1, 3], [1, 2], [2, 4], [5, 2]]"
   ]
  },
  {
   "cell_type": "code",
   "execution_count": 18,
   "metadata": {},
   "outputs": [],
   "source": [
    "\n",
    "dictionary={k:i+1 for i,k in enumerate([chr(i) for i in range(ord(\"A\"),ord(\"Z\")+1)])}"
   ]
  },
  {
   "cell_type": "code",
   "execution_count": 19,
   "metadata": {},
   "outputs": [],
   "source": [
    "msg=\"KAKAO\"\n",
    "answer=[]\n",
    "w,c=0,0"
   ]
  },
  {
   "cell_type": "code",
   "execution_count": 20,
   "metadata": {},
   "outputs": [],
   "source": [
    "while True:\n",
    "    c+=1\n",
    "    if c==len(msg):\n",
    "        answer.append(dictionary[msg[w:c]])\n",
    "        break\n",
    "    \n",
    "    if msg[w:c+1] not in dictionary:\n",
    "        dictionary[msg[w:c+1]]=len(dictionary)+1\n",
    "        answer.append(dictionary[msg[w:c]])\n",
    "        w=c\n",
    "    "
   ]
  },
  {
   "cell_type": "code",
   "execution_count": null,
   "metadata": {},
   "outputs": [],
   "source": []
  },
  {
   "cell_type": "code",
   "execution_count": 21,
   "metadata": {},
   "outputs": [
    {
     "data": {
      "text/plain": [
       "[11, 1, 27, 15]"
      ]
     },
     "execution_count": 21,
     "metadata": {},
     "output_type": "execute_result"
    }
   ],
   "source": [
    "answer"
   ]
  },
  {
   "cell_type": "code",
   "execution_count": 28,
   "metadata": {},
   "outputs": [],
   "source": [
    "routes=[[-20,-1], [-14,-5], [-18,-13], [-5,-3]]"
   ]
  },
  {
   "cell_type": "code",
   "execution_count": 29,
   "metadata": {},
   "outputs": [],
   "source": [
    "routes=sorted(routes,key=lambda x :x[1])"
   ]
  },
  {
   "cell_type": "code",
   "execution_count": 30,
   "metadata": {},
   "outputs": [
    {
     "data": {
      "text/plain": [
       "[[-18, -13], [-14, -5], [-5, -3], [-20, -1]]"
      ]
     },
     "execution_count": 30,
     "metadata": {},
     "output_type": "execute_result"
    }
   ],
   "source": [
    "routes"
   ]
  },
  {
   "cell_type": "code",
   "execution_count": 25,
   "metadata": {},
   "outputs": [],
   "source": [
    "camera=-30001"
   ]
  },
  {
   "cell_type": "code",
   "execution_count": 26,
   "metadata": {},
   "outputs": [],
   "source": [
    "answer=0\n",
    "for route in routes:\n",
    "    if camera<route[0]:\n",
    "        answer+=1\n",
    "        camera=route[1]"
   ]
  },
  {
   "cell_type": "code",
   "execution_count": 27,
   "metadata": {},
   "outputs": [
    {
     "data": {
      "text/plain": [
       "2"
      ]
     },
     "execution_count": 27,
     "metadata": {},
     "output_type": "execute_result"
    }
   ],
   "source": [
    "answer"
   ]
  },
  {
   "cell_type": "code",
   "execution_count": null,
   "metadata": {},
   "outputs": [],
   "source": []
  }
 ],
 "metadata": {
  "kernelspec": {
   "display_name": "Python 3",
   "language": "python",
   "name": "python3"
  },
  "language_info": {
   "codemirror_mode": {
    "name": "ipython",
    "version": 3
   },
   "file_extension": ".py",
   "mimetype": "text/x-python",
   "name": "python",
   "nbconvert_exporter": "python",
   "pygments_lexer": "ipython3",
   "version": "3.8.5"
  }
 },
 "nbformat": 4,
 "nbformat_minor": 4
}
