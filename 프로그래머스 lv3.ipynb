{
 "cells": [
  {
   "cell_type": "markdown",
   "metadata": {},
   "source": [
    "# **네트워크**"
   ]
  },
  {
   "cell_type": "markdown",
   "metadata": {},
   "source": [
    "![](lv3\\네트워크.png)"
   ]
  },
  {
   "cell_type": "markdown",
   "metadata": {},
   "source": [
    "bfs풀이"
   ]
  },
  {
   "cell_type": "code",
   "execution_count": 24,
   "metadata": {},
   "outputs": [],
   "source": [
    "from collections import deque\n",
    "computers=[[1, 1, 0], [1, 1, 1], [0, 1, 1]]\n",
    "n=3\n",
    "\n",
    "\n",
    "def solution(n, computers):\n",
    "    visit = [False for _ in range(n)]\n",
    "    que = deque()\n",
    "    ans = 0\n",
    "    while visit.count(False) != 0:\n",
    "        node = visit.index(False)\n",
    "        que.append(node)\n",
    "\n",
    "        while que:\n",
    "            visitedNode = que.popleft()\n",
    "            visit[visitedNode] = True\n",
    "\n",
    "            for i in range(n):\n",
    "                if computers[visitedNode][i] != 0 and visit[i] == False:\n",
    "                    que.append(i)\n",
    "                    \n",
    "        ans += 1\n",
    "    return ans"
   ]
  },
  {
   "cell_type": "code",
   "execution_count": 25,
   "metadata": {},
   "outputs": [
    {
     "data": {
      "text/plain": [
       "1"
      ]
     },
     "execution_count": 25,
     "metadata": {},
     "output_type": "execute_result"
    }
   ],
   "source": [
    "solution(n,computers)"
   ]
  },
  {
   "cell_type": "markdown",
   "metadata": {},
   "source": [
    "dfs풀이"
   ]
  },
  {
   "cell_type": "code",
   "execution_count": 26,
   "metadata": {},
   "outputs": [],
   "source": [
    "def dfs(root,visit,computers):\n",
    "    visit[root]=True\n",
    "    for i in range(len(visit)):\n",
    "        if not visit[i] and computers[root][i]:\n",
    "            computers[root][i],computers[i][root]=0,0\n",
    "            dfs(i,visit,computers)\n",
    "def solution(n, computers):\n",
    "    visit=[False]*n\n",
    "    ans=0\n",
    "    for i in range(n):\n",
    "        if not visit[i]:\n",
    "            dfs(i,visit,computers)\n",
    "            ans+=1\n",
    "    return ans"
   ]
  },
  {
   "cell_type": "code",
   "execution_count": 27,
   "metadata": {},
   "outputs": [
    {
     "data": {
      "text/plain": [
       "1"
      ]
     },
     "execution_count": 27,
     "metadata": {},
     "output_type": "execute_result"
    }
   ],
   "source": [
    "solution(n,computers)"
   ]
  },
  {
   "cell_type": "markdown",
   "metadata": {},
   "source": [
    "**총평 :**  \n",
    "**BFS/DFS를 처음 접하는데 적용하기까지 상당히 오랜 시간 걸렸다....이문제에서 둘의 차이는 크지 않지만 앞으로의 문제에서    복잡도를 고려했을 때 효율성도 따져봐야 할 것 같다.**"
   ]
  },
  {
   "cell_type": "markdown",
   "metadata": {},
   "source": [
    "----------------------------------------------"
   ]
  },
  {
   "cell_type": "markdown",
   "metadata": {},
   "source": [
    "# **N으로 표현**"
   ]
  },
  {
   "cell_type": "markdown",
   "metadata": {},
   "source": [
    "![](lv3\\N으로표현.png)"
   ]
  },
  {
   "cell_type": "code",
   "execution_count": 12,
   "metadata": {},
   "outputs": [],
   "source": [
    "def solution(n,number):\n",
    "    dp=[{n}]\n",
    "    answer=-1\n",
    "    if n==number:\n",
    "        return 1\n",
    "    for i in range(2,9):\n",
    "        case={int(str(n)*i)}\n",
    "        for a in range(i-1):\n",
    "            for j in dp[a]:\n",
    "                for k in dp[-a-1]:\n",
    "                    case.add(j+k)\n",
    "                    case.add(j-k)\n",
    "                    case.add(j*k)\n",
    "\n",
    "                    if k!=0:\n",
    "                        case.add(j/k)\n",
    "\n",
    "        if number in case:\n",
    "            answer=i\n",
    "            break\n",
    "        dp.append(case)\n",
    "    return answer"
   ]
  },
  {
   "cell_type": "markdown",
   "metadata": {},
   "source": [
    "**총평 : dp 문제에서 어려운 편. 5를 한 번 썼을 때, 만들 수 있는 case={5}, 두번 썼을 땐 {55,case1의 사칙연산}, 세번 썼을 땐, {555,case1과 case2사칙연산, case2와 case1 사칙연산}.......... 다르게 해석하면 2=1+1, 3=2+1,1+2, 4=1+2,2+2,2+1....**"
   ]
  },
  {
   "cell_type": "markdown",
   "metadata": {},
   "source": [
    "------------------------------------------------------------------------------"
   ]
  },
  {
   "cell_type": "markdown",
   "metadata": {},
   "source": [
    "# **디스크 컨트롤러**"
   ]
  },
  {
   "cell_type": "markdown",
   "metadata": {},
   "source": [
    "![](lv3\\디스크컨트롤러.png)\n",
    "![](lv3\\디스크컨트롤러2.png)"
   ]
  },
  {
   "cell_type": "code",
   "execution_count": 38,
   "metadata": {},
   "outputs": [],
   "source": [
    "import heapq\n",
    "def solution(jobs):\n",
    "    i,now,answer = 0\n",
    "    start=-1\n",
    "    heap=[]\n",
    "    \n",
    "    while i<len(jobs):\n",
    "        for j in jobs:\n",
    "            if start<j[0]<=now:\n",
    "                heapq.heappush(heap,[j[1],j[0]])\n",
    "        \n",
    "        if len(heap)>0:\n",
    "            current=heapq.heappop(heap)\n",
    "            start=now \n",
    "            now+=current[0]\n",
    "            answer+=now-current[1]\n",
    "            i+=1\n",
    "            \n",
    "        else:\n",
    "            now+=1\n",
    "    return int(answer/len(jobs))"
   ]
  },
  {
   "cell_type": "markdown",
   "metadata": {},
   "source": [
    "**총평 : heap방식은 쉬우니까 이해한다 치는데 변수 선언하는데 골치 아팠다. 우선 SJF스케줄링이 최소 평균을 반환한다는건 알아두면 좋을거 같고.**"
   ]
  },
  {
   "cell_type": "markdown",
   "metadata": {},
   "source": [
    "# **여행경로**"
   ]
  },
  {
   "cell_type": "markdown",
   "metadata": {},
   "source": [
    "![](lv3\\여행경로.png)"
   ]
  },
  {
   "cell_type": "code",
   "execution_count": null,
   "metadata": {},
   "outputs": [],
   "source": [
    "def dfs(route,path,N,here):\n",
    "    if len(path)==N+1:\n",
    "        return True\n",
    "    if here not in route:\n",
    "        path.pop()\n",
    "        return False\n",
    "    for i in range(len(route[here])):\n",
    "        there.route[here].pop()\n",
    "        \n",
    "        if dfs(route,path,N,there):\n",
    "            return True\n",
    "        \n",
    "        route[here].insert(0,there)\n",
    "    \n",
    "    path.pop()\n",
    "    \n",
    "    return False"
   ]
  },
  {
   "cell_type": "code",
   "execution_count": 42,
   "metadata": {},
   "outputs": [],
   "source": [
    "def dfs(route,path,N,here):\n",
    "    path.append(here)\n",
    "    \n",
    "    if len(path)==N+1:\n",
    "        return True\n",
    "    \n",
    "    if here not in route:\n",
    "        path.pop()\n",
    "        return False\n",
    "    \n",
    "    for i in range(len(route[here])):\n",
    "        there=route[here].pop()\n",
    "        \n",
    "        if dfs(route,path,N,there):\n",
    "            return True\n",
    "        \n",
    "        route[here].insert(0,there)\n",
    "    \n",
    "    path.pop()\n",
    "    return False\n",
    "    \n",
    "def solution(tickets):\n",
    "    route=dict()\n",
    "    for i in tickets:\n",
    "        if i[0] in route:\n",
    "            route[i[0]].append(i[1])\n",
    "        else:\n",
    "            route[i[0]]=[i[1]]\n",
    "    for i in route.values():\n",
    "        i.sort(reverse=True)\n",
    "\n",
    "    N=len(tickets)\n",
    "    path=[]\n",
    "    if dfs(route,path,N,'ICN'):\n",
    "        answer=path\n",
    "    return answer"
   ]
  },
  {
   "cell_type": "markdown",
   "metadata": {},
   "source": [
    "**총평 : DFS라고 문제에서 제시했고 생각보다 쉬울 거라 생각했는데 테스트 케이스 1,2번에서 계속 막혔다. tickets=[['ICN','B'],['B','ICN'],['ICN','A'],['A','D'],['D','A']] 의 경우의 수를 이해하기 힘들었다. 잘못 갔으면 다시 시작해야 하는 코드를 짜야했는데 이 부분때문에 오래 걸렸다. dfs 몇 문제를 더 풀어봐야겠다.**"
   ]
  },
  {
   "cell_type": "markdown",
   "metadata": {},
   "source": [
    "-------------------------------------------------------------------------"
   ]
  },
  {
   "cell_type": "markdown",
   "metadata": {},
   "source": [
    "# **단어변환**"
   ]
  },
  {
   "cell_type": "markdown",
   "metadata": {},
   "source": [
    "![](lv3\\단어변환.png)"
   ]
  },
  {
   "cell_type": "code",
   "execution_count": 44,
   "metadata": {},
   "outputs": [],
   "source": [
    "begin,target,words=\"hit\", \"cog\", [\"hot\", \"dot\", \"dog\", \"lot\", \"log\", \"cog\"]"
   ]
  },
  {
   "cell_type": "code",
   "execution_count": 45,
   "metadata": {},
   "outputs": [],
   "source": [
    "def solution(begin,target,words):\n",
    "    answer=0\n",
    "    visit=[False]*len(words)\n",
    "    if not target in words:\n",
    "        return 0\n",
    "    else:\n",
    "        stacks=[begin]\n",
    "        \n",
    "        while stacks:\n",
    "            stack=stacks.pop()\n",
    "            \n",
    "            if stack==target:\n",
    "                return answer\n",
    "            \n",
    "            for w in range(len(visit)):\n",
    "                if len([i for i in range(len(words[w])) if words[w][i] != stack[i]])==1:\n",
    "                    if not visit[w]:\n",
    "                        visit[w]=True\n",
    "                        stacks.append(words[w])\n",
    "        answer+=1\n",
    "    return answer\n",
    "        "
   ]
  },
  {
   "cell_type": "markdown",
   "metadata": {},
   "source": [
    "**총평 : DFS 풀이로 훓을 때 단어 하나만 다른지 확인하고 스택에 쌓아두면 됨**"
   ]
  },
  {
   "cell_type": "markdown",
   "metadata": {},
   "source": [
    "-----------------------------------------------------------"
   ]
  },
  {
   "cell_type": "markdown",
   "metadata": {},
   "source": [
    "# **N-Queen (backtracking)**"
   ]
  },
  {
   "cell_type": "markdown",
   "metadata": {},
   "source": [
    "![](lv3\\N-queen.png)"
   ]
  },
  {
   "cell_type": "code",
   "execution_count": 49,
   "metadata": {},
   "outputs": [],
   "source": [
    "def dfs(queen,row,n):\n",
    "    count=0\n",
    "    if row==n:\n",
    "        return 1\n",
    "    \n",
    "    for col in range(n):\n",
    "        queen[row]=col\n",
    "        \n",
    "        for j in range(row):\n",
    "            if queen[j]==queen[row] or abs(queen[j]-queen[row])==row-j:\n",
    "                break\n",
    "        \n",
    "        else:\n",
    "            count+=dfs(queen,row+1,n)\n",
    "    \n",
    "    return count\n",
    "\n",
    "\n",
    "def solution(n):\n",
    "    queen=[0]*n\n",
    "    answer=dfs(queen,0,n)\n",
    "    return answer"
   ]
  },
  {
   "cell_type": "code",
   "execution_count": 50,
   "metadata": {},
   "outputs": [
    {
     "data": {
      "text/plain": [
       "2"
      ]
     },
     "execution_count": 50,
     "metadata": {},
     "output_type": "execute_result"
    }
   ],
   "source": [
    "solution(4)"
   ]
  },
  {
   "cell_type": "markdown",
   "metadata": {},
   "source": [
    "--------------------------------------"
   ]
  },
  {
   "cell_type": "markdown",
   "metadata": {},
   "source": [
    "# **등굣길**"
   ]
  },
  {
   "cell_type": "markdown",
   "metadata": {},
   "source": [
    "![](lv3\\등굣길.png)"
   ]
  },
  {
   "cell_type": "code",
   "execution_count": 51,
   "metadata": {},
   "outputs": [],
   "source": [
    "def solution(m,n,puddles):\n",
    "    arr=[[0]*m for x in range(n)]\n",
    "    arr[0][0]=1\n",
    "    for i in puddles:\n",
    "        arr[i[1]-1][i[0]-1]=None\n",
    "    \n",
    "    for i in range(n):\n",
    "        for j in range(m):\n",
    "            if arr[i][j] is not None:\n",
    "                arr[i][j]+=0 if arr[i-1][j] is None else arr[i-1][j]\n",
    "                arr[i][j]+=0 if arr[i][j-1] is None else arr[i][j-1]\n",
    "    \n",
    "    return arr[-1][-1]%1000000007"
   ]
  },
  {
   "cell_type": "code",
   "execution_count": 52,
   "metadata": {},
   "outputs": [
    {
     "data": {
      "text/plain": [
       "4"
      ]
     },
     "execution_count": 52,
     "metadata": {},
     "output_type": "execute_result"
    }
   ],
   "source": [
    "solution(4,3,[[2,2]])"
   ]
  },
  {
   "cell_type": "markdown",
   "metadata": {},
   "source": [
    "**총평 : dp 문제 치고 쉬웠다. lv3 들어오고 네트워크 다음으로 쉬운 문제로 체감. 이전 블록에서 다음블록으로 나올 수 있는 경로가 2가지 이기에 이 2가지 경로 중 웅덩이에 가로 막히냐 안 막히냐를 세주면 됨.** "
   ]
  },
  {
   "cell_type": "markdown",
   "metadata": {},
   "source": [
    "--------------------------------------------------------------------------"
   ]
  },
  {
   "cell_type": "markdown",
   "metadata": {},
   "source": [
    "# **섬 연결하기**"
   ]
  },
  {
   "cell_type": "markdown",
   "metadata": {},
   "source": [
    "![](lv3\\섬연결하기.png)"
   ]
  },
  {
   "cell_type": "code",
   "execution_count": 1,
   "metadata": {},
   "outputs": [],
   "source": [
    "def find(u,p):\n",
    "    if u!=p[u]:\n",
    "        u=find(p[u],p)\n",
    "    return p[u]\n",
    "\n",
    "def union(a,b,p):\n",
    "    x=find(a,p)\n",
    "    y=find(b,p)\n",
    "    p[x]=y\n",
    "    \n",
    "def solution(n,costs):\n",
    "    costs.sort(key=lambda x:x[2])\n",
    "    p=[x for x in range(n+1)]\n",
    "    answer, node=0,0 # node는 간선의 갯수\n",
    "    \n",
    "    while True:\n",
    "        if node==n-1:\n",
    "            break\n",
    "        \n",
    "        u,v,c=costs.pop(0)\n",
    "        \n",
    "        if find(u,p)!=find(v,p):\n",
    "            union(u,v,p)\n",
    "            answer+=c\n",
    "            node+=1\n",
    "    return answer\n",
    "\n"
   ]
  },
  {
   "cell_type": "code",
   "execution_count": 2,
   "metadata": {
    "scrolled": true
   },
   "outputs": [
    {
     "data": {
      "text/plain": [
       "4"
      ]
     },
     "execution_count": 2,
     "metadata": {},
     "output_type": "execute_result"
    }
   ],
   "source": [
    "solution(4,[[0,1,1],[0,2,2],[1,2,5],[1,3,1],[2,3,8]])"
   ]
  },
  {
   "cell_type": "markdown",
   "metadata": {},
   "source": [
    "**총평 : 계속해서 뻘짓하다가 크루스칼 알고리즘이라고 그리디 알고리즘이 따로 있었다. 이 알고리즘은 모든 간선을 최소 비용을 연결하는데 집중하는 알고리즘으로 몇 가지 전제 조건이 있다. 우선 비용을 기준으로 정렬하고 사이클이 없도록 해야 한다는 것. 사이클이 없기 위해선 각 노드가 각 집합의 대표를 맡고 집합으로 묶어주는 함수를 짜주면 된다.**"
   ]
  },
  {
   "cell_type": "markdown",
   "metadata": {},
   "source": [
    "----------------------------------------------"
   ]
  },
  {
   "cell_type": "markdown",
   "metadata": {},
   "source": [
    "# **멀리 뛰기**"
   ]
  },
  {
   "cell_type": "markdown",
   "metadata": {},
   "source": [
    "![](lv3\\멀리뛰기.png)"
   ]
  },
  {
   "cell_type": "code",
   "execution_count": 7,
   "metadata": {},
   "outputs": [],
   "source": [
    "def solution(n):\n",
    "    if n<3:return n\n",
    "    val1,val2=1,2\n",
    "    for i in range(3,n+1):\n",
    "        val1,val2=val2,(val1+val2)\n",
    "    \n",
    "    return val2%1234567"
   ]
  },
  {
   "cell_type": "markdown",
   "metadata": {},
   "source": [
    "**총평 : 수열 규칙만 알아내면 쉽다.(피보나치)**"
   ]
  },
  {
   "cell_type": "markdown",
   "metadata": {},
   "source": [
    "--------------------------------------------------------------------"
   ]
  },
  {
   "cell_type": "markdown",
   "metadata": {},
   "source": [
    "# **배달 (lv2 - 다익스트라)** "
   ]
  },
  {
   "cell_type": "markdown",
   "metadata": {},
   "source": [
    "![](lv3\\배달.png)"
   ]
  },
  {
   "cell_type": "code",
   "execution_count": 8,
   "metadata": {},
   "outputs": [],
   "source": [
    "import heapq\n",
    "from collections import defaultdict\n",
    "def solution(N,road,K):\n",
    "    graph=defaultdict(list)\n",
    "    answer=0\n",
    "    \n",
    "    for u,v,w in road:\n",
    "        graph[u].append((v,w))\n",
    "        graph[v].append((u,w))\n",
    "        \n",
    "    q=[(0,1)]\n",
    "    dist=defaultdict(int)\n",
    "    while q:\n",
    "        d,node = heapq.heappop(q)\n",
    "        if node not in dist: # 이 과정에서 중복을 거른다. heap구조로 넣었기 때문에 노드 당 최소 거리만 우선으로 들어감.\n",
    "            dist[node]=d\n",
    "            for v,w in graph[node]:\n",
    "                next_dist=d+w\n",
    "                heapq.heappush(q,(next_dist,v))\n",
    "    \n",
    "    for key in dist:\n",
    "        if dist[key]<=K:\n",
    "            answer+=1\n",
    "    \n",
    "    return answer"
   ]
  },
  {
   "cell_type": "markdown",
   "metadata": {},
   "source": [
    "**총평 : 다익스트라 배웠는데도 적용시키기 어려웠다.....**"
   ]
  },
  {
   "cell_type": "markdown",
   "metadata": {},
   "source": [
    "(다익스트라 알고리즘)"
   ]
  },
  {
   "cell_type": "code",
   "execution_count": 10,
   "metadata": {},
   "outputs": [
    {
     "name": "stdout",
     "output_type": "stream",
     "text": [
      "0\n",
      "2\n",
      "3\n",
      "1\n",
      "2\n",
      "4\n"
     ]
    }
   ],
   "source": [
    "def get_smallest_node(n,distance,visited):\n",
    "    min_value=10001\n",
    "    index=0\n",
    "    for i in range(1,n):\n",
    "        if distance[i]<min_value and not visited[i]:\n",
    "            min_value=distance[i]\n",
    "            index=i\n",
    "    return index\n",
    "\n",
    "\n",
    "def dijkstra(n,graph,start):\n",
    "    distance=[10001]*(n+1)\n",
    "    visited=[False]*(n+1)\n",
    "    distance[start]=0\n",
    "    visited[start]=True\n",
    "    for j in graph[start]:\n",
    "        distance[j[0]]=j[1]\n",
    "        \n",
    "    for i in range(n-1):\n",
    "        now=get_smallest_node(n,distance,visited)\n",
    "        visited[now]=True\n",
    "        \n",
    "        for j in graph[now]:\n",
    "            cost=distance[now]+j[1]\n",
    "            \n",
    "            if cost<distance[j[0]]:\n",
    "                distance[j[0]]=cost\n",
    "                \n",
    "    for i in range(1, n+1):\n",
    "        if distance[i]==10001:\n",
    "            print(\"무한\")\n",
    "        else:\n",
    "            print(distance[i])\n",
    "\n",
    "\n",
    "graph=[[],[(2,2),(3,5),(4,1)],[(3,3),(4,2)],[(2,3),(6,5)],[(3,3),(5,1)],[(3,1),(6,2)]]\n",
    "\n",
    "dijkstra(6,graph,1)"
   ]
  },
  {
   "cell_type": "markdown",
   "metadata": {},
   "source": [
    "다익스트라(힙방식)"
   ]
  },
  {
   "cell_type": "code",
   "execution_count": 11,
   "metadata": {},
   "outputs": [],
   "source": [
    "import heapq\n",
    "\n",
    "\n",
    "def dijkstra(n,graph,start):\n",
    "    q=[]\n",
    "    heapq.heappush(q,(0,start))\n",
    "    distance=[100001]*(n+1)\n",
    "    distance[start]=0\n",
    "    \n",
    "    while q:\n",
    "        dist, now = heapq.heappop(q)\n",
    "        \n",
    "        if distance[now]<dist:\n",
    "            continue\n",
    "            \n",
    "        for i in graph[now]:\n",
    "            cost=dist+i[1]\n",
    "            \n",
    "            if cost<distance[i[0]]:\n",
    "                distance[i[0]]=cost\n",
    "                heapq.heappush(q,(cost,i[0]))\n",
    "    "
   ]
  },
  {
   "cell_type": "markdown",
   "metadata": {},
   "source": [
    "-------------------------------------------"
   ]
  },
  {
   "cell_type": "markdown",
   "metadata": {},
   "source": [
    "# **이중우선순위큐**"
   ]
  },
  {
   "cell_type": "markdown",
   "metadata": {},
   "source": [
    "![](lv3\\이중우선순위큐.png)"
   ]
  },
  {
   "cell_type": "code",
   "execution_count": 28,
   "metadata": {},
   "outputs": [
    {
     "data": {
      "text/plain": [
       "[5, 7]"
      ]
     },
     "execution_count": 28,
     "metadata": {},
     "output_type": "execute_result"
    }
   ],
   "source": [
    "operations=[\"I 7\",\"I 5\",\"I -5\",\"D -1\"]\n",
    "\n",
    "import re\n",
    "import heapq\n",
    "def solution(operations):\n",
    "    answer=[]\n",
    "    for op in operations:\n",
    "        if op[0]==\"I\":\n",
    "            a=int(re.findall(\"\\-?\\d+\",op)[0])\n",
    "            heapq.heappush(answer,a)\n",
    "        elif op==\"D -1\":\n",
    "            try:\n",
    "                heapq.heappop(answer)\n",
    "            except:\n",
    "                continue\n",
    "        else:\n",
    "            try:\n",
    "                answer.pop(answer.index(heapq.nlargest(1,answer)[0]))\n",
    "            except:\n",
    "                continue\n",
    "    if len(answer)==0:\n",
    "        return [0,0]\n",
    "\n",
    "    return [max(answer),min(answer)]\n",
    "solution(operations)"
   ]
  },
  {
   "cell_type": "markdown",
   "metadata": {},
   "source": [
    "**총평 : 문제는 쉬웠다. lv3정도 체감 x. 최소힙에서 최대값 꺼낼 수 있는 함수 nlargest**"
   ]
  },
  {
   "cell_type": "markdown",
   "metadata": {},
   "source": [
    "---------------------------------------------------------------------"
   ]
  },
  {
   "cell_type": "markdown",
   "metadata": {},
   "source": [
    "# **가장 긴 펠렌드롬**"
   ]
  },
  {
   "cell_type": "markdown",
   "metadata": {},
   "source": [
    "![](lv3\\가장긴펠렌드롬.png)"
   ]
  },
  {
   "cell_type": "code",
   "execution_count": 1,
   "metadata": {},
   "outputs": [],
   "source": [
    "def checking(s):\n",
    "    return s==s[::-1]\n",
    "def solution(s):\n",
    "    max_v=-1\n",
    "    for i in range(len(s)):\n",
    "        for j in range(i,len(s)+1):\n",
    "            if checking(s[i:j]):\n",
    "                if max_v <len(s[i:j]):\n",
    "                    max_v=len(s[i:j])\n",
    "    return max_v\n",
    "    "
   ]
  },
  {
   "cell_type": "code",
   "execution_count": 2,
   "metadata": {},
   "outputs": [
    {
     "data": {
      "text/plain": [
       "3"
      ]
     },
     "execution_count": 2,
     "metadata": {},
     "output_type": "execute_result"
    }
   ],
   "source": [
    "solution(\"abacde\")"
   ]
  },
  {
   "cell_type": "markdown",
   "metadata": {},
   "source": [
    "**총평 : 자리수 보면서 가장 긴 펠렌드롬 찾는걸로 밖에 설명 안 됨. 다만 다른 사람풀이가 훨씬 효율적.... 자리수대로 끊어서 5자리 확인 4자리 확인 3자리 확인 하면서 가장 킨 거 찾기**"
   ]
  },
  {
   "cell_type": "markdown",
   "metadata": {},
   "source": [
    "다른사람풀이"
   ]
  },
  {
   "cell_type": "code",
   "execution_count": 3,
   "metadata": {},
   "outputs": [],
   "source": [
    "def solution(s):\n",
    "    for i in range(len(s),0,-1):\n",
    "        for j in range(len(s)):\n",
    "            if checking(s[j:j+i]):\n",
    "                return s[j:j+i]\n",
    "            if j+i>len(s):\n",
    "                break"
   ]
  },
  {
   "cell_type": "code",
   "execution_count": 5,
   "metadata": {},
   "outputs": [
    {
     "data": {
      "text/plain": [
       "'aba'"
      ]
     },
     "execution_count": 5,
     "metadata": {},
     "output_type": "execute_result"
    }
   ],
   "source": [
    "solution(\"abacde\")"
   ]
  },
  {
   "cell_type": "markdown",
   "metadata": {},
   "source": [
    "------------------------"
   ]
  },
  {
   "cell_type": "markdown",
   "metadata": {},
   "source": [
    "# **가장 먼 노드**"
   ]
  },
  {
   "cell_type": "markdown",
   "metadata": {},
   "source": [
    "![](lv3\\가장먼노드.png)"
   ]
  },
  {
   "cell_type": "code",
   "execution_count": 46,
   "metadata": {},
   "outputs": [],
   "source": [
    "n,graph=6,[[3, 6], [4, 3], [3, 2], [1, 3], [1, 2], [2, 4], [5, 2]]"
   ]
  },
  {
   "cell_type": "code",
   "execution_count": 47,
   "metadata": {},
   "outputs": [],
   "source": [
    "from collections import deque\n",
    "\n",
    "def solution(n,graph):\n",
    "    answer=0\n",
    "\n",
    "    visited=[-1]*(n+1)\n",
    "\n",
    "    adj=[[] for _ in range(n+1)]\n",
    "\n",
    "    for i in graph:\n",
    "        x=i[0]\n",
    "        y=i[1]\n",
    "        adj[x].append(y)\n",
    "        adj[y].append(x)\n",
    "\n",
    "\n",
    "    queue=deque([[1,0]])\n",
    "    while queue:\n",
    "        v,cnt=queue.popleft()\n",
    "        if visited[v]==-1:\n",
    "            visited[v]=cnt\n",
    "            cnt+=1\n",
    "            for i in adj[v]:\n",
    "                queue.append([i,cnt])\n",
    "\n",
    "    for i in visited:\n",
    "        if i ==max(visited):\n",
    "            answer+=1\n",
    "    \n",
    "    return answer\n"
   ]
  },
  {
   "cell_type": "code",
   "execution_count": 48,
   "metadata": {},
   "outputs": [
    {
     "data": {
      "text/plain": [
       "3"
      ]
     },
     "execution_count": 48,
     "metadata": {},
     "output_type": "execute_result"
    }
   ],
   "source": [
    "solution(n,graph)"
   ]
  },
  {
   "cell_type": "markdown",
   "metadata": {},
   "source": [
    "**총평 : 단순한 bfs 문제였는데 visited에 방문 여부만 표시하는게 아니라 cnt 변수를 저장하여 활용**"
   ]
  },
  {
   "cell_type": "markdown",
   "metadata": {},
   "source": [
    "------------------------------------------------"
   ]
  },
  {
   "cell_type": "markdown",
   "metadata": {},
   "source": [
    "# **단속카메라**"
   ]
  },
  {
   "cell_type": "markdown",
   "metadata": {},
   "source": [
    "![](lv3\\단속카메라.png)"
   ]
  },
  {
   "cell_type": "code",
   "execution_count": 2,
   "metadata": {},
   "outputs": [],
   "source": [
    "def solution(routes):\n",
    "    answer=0\n",
    "    camera=-30001\n",
    "    routes=sorted(routes,key=lambda x : x[1])\n",
    "    \n",
    "    for i in routes:\n",
    "        if camera<i[0]:\n",
    "            answer+=1\n",
    "            camera=i[1]\n",
    "    return answer"
   ]
  },
  {
   "cell_type": "code",
   "execution_count": 4,
   "metadata": {},
   "outputs": [
    {
     "data": {
      "text/plain": [
       "2"
      ]
     },
     "execution_count": 4,
     "metadata": {},
     "output_type": "execute_result"
    }
   ],
   "source": [
    "solution([[-20,15], [-14,-5], [-18,-13], [-5,-3]])"
   ]
  },
  {
   "cell_type": "markdown",
   "metadata": {},
   "source": [
    "**총평 : 그리디의 전형적인 문제.. lv3까진 아닌 것 같다.**"
   ]
  },
  {
   "cell_type": "markdown",
   "metadata": {},
   "source": [
    "더 오래 걸린 풀이(O(N^2))"
   ]
  },
  {
   "cell_type": "code",
   "execution_count": null,
   "metadata": {},
   "outputs": [],
   "source": [
    "def solution(routes):\n",
    "    answer=0\n",
    "    checked=[0]*len(routes)\n",
    "    routes=sorted(routes,key=lambda x : x[1])\n",
    "    for i in range(len(routes)):\n",
    "        if checked[i]==0:\n",
    "            camera=routes[i][1]\n",
    "            answer+=1\n",
    "        \n",
    "        for j in range(i+1,len(routes)):\n",
    "            if routes[j][0]<= camera <=routes[j][1] and checked[j]==0:\n",
    "                checked[j]=1\n",
    "    \n",
    "    return answer"
   ]
  },
  {
   "cell_type": "markdown",
   "metadata": {},
   "source": [
    "-----------------"
   ]
  },
  {
   "cell_type": "markdown",
   "metadata": {},
   "source": [
    "# **합승택시요금**"
   ]
  },
  {
   "cell_type": "markdown",
   "metadata": {},
   "source": [
    "![](lv3\\합승택시요금.png)"
   ]
  },
  {
   "cell_type": "code",
   "execution_count": 128,
   "metadata": {},
   "outputs": [],
   "source": [
    "n,s,a,b,fares=6,4,6,2,[[4, 1, 10], [3, 5, 24], [5, 6, 2], [3, 1, 41], [5, 1, 24], [4, 6, 50], [2, 4, 66], [2, 3, 22], [1, 6, 25]]"
   ]
  },
  {
   "cell_type": "code",
   "execution_count": 129,
   "metadata": {},
   "outputs": [],
   "source": [
    "def solution(n,s,a,b,fares):\n",
    "    INF=int(1e9)\n",
    "    graph=[[INF]*n for _ in range(n)]\n",
    "\n",
    "    for i in range(n):\n",
    "        graph[i][i]=0\n",
    "\n",
    "    for i in fares:\n",
    "        graph[i[0]-1][i[1]-1]=i[2]\n",
    "        graph[i[1]-1][i[0]-1]=i[2]\n",
    "\n",
    "    for t in range(n):\n",
    "        for i in range(n):\n",
    "            for j in range(i,n): # 절반으로 자르는 부분이 없으면 효율성에서 걸림\n",
    "                if i!=j:\n",
    "                    temp = min(graph[i][j],graph[i][t] + graph[t][j])\n",
    "                    graph[i][j] = graph[j][i] = temp\n",
    "                \n",
    "    \n",
    "    answer = INF\n",
    "    for t in range(n):                            \n",
    "        temp = graph[s - 1][t] + graph[t][b - 1] + graph[t][a - 1]      \n",
    "        answer = min(answer, temp)\n",
    "\n",
    "\n",
    "    return answer"
   ]
  },
  {
   "cell_type": "code",
   "execution_count": 132,
   "metadata": {},
   "outputs": [
    {
     "data": {
      "text/plain": [
       "82"
      ]
     },
     "execution_count": 132,
     "metadata": {},
     "output_type": "execute_result"
    }
   ],
   "source": [
    "solution(n,s,a,b,fares)"
   ]
  },
  {
   "cell_type": "markdown",
   "metadata": {},
   "source": [
    "**총평 : 처음에 다익스트라로 풀려다가 시간 때문에 관뒀다. 플로이드워셜 문제로 각 노드에서 노드로 가는 모든 비용을 구한다. 이후에 거칠 노드를 탐색하여 최소 비용을 구하면 된다.**"
   ]
  },
  {
   "cell_type": "markdown",
   "metadata": {},
   "source": [
    "(다익스트라)"
   ]
  },
  {
   "cell_type": "code",
   "execution_count": 131,
   "metadata": {},
   "outputs": [],
   "source": [
    "import heapq\n",
    "from collections import defaultdict \n",
    "def solution(n,s,a,b,fares):\n",
    "    graph=defaultdict(list)\n",
    "    for u,v,w in fares:\n",
    "        graph[u].append([v,w])\n",
    "        graph[v].append([u,w])\n",
    "        \n",
    "    def dijkstra(start):\n",
    "        q=[(0,start)]\n",
    "        dist=[int(1e9)]*(n+1)\n",
    "        dist[start]=0\n",
    "        while q:\n",
    "            d,node=heapq.heappop(q)\n",
    "            if dist[node]<d:\n",
    "                continue\n",
    "            for v,w in graph[node]:\n",
    "                next_dist=d+w\n",
    "                if dist[v]>next_dist:\n",
    "                    dist[v]=next_dist\n",
    "                    heapq.heappush(q,(next_dist,v))\n",
    "        return dist\n",
    "    \n",
    "    dp = [[]] + [dijkstra(i) for i in range(1, n+1)]\n",
    "    \n",
    "    answer=int(1e9)\n",
    "    for t in range(1,n+1):\n",
    "        answer=min(answer,dp[s][t]+dp[t][a]+dp[t][b])\n",
    "        \n",
    "    return answer"
   ]
  },
  {
   "cell_type": "code",
   "execution_count": null,
   "metadata": {},
   "outputs": [],
   "source": []
  }
 ],
 "metadata": {
  "kernelspec": {
   "display_name": "Python 3",
   "language": "python",
   "name": "python3"
  },
  "language_info": {
   "codemirror_mode": {
    "name": "ipython",
    "version": 3
   },
   "file_extension": ".py",
   "mimetype": "text/x-python",
   "name": "python",
   "nbconvert_exporter": "python",
   "pygments_lexer": "ipython3",
   "version": "3.8.5"
  }
 },
 "nbformat": 4,
 "nbformat_minor": 4
}
