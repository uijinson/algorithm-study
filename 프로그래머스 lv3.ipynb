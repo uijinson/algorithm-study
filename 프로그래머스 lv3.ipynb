{
 "cells": [
  {
   "cell_type": "markdown",
   "metadata": {},
   "source": [
    "# **네트워크**"
   ]
  },
  {
   "cell_type": "markdown",
   "metadata": {},
   "source": [
    "![](lv3\\네트워크.png)"
   ]
  },
  {
   "cell_type": "markdown",
   "metadata": {},
   "source": [
    "bfs풀이"
   ]
  },
  {
   "cell_type": "code",
   "execution_count": null,
   "metadata": {},
   "outputs": [],
   "source": [
    "from collections import deque\n",
    "computers=[[1, 1, 0], [1, 1, 1], [0, 1, 1]]\n",
    "n=3\n",
    "\n",
    "\n",
    "def solution(n, computers):\n",
    "    visit = [False for _ in range(n)]\n",
    "    que = deque()\n",
    "    ans = 0\n",
    "    while visit.count(False) != 0:\n",
    "        node = visit.index(False)\n",
    "        que.append(node)\n",
    "\n",
    "        while que:\n",
    "            visitedNode = que.popleft()\n",
    "            visit[visitedNode] = True\n",
    "\n",
    "            for i in range(n):\n",
    "                if computers[visitedNode][i] != 0 and visit[i] == False:\n",
    "                    que.append(i)\n",
    "                    \n",
    "        ans += 1\n",
    "    return ans"
   ]
  },
  {
   "cell_type": "code",
   "execution_count": 2,
   "metadata": {},
   "outputs": [
    {
     "data": {
      "text/plain": [
       "1"
      ]
     },
     "execution_count": 2,
     "metadata": {},
     "output_type": "execute_result"
    }
   ],
   "source": [
    "solution(n,computers)"
   ]
  },
  {
   "cell_type": "markdown",
   "metadata": {},
   "source": [
    "dfs풀이"
   ]
  },
  {
   "cell_type": "code",
   "execution_count": 9,
   "metadata": {},
   "outputs": [],
   "source": [
    "def dfs(root,visit,computers):\n",
    "    visit[root]=True\n",
    "    for i in range(len(visit)):\n",
    "        if not visit[i] and computers[root][i]:\n",
    "            computers[root][i],computers[i][root]=0,0\n",
    "            dfs(i,visit,computers)\n",
    "def solution(n, computers):\n",
    "    visit=[False]*n\n",
    "    ans=0\n",
    "    for i in range(n):\n",
    "        if not visit[i]:\n",
    "            dfs(i,visit,computers)\n",
    "            ans+=1\n",
    "    return ans"
   ]
  },
  {
   "cell_type": "code",
   "execution_count": 10,
   "metadata": {},
   "outputs": [
    {
     "data": {
      "text/plain": [
       "1"
      ]
     },
     "execution_count": 10,
     "metadata": {},
     "output_type": "execute_result"
    }
   ],
   "source": [
    "solution(n,computers)"
   ]
  },
  {
   "cell_type": "markdown",
   "metadata": {},
   "source": [
    "**총평 :**  \n",
    "**BFS/DFS를 처음 접하는데 적용하기까지 상당히 오랜 시간 걸렸다....이문제에서 둘의 차이는 크지 않지만 앞으로의 문제에서    복잡도를 고려했을 때 효율성도 따져봐야 할 것 같다.**"
   ]
  },
  {
   "cell_type": "markdown",
   "metadata": {},
   "source": [
    "----------------------------------------------"
   ]
  },
  {
   "cell_type": "code",
   "execution_count": null,
   "metadata": {},
   "outputs": [],
   "source": []
  }
 ],
 "metadata": {
  "kernelspec": {
   "display_name": "Python 3",
   "language": "python",
   "name": "python3"
  },
  "language_info": {
   "codemirror_mode": {
    "name": "ipython",
    "version": 3
   },
   "file_extension": ".py",
   "mimetype": "text/x-python",
   "name": "python",
   "nbconvert_exporter": "python",
   "pygments_lexer": "ipython3",
   "version": "3.8.5"
  }
 },
 "nbformat": 4,
 "nbformat_minor": 4
}
